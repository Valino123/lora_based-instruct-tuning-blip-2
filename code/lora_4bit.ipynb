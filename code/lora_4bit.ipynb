{
 "cells": [
  {
   "cell_type": "code",
   "execution_count": 1,
   "metadata": {},
   "outputs": [
    {
     "name": "stderr",
     "output_type": "stream",
     "text": [
      "/data1/wln/miniconda3/envs/llm-pbe/lib/python3.10/site-packages/tqdm/auto.py:21: TqdmWarning: IProgress not found. Please update jupyter and ipywidgets. See https://ipywidgets.readthedocs.io/en/stable/user_install.html\n",
      "  from .autonotebook import tqdm as notebook_tqdm\n",
      "`low_cpu_mem_usage` was None, now default to True since model is quantized.\n",
      "Loading checkpoint shards: 100%|██████████| 2/2 [00:04<00:00,  2.20s/it]\n"
     ]
    }
   ],
   "source": [
    "# set os at top \n",
    "import os\n",
    "os.environ['HF_ENDPOINT'] = 'https://hf-mirror.com'\n",
    "os.environ['HF_HOME'] = '/data1/wln/hf_cache'\n",
    "\n",
    "import torch\n",
    "from transformers import AutoProcessor, Blip2ForConditionalGeneration, TrainingArguments, BitsAndBytesConfig\n",
    "from peft import LoraConfig, get_peft_model, prepare_model_for_kbit_training\n",
    "\n",
    "# quantization config\n",
    "bnb_config = BitsAndBytesConfig(\n",
    "    load_in_4bit=True,\n",
    "    bnb_4bit_quant_type=\"nf4\",\n",
    "    bnb_4bit_use_double_quant=True,\n",
    "    bnb_4bit_compute_dtype=torch.bfloat16,\n",
    ")\n",
    "\n",
    "# load model and processor\n",
    "processor = AutoProcessor.from_pretrained('Salesforce/blip2-opt-2.7b')\n",
    "base_model = Blip2ForConditionalGeneration.from_pretrained(\n",
    "    'Salesforce/blip2-opt-2.7b', \n",
    "    local_files_only=True,\n",
    "    quantization_config=bnb_config\n",
    ")\n",
    "\n",
    "base_model = prepare_model_for_kbit_training(base_model)\n",
    "\n",
    "# set training args \n",
    "training_args = TrainingArguments(\n",
    "    output_dir= 'lora_adapter_loss_x_0312xx',\n",
    "    num_train_epochs=2,\n",
    "    per_device_train_batch_size=4,\n",
    ")\n",
    "\n",
    "# lora config\n",
    "lora_config = LoraConfig(\n",
    "    r=16, #8\n",
    "    lora_alpha=32, #16 \n",
    "    lora_dropout=0.05, #0.05\n",
    "    bias=\"none\"\n",
    ")\n",
    "\n",
    "# get model for training\n",
    "adapter_model = get_peft_model(base_model, lora_config)"
   ]
  },
  {
   "cell_type": "code",
   "execution_count": 2,
   "metadata": {},
   "outputs": [],
   "source": [
    "from datasets import load_from_disk\n",
    "from torch.utils.data import DataLoader, Dataset\n",
    "device = torch.device(\"cuda:0\" if torch.cuda.is_available() else \"cpu\")\n",
    "\n",
    "class ImageCaptionDataset(Dataset):\n",
    "    def __init__(self, dataset, processor):\n",
    "        self.dataset = dataset\n",
    "        self.processor = processor\n",
    "    \n",
    "    def __len__(self):\n",
    "        return len(self.dataset)\n",
    "\n",
    "    def __getitem__(self, index):\n",
    "        item = self.dataset[index]\n",
    "        encoding = self.processor(\n",
    "            images = item['image'],\n",
    "            return_tensors=\"pt\"\n",
    "        )\n",
    "        for k,v in encoding.items():  encoding[k] = v.squeeze()\n",
    "        encoding['caption'] = item['caption'][0] \n",
    "\n",
    "        return encoding\n",
    "\n",
    "def collate_fn(batch):\n",
    "    processed_batch = {}\n",
    "    for key in batch[0].keys():\n",
    "        if key != 'caption':\n",
    "            processed_batch[key] = torch.stack([item[key] for item in batch])\n",
    "        else:\n",
    "            tokenized_caption = processor.tokenizer(\n",
    "                [item[key] for item in batch],\n",
    "                padding=True,\n",
    "                return_tensors=\"pt\"\n",
    "            )\n",
    "            processed_batch['input_ids'] = tokenized_caption['input_ids']\n",
    "    \n",
    "    return processed_batch\n",
    "\n",
    "\n",
    "\n",
    "# load train set\n",
    "train_ds = load_from_disk('../dataset/train_dataset')\n",
    "\n",
    "# convert a huggingface dataset type to pytorch dataset type\n",
    "train_ds_pt = ImageCaptionDataset(train_ds, processor=processor)\n",
    "train_dataloader = DataLoader(train_ds_pt, shuffle=True, batch_size=training_args.per_device_train_batch_size, collate_fn=collate_fn)"
   ]
  },
  {
   "cell_type": "code",
   "execution_count": 3,
   "metadata": {},
   "outputs": [
    {
     "name": "stdout",
     "output_type": "stream",
     "text": [
      "Epoch: 0\n"
     ]
    },
    {
     "name": "stderr",
     "output_type": "stream",
     "text": [
      "  0%|          | 0/1759 [00:00<?, ?it/s]/data1/wln/miniconda3/envs/llm-pbe/lib/python3.10/site-packages/torch/_dynamo/eval_frame.py:600: UserWarning: torch.utils.checkpoint: the use_reentrant parameter should be passed explicitly. In version 2.4 we will raise an exception if use_reentrant is not passed. use_reentrant=False is recommended, but if you need to preserve the current default behavior, you can pass use_reentrant=True. Refer to docs for more details on the differences between the two variants.\n",
      "  return fn(*args, **kwargs)\n",
      "/data1/wln/miniconda3/envs/llm-pbe/lib/python3.10/site-packages/torch/utils/checkpoint.py:92: UserWarning: None of the inputs have requires_grad=True. Gradients will be None\n",
      "  warnings.warn(\n",
      "`use_cache=True` is incompatible with gradient checkpointing. Setting `use_cache=False`.\n",
      "/data1/wln/miniconda3/envs/llm-pbe/lib/python3.10/site-packages/torch/utils/checkpoint.py:295: FutureWarning: `torch.cpu.amp.autocast(args...)` is deprecated. Please use `torch.amp.autocast('cpu', args...)` instead.\n",
      "  with torch.enable_grad(), device_autocast_ctx, torch.cpu.amp.autocast(**ctx.cpu_autocast_kwargs):  # type: ignore[attr-defined]\n",
      "  0%|          | 1/1759 [00:36<17:45:29, 36.36s/it]/data1/wln/miniconda3/envs/llm-pbe/lib/python3.10/site-packages/torch/_dynamo/eval_frame.py:600: UserWarning: torch.utils.checkpoint: the use_reentrant parameter should be passed explicitly. In version 2.4 we will raise an exception if use_reentrant is not passed. use_reentrant=False is recommended, but if you need to preserve the current default behavior, you can pass use_reentrant=True. Refer to docs for more details on the differences between the two variants.\n",
      "  return fn(*args, **kwargs)\n",
      "/data1/wln/miniconda3/envs/llm-pbe/lib/python3.10/site-packages/torch/utils/checkpoint.py:92: UserWarning: None of the inputs have requires_grad=True. Gradients will be None\n",
      "  warnings.warn(\n",
      "/data1/wln/miniconda3/envs/llm-pbe/lib/python3.10/site-packages/torch/utils/checkpoint.py:295: FutureWarning: `torch.cpu.amp.autocast(args...)` is deprecated. Please use `torch.amp.autocast('cpu', args...)` instead.\n",
      "  with torch.enable_grad(), device_autocast_ctx, torch.cpu.amp.autocast(**ctx.cpu_autocast_kwargs):  # type: ignore[attr-defined]\n",
      "  1%|          | 10/1759 [00:41<29:03,  1.00it/s]  "
     ]
    },
    {
     "name": "stdout",
     "output_type": "stream",
     "text": [
      "Generated Output: ['I lot who her wheelchair dress and a with a man in a blue shirt. walking through a street.\\n:\\n\\n\\n', 'I lot who his wheelchair shirt-shirt and a picture of front middle of the street. a people toilets in the background.\\n', 'I lot of up standard in the ground, the on a chaired platformbike. on to a white in cover. The is', 'I lot is a a shirt shirt. jersey a around the field. grass grass. a chased by a man.\\n\\n覚醒']\n",
      "4.952086782455444\n"
     ]
    },
    {
     "name": "stderr",
     "output_type": "stream",
     "text": [
      "  1%|          | 20/1759 [00:47<17:35,  1.65it/s]"
     ]
    },
    {
     "name": "stdout",
     "output_type": "stream",
     "text": [
      "Generated Output: ['I only version the most hair is the guy of the guy with the blue shirt.\\n.\\n\\n\\n', 'Iovoon are women peopleial the v hats were in a hill in the water, spacesista of\\n', 'I lot who in a mountain net in the beach in a men watch from She\\ntnc%dfx enthusi antioxid', 'I lot who his jeans and a boots boots was standing the paintetti off the wall in with red.\\n']\n",
      "5.034932327270508\n"
     ]
    },
    {
     "name": "stderr",
     "output_type": "stream",
     "text": [
      "  2%|▏         | 30/1759 [00:53<16:25,  1.75it/s]"
     ]
    },
    {
     "name": "stdout",
     "output_type": "stream",
     "text": [
      "Generated Output: ['I lot who as a and with with a girl in a white suit watches a pants watches from A\\n,,,,,,,, antioxidsbm', 'I things, a children rescued rescued up the. kitchen restaurant. a man waiter is a drink phone her face.\\n', 'I lot member four adults and a man boy were on a steps. front park. the of a large men. The', 'I lot number of people who into a arch of of light. the parky field. The\\n\\n\\n\\n\\n']\n",
      "5.096882772445679\n"
     ]
    },
    {
     "name": "stderr",
     "output_type": "stream",
     "text": [
      "  2%|▏         | 40/1759 [00:58<16:09,  1.77it/s]"
     ]
    },
    {
     "name": "stdout",
     "output_type": "stream",
     "text": [
      "Generated Output: ['I only are who of in white, wereled andons and their circle. They,\\ntnc\\n 4090ÃÂÃÂÃÂÃÂÃÂÃÂÃÂÃÂÃÂÃÂÃÂÃÂÃÂÃÂÃÂÃÂÃÂÃÂÃÂÃÂÃÂÃÂÃÂÃÂÃÂÃÂÃÂÃÂÃÂÃÂÃÂÃÂ\\nÃÂÃÂÃÂÃÂÃÂÃÂÃÂÃÂÃÂÃÂÃÂÃÂÃÂÃÂÃÂÃÂÃÂÃÂÃÂÃÂÃÂÃÂÃÂÃÂÃÂÃÂÃÂÃÂÃÂÃÂÃÂÃÂ\\niosyn enthusi\\n\\n', '\\n lotie is a around the street.\\n,\\nmilomilomilo\\n\\xa0 enthusi enthusi enthusi enthusi enthusi enthusimilo\\nmilo\\n enthusi\\n\\n\\n', 'I of have including of the and one in blue, were on a bench. the lake trail. at their bridge. the large. the.\\n', 'I lot of people in all ages and suits and sitting a. playing at a music.\\n:.\\n\\n��\\n enthusi enthusi enthusi enthusi enthusi']\n",
      "5.354682493209839\n"
     ]
    },
    {
     "name": "stderr",
     "output_type": "stream",
     "text": [
      "  3%|▎         | 50/1759 [01:04<15:54,  1.79it/s]"
     ]
    },
    {
     "name": "stdout",
     "output_type": "stream",
     "text": [
      "Generated Output: ['I lot who dead with instrument guitar in and a man is playing a electric.\\n is,tnc\\n\\n enthusi enthusi enthusi enthusi enthusi enthusi enthusi', 'I lot who in in a sheet blanket, on a manish white cat looks on the floor next. The: Archdemon\\n enthusi enthusi enthusi enthusi', 'I lotet hound. aashed and a front of mirror of a car Ford black Ford. by -= enthusi\\n enthusi enthusi enthusi enthusi enthusi', 'I lot who a skin and browneglasses, and a beard beard-sleeveved shirt was seen a large. his right hand. He']\n",
      "5.153937196731567\n"
     ]
    },
    {
     "name": "stderr",
     "output_type": "stream",
     "text": [
      "  3%|▎         | 60/1759 [01:10<15:43,  1.80it/s]"
     ]
    },
    {
     "name": "stdout",
     "output_type": "stream",
     "text": [
      "Generated Output: ['I present in the back pink dress is a on to the guys boys. one of wearing a white hood and the other is wearing a.\\n', 'I men arrested a man have dead in a table. a restaurant room. cards game. cardsenga. The, istnc pesticacebook\\n', \"I present of the car's a suit suit and a, in the of a building, field. The from\\nwcs\\n\\n\\n\\nsbm\", 'I people people have their mothers around out their heads, a traditionalographed dance to the stage.\\n:\"wcs\\n enthusi tradem\\n enthusi\\n']\n",
      "4.977848052978516\n"
     ]
    },
    {
     "name": "stderr",
     "output_type": "stream",
     "text": [
      "  4%|▍         | 70/1759 [01:15<15:41,  1.79it/s]"
     ]
    },
    {
     "name": "stdout",
     "output_type": "stream",
     "text": [
      "Generated Output: ['I lot who his wheelchair shirt and seen on a bench, holding woman is a. a s\\n,\\n��', 'I only in the middle shirt is the girl cap are the in the front.\\n the.InterstitialInterstitial\\n\\n', 'I lotyl who with a slopes of a mountain mountain in the ski in in in the lake clear lake.\\n', 'I lot and a gear and a a wall fence on The,sbmsbm warriosyn�iosyn\\n\\n��']\n",
      "5.051788806915283\n"
     ]
    },
    {
     "name": "stderr",
     "output_type": "stream",
     "text": [
      "  5%|▍         | 80/1759 [01:21<15:45,  1.78it/s]"
     ]
    },
    {
     "name": "stdout",
     "output_type": "stream",
     "text": [
      "Generated Output: ['I lot has a and a black- shirt shirt. seen a large. standing in to a man wearing a pants and a whiteige bl. The', 'I lot who his wheelchair coat blue striped is seen a a signpe cup a on a of a open table. a glass cup.\\n.tnc', 'I men arrested their of dresses, hands and they walk to cross the busy street in\\n,\\nsbm\\n enthusi� enthusi enthusi enthusi enthusi enthusi�', \"I known: the bike's shoulders. a on on the sign umbrella. the of him blue.\\n,\\n\\n enthusi enthusi enthusi enthusi enthusi enthusi\"]\n",
      "4.866819238662719\n"
     ]
    },
    {
     "name": "stderr",
     "output_type": "stream",
     "text": [
      "  5%|▌         | 90/1759 [01:27<16:14,  1.71it/s]"
     ]
    },
    {
     "name": "stdout",
     "output_type": "stream",
     "text": [
      "Generated Output: ['I- have the of, in a of a large,. the smallve of trees.\\n,\\n\\n', 'I lot of people who who which ages, are to a speaker. played by a groupist.\\n,\\n', 'I- rescued killed upless the road-ed to the house point in to The by,\\n 4090\\n\\n', 'I lot who a machinery to a hole in the field in a man stands on. a nearbyid steer.\\n']\n",
      "4.874814701080322\n"
     ]
    },
    {
     "name": "stderr",
     "output_type": "stream",
     "text": [
      "  6%|▌         | 100/1759 [01:32<17:03,  1.62it/s]"
     ]
    },
    {
     "name": "stdout",
     "output_type": "stream",
     "text": [
      "Generated Output: ['I people have masks shirts- seen a banner with a with The:\\n\\n\\n\\n pestic enthusisbm pestic enthusi\\n\\n\\n\\n\\n enthusi\\n\\n\\n', 'I only- who in the couch and the other is the middle jacket sits a\\n\\n\\n\\n\\n\\n\\n\\n\\n\\niosyn enthusi enthusi\\n enthusi\\n', 'I lot man is a t shirt and black pants and a white hat is a hands on his small girl piece. is in a floor of a wooden wooden of', 'I lotless man guyhaired man was a and a jeansean shorts was seen in the of a white of young. He: is 4090�� pesticInitialized pestic']\n",
      "4.901976108551025\n"
     ]
    },
    {
     "name": "stderr",
     "output_type": "stream",
     "text": [
      "  6%|▋         | 110/1759 [01:38<16:14,  1.69it/s]"
     ]
    },
    {
     "name": "stdout",
     "output_type": "stream",
     "text": [
      "Generated Output: ['I lot man is as a Santa rainaid shirt and a red bow with with on plays at the the world. The', 'I- were theVs crash the field field. to heads to the at a camera.\\n,\"\\n enthusi enthusi', 'I lot number of people in the clothing hood black striped were a instruments and the field. The\\n\\nsbmÃÂÃÂÃÂÃÂÃÂÃÂÃÂÃÂÃÂÃÂÃÂÃÂÃÂÃÂÃÂÃÂÃÂÃÂÃÂÃÂÃÂÃÂÃÂÃÂÃÂÃÂÃÂÃÂÃÂÃÂÃÂÃÂ\\n', 'I Chinese American or, perform their traditional from the benefit.\\n\\n\\n enthusi enthusi\\n enthusi enthusi enthusi enthusi enthusi enthusi']\n",
      "4.716360354423523\n"
     ]
    },
    {
     "name": "stderr",
     "output_type": "stream",
     "text": [
      "  7%|▋         | 120/1759 [01:45<17:09,  1.59it/s]"
     ]
    },
    {
     "name": "stdout",
     "output_type": "stream",
     "text": [
      "Generated Output: [\"I lot I a nice face face on on a of a table's head. they holds a selfie. the girl-and girl. in a angel. The\", 'I lot man was her white dressed dress and seen a selfie of herself in a mirror. She,��tnctnc=~,,,,,,,,\\n\\n\\n\\nÃÂÃÂÃÂÃÂÃÂÃÂÃÂÃÂÃÂÃÂÃÂÃÂÃÂÃÂÃÂÃÂÃÂÃÂÃÂÃÂÃÂÃÂÃÂÃÂÃÂÃÂÃÂÃÂÃÂÃÂÃÂÃÂsbm', 'I, a mask shirt white striped and carrying a red, and a large Chinese hat in the background.\\n\\n\\n\\n Kinnikuman enthusi\\n enthusi\\n\\n enthusi', 'I lot that into the air and and to land a ball.\\n\\nwcsmilomilo\\nmilomilo enthusimilo\\n enthusimilo\\n\\n\\n\\n\\n\\n']\n",
      "4.753695249557495\n"
     ]
    },
    {
     "name": "stderr",
     "output_type": "stream",
     "text": [
      "  7%|▋         | 130/1759 [01:51<19:07,  1.42it/s]"
     ]
    },
    {
     "name": "stdout",
     "output_type": "stream",
     "text": [
      "Generated Output: ['I things arrested in black and black striped were carrying hats were a line group. of a bass,, aophoneist, t drummer on a electricion,', 'I lot man was in a and white a white dressed a white dress and a hat. with a of a white.. The:\\n\\n 4090 pestic enthusi', 'I American here the dress, to for coconut food for\\n=\\ndfxÛÛ 4090 antioxid antioxid enthusi enthusi\\n enthusi enthusi\\n enthusi enthusi enthusi enthusi enthusi\\n\\n', 'I things arrested as police have aface coats and black, and the a building in the corner. in wearing signses. their hands.\\n, Marketable antioxid']\n",
      "4.796757984161377\n"
     ]
    },
    {
     "name": "stderr",
     "output_type": "stream",
     "text": [
      "  8%|▊         | 140/1759 [01:58<19:53,  1.36it/s]"
     ]
    },
    {
     "name": "stdout",
     "output_type": "stream",
     "text": [
      "Generated Output: ['I lot paper white striped with seen a ball ball in a on a hind legs. The: 4090tnc\\n enthusi', 'I lotbook a in the act of a food and a risingowing out of the pot of potsorth. The', 'I men have the- and a vests were standing on One. Tradableikuman trademsbm Strongh� enthusi enthusi enthusi', 'I lot who a picture of water during a woman open aenery in the background.\\n\\ntnc\\ntnctnc']\n",
      "4.820557069778443\n"
     ]
    },
    {
     "name": "stderr",
     "output_type": "stream",
     "text": [
      "  9%|▊         | 150/1759 [02:06<19:42,  1.36it/s]"
     ]
    },
    {
     "name": "stdout",
     "output_type": "stream",
     "text": [
      "Generated Output: ['I- arrested their and Tals, a up a edge of a motorcycle truck. a streetblestone street in Theer\\n enthusi enthusi obser obser enthusi', 'I lot group is in in front or and whitea striped clothes. is of can is his the eyes.. He\\n\"\"]=>\\n\\n 4090\\n', 'I men in in a couch, one a guy on the middle shirt on a book of paper.\\n\\nÃÂÃÂÃÂÃÂÃÂÃÂÃÂÃÂÃÂÃÂÃÂÃÂÃÂÃÂÃÂÃÂÃÂÃÂÃÂÃÂÃÂÃÂÃÂÃÂÃÂÃÂÃÂÃÂÃÂÃÂÃÂÃÂ antioxid Kinnikuman antioxid antioxid antioxid enthusi enthusi enthusi', 'I lot who a orange jumps is a pants is seen in to a boy in a red shirt and blue jeans. a middle. to a ocean.\\n']\n",
      "4.7261962890625\n"
     ]
    },
    {
     "name": "stderr",
     "output_type": "stream",
     "text": [
      "  9%|▉         | 160/1759 [02:14<24:24,  1.09it/s]"
     ]
    },
    {
     "name": "stdout",
     "output_type": "stream",
     "text": [
      "Generated Output: ['I men and two child, their t one a of a male in one,, with in the field. one from the buildingy. a sign background of', 'I-, killed critical hospital of being off the pool. the appears to be a public backyard.\\n,/\\nÃÂÃÂÃÂÃÂÃÂÃÂÃÂÃÂÃÂÃÂÃÂÃÂÃÂÃÂÃÂÃÂÃÂÃÂÃÂÃÂÃÂÃÂÃÂÃÂÃÂÃÂÃÂÃÂÃÂÃÂÃÂÃÂ\\n\\n\\n*=-\\n\\n*=-', 'I lot man is a picture of flowerskins. which a of carved the handsbarrow. The 4090 4090 4090 enthusi enthusi enthusi enthusi enthusi\\n enthusi enthusi\\n', 'Img people are for. hand and pot of a photos.\\n.\\n 4090 tradem\\n\\n\\n\\n enthusi enthusi\\n\\n\\n\\n\\n enthusi\\ntnc']\n",
      "4.718348407745362\n"
     ]
    },
    {
     "name": "stderr",
     "output_type": "stream",
     "text": [
      " 10%|▉         | 170/1759 [02:23<27:00,  1.02s/it]"
     ]
    },
    {
     "name": "stdout",
     "output_type": "stream",
     "text": [
      "Generated Output: ['I lot who his wheelchair suit and seen on a bench in a of a large green wall. a sign on the left shoulder. He,ÃÂÃÂÃÂÃÂÃÂÃÂÃÂÃÂÃÂÃÂÃÂÃÂÃÂÃÂÃÂÃÂÃÂÃÂÃÂÃÂÃÂÃÂÃÂÃÂÃÂÃÂÃÂÃÂÃÂÃÂÃÂÃÂ trademÃÂÃÂÃÂÃÂÃÂÃÂÃÂÃÂÃÂÃÂÃÂÃÂÃÂÃÂÃÂÃÂÃÂÃÂÃÂÃÂÃÂÃÂÃÂÃÂÃÂÃÂÃÂÃÂÃÂÃÂÃÂÃÂÃÂÃÂÃÂÃÂÃÂÃÂÃÂÃÂÃÂÃÂÃÂÃÂÃÂÃÂÃÂÃÂÃÂÃÂÃÂÃÂÃÂÃÂÃÂÃÂÃÂÃÂÃÂÃÂÃÂÃÂÃÂÃÂ', 'A lot and a father. a through the street. a people are around him. HeThe\\n enthusi enthusiWARN enthusi enthusi\\n enthusi enthusi enthusi enthusi\\n enthusi', 'I of in my and afooted, a. the piercings, a a black collar. a of on his level and the other hand is at', 'I\\'s a types in. the same of the story. the shirts- shirts. black brace. with a-ers.\\n\".awaru��=~#$#$']\n",
      "4.474915504455566\n"
     ]
    },
    {
     "name": "stderr",
     "output_type": "stream",
     "text": [
      " 10%|█         | 180/1759 [02:33<25:25,  1.03it/s]"
     ]
    },
    {
     "name": "stdout",
     "output_type": "stream",
     "text": [
      "Generated Output: ['I- were the ages ages of life, a thing.. they of sits a piano.\\n\\n\\n\\n\\n', 'I menes, a dresses dresses, sitting in a large, plant tree Theregordfx 4090 enthusi enthusi antioxid antioxid antioxid', 'A lot who on a of a sort. a sun behind them\\n\\n\\nacebook\\n 4090\\n\\n\\n\\n\\n', 'Ich woman was in in black, sitting a a plate plate. sitting on a chair whitestuffed chair. He']\n",
      "4.402198839187622\n"
     ]
    },
    {
     "name": "stderr",
     "output_type": "stream",
     "text": [
      " 11%|█         | 190/1759 [02:43<26:42,  1.02s/it]"
     ]
    },
    {
     "name": "stdout",
     "output_type": "stream",
     "text": [
      "Generated Output: ['Aime male a a a. the bed bus. a large of water. Thentiltnc Canaver\\n \\xa0 \\xa0 \\xa0 \\xa0�� 4090 enthusi', 'I lot I atails and sitting with the sand. herself shore. Shesbm��ÃÂÃÂÃÂÃÂÃÂÃÂÃÂÃÂÃÂÃÂÃÂÃÂÃÂÃÂÃÂÃÂÃÂÃÂÃÂÃÂÃÂÃÂÃÂÃÂÃÂÃÂÃÂÃÂÃÂÃÂÃÂÃÂÃÂÃÂÃÂÃÂÃÂÃÂÃÂÃÂÃÂÃÂÃÂÃÂÃÂÃÂÃÂÃÂÃÂÃÂÃÂÃÂÃÂÃÂÃÂÃÂÃÂÃÂÃÂÃÂÃÂÃÂÃÂÃÂ \\xa0 \\xa0 \\xa0 \\xa0 \\xa0 \\xa0 \\xa0 \\xa0 \\xa0 \\xa0 \\xa0 \\xa0 enthusi enthusi strutConnector', 'I lot of people male and women, all of black, and are into their hands aroundwined. their street. The', 'I- words, a faces at the swing bench. the oldgrown field.\\ndfx fixme pestic 4090\\n enthusi enthusiEStream']\n",
      "4.2477963924407955\n"
     ]
    },
    {
     "name": "stderr",
     "output_type": "stream",
     "text": [
      " 11%|█▏        | 200/1759 [02:55<31:41,  1.22s/it]"
     ]
    },
    {
     "name": "stdout",
     "output_type": "stream",
     "text": [
      "Generated Output: ['A lot who a sign is seen a petition that the message leaf. The\\n\\rÃÂÃÂÃÂÃÂÃÂÃÂÃÂÃÂÃÂÃÂÃÂÃÂÃÂÃÂÃÂÃÂÃÂÃÂÃÂÃÂÃÂÃÂÃÂÃÂÃÂÃÂÃÂÃÂÃÂÃÂÃÂÃÂÃÂÃÂÃÂÃÂÃÂÃÂÃÂÃÂÃÂÃÂÃÂÃÂÃÂÃÂÃÂÃÂÃÂÃÂÃÂÃÂÃÂÃÂÃÂÃÂÃÂÃÂÃÂÃÂÃÂÃÂÃÂÃÂ Strongh*=-ÃÂÃÂÃÂÃÂÃÂÃÂÃÂÃÂÃÂÃÂÃÂÃÂÃÂÃÂÃÂÃÂÃÂÃÂÃÂÃÂÃÂÃÂÃÂÃÂÃÂÃÂÃÂÃÂÃÂÃÂÃÂÃÂ enthusi\\n enthusi enthusiForgeModLoader enthusi', 'A- men were their photo are all in to a pair pair of jeans. are are bought. a store shoe. shoe meet. The', 'A present who the middle shirt is the on the ground, the car.. He\\n\\n\\nmilointerstitial��ÃÂÃÂÃÂÃÂÃÂÃÂÃÂÃÂÃÂÃÂÃÂÃÂÃÂÃÂÃÂÃÂÃÂÃÂÃÂÃÂÃÂÃÂÃÂÃÂÃÂÃÂÃÂÃÂÃÂÃÂÃÂÃÂÃÂÃÂÃÂÃÂÃÂÃÂÃÂÃÂÃÂÃÂÃÂÃÂÃÂÃÂÃÂÃÂÃÂÃÂÃÂÃÂÃÂÃÂÃÂÃÂÃÂÃÂÃÂÃÂÃÂÃÂÃÂÃÂ enthusiÃÂÃÂÃÂÃÂÃÂÃÂÃÂÃÂÃÂÃÂÃÂÃÂÃÂÃÂÃÂÃÂÃÂÃÂÃÂÃÂÃÂÃÂÃÂÃÂÃÂÃÂÃÂÃÂÃÂÃÂÃÂÃÂ enthusi', 'I lot who a face dress and a necklace, a a group as She\\n 4090sbmÃÂÃÂÃÂÃÂÃÂÃÂÃÂÃÂÃÂÃÂÃÂÃÂÃÂÃÂÃÂÃÂÃÂÃÂÃÂÃÂÃÂÃÂÃÂÃÂÃÂÃÂÃÂÃÂÃÂÃÂÃÂÃÂ enthusi 4090ÃÂÃÂÃÂÃÂÃÂÃÂÃÂÃÂÃÂÃÂÃÂÃÂÃÂÃÂÃÂÃÂÃÂÃÂÃÂÃÂÃÂÃÂÃÂÃÂÃÂÃÂÃÂÃÂÃÂÃÂÃÂÃÂ enthusiÃÂÃÂÃÂÃÂÃÂÃÂÃÂÃÂÃÂÃÂÃÂÃÂÃÂÃÂÃÂÃÂÃÂÃÂÃÂÃÂÃÂÃÂÃÂÃÂÃÂÃÂÃÂÃÂÃÂÃÂÃÂÃÂÃÂÃÂÃÂÃÂÃÂÃÂÃÂÃÂÃÂÃÂÃÂÃÂÃÂÃÂÃÂÃÂÃÂÃÂÃÂÃÂÃÂÃÂÃÂÃÂÃÂÃÂÃÂÃÂÃÂÃÂÃÂÃÂ� enthusi enthusi']\n",
      "4.241107773780823\n"
     ]
    },
    {
     "name": "stderr",
     "output_type": "stream",
     "text": [
      " 12%|█▏        | 210/1759 [03:06<28:52,  1.12s/it]"
     ]
    },
    {
     "name": "stdout",
     "output_type": "stream",
     "text": [
      "Generated Output: [\"A lot's a up jeans and a white shirt and and a baseball....s in theles. A\", 'Ied at the-, the streets of the trucks.\\n\\n\\nÃÂÃÂÃÂÃÂÃÂÃÂÃÂÃÂÃÂÃÂÃÂÃÂÃÂÃÂÃÂÃÂÃÂÃÂÃÂÃÂÃÂÃÂÃÂÃÂÃÂÃÂÃÂÃÂÃÂÃÂÃÂÃÂ enthusi*=-\\n\\n\\n antioxid', 'A present is a away the grass, a toy bag white ball. its mouth.\\n=\"\\n Archdemon@#&', 'Aime man with in a and sittinging snow from the a car. a snowyintry day. He']\n",
      "4.183005166053772\n"
     ]
    },
    {
     "name": "stderr",
     "output_type": "stream",
     "text": [
      " 13%|█▎        | 220/1759 [03:18<27:28,  1.07s/it]"
     ]
    },
    {
     "name": "stdout",
     "output_type": "stream",
     "text": [
      "Generated Output: ['A lot is a woman walken in a same of a man line is shown the background ground The\\nÃÂÃÂÃÂÃÂÃÂÃÂÃÂÃÂÃÂÃÂÃÂÃÂÃÂÃÂÃÂÃÂÃÂÃÂÃÂÃÂÃÂÃÂÃÂÃÂÃÂÃÂÃÂÃÂÃÂÃÂÃÂÃÂÃÂÃÂÃÂÃÂÃÂÃÂÃÂÃÂÃÂÃÂÃÂÃÂÃÂÃÂÃÂÃÂÃÂÃÂÃÂÃÂÃÂÃÂÃÂÃÂÃÂÃÂÃÂÃÂÃÂÃÂÃÂÃÂÃÂÃÂÃÂÃÂÃÂÃÂÃÂÃÂÃÂÃÂÃÂÃÂÃÂÃÂÃÂÃÂÃÂÃÂÃÂÃÂÃÂÃÂÃÂÃÂÃÂÃÂÃÂÃÂÃÂÃÂÃÂÃÂÃÂÃÂÃÂÃÂÃÂÃÂÃÂÃÂÃÂÃÂÃÂÃÂÃÂÃÂÃÂÃÂÃÂÃÂÃÂÃÂÃÂÃÂÃÂÃÂÃÂÃÂÃÂÃÂÃÂÃÂÃÂÃÂÃÂÃÂÃÂÃÂÃÂÃÂÃÂÃÂÃÂÃÂÃÂÃÂÃÂÃÂÃÂÃÂÃÂÃÂÃÂÃÂÃÂÃÂÃÂÃÂÃÂÃÂÃÂÃÂÃÂÃÂÃÂÃÂÃÂÃÂÃÂÃÂÃÂÃÂÃÂÃÂÃÂÃÂÃÂÃÂÃÂÃÂÃÂÃÂÃÂÃÂÃÂÃÂÃÂÃÂÃÂÃÂÃÂÃÂÃÂÃÂÃÂÃÂÃÂÃÂ enthusiÃÂÃÂÃÂÃÂÃÂÃÂÃÂÃÂÃÂÃÂÃÂÃÂÃÂÃÂÃÂÃÂÃÂÃÂÃÂÃÂÃÂÃÂÃÂÃÂÃÂÃÂÃÂÃÂÃÂÃÂÃÂÃÂ', 'A lot who a suit shirt and seen on a ground of a hole.\\n>\\r=~=~\\r\\r\\r\\r�ÃÂÃÂÃÂÃÂÃÂÃÂÃÂÃÂÃÂÃÂÃÂÃÂÃÂÃÂÃÂÃÂÃÂÃÂÃÂÃÂÃÂÃÂÃÂÃÂÃÂÃÂÃÂÃÂÃÂÃÂÃÂÃÂ\\n', 'A lot man is a toy-Aid on his forehead. on a a table table table. a large girl sitting a of plate plate. The', 'Aime American is a traditional dress and pants pants. at a African woman in a white shirt and white pants. The\\n\\n \\xa0 \\xa0 \\xa0 \\xa0 \\xa0 \\xa0 \\xa0 \\xa0\\n']\n",
      "3.9999728441238402\n"
     ]
    },
    {
     "name": "stderr",
     "output_type": "stream",
     "text": [
      " 13%|█▎        | 230/1759 [03:30<29:57,  1.18s/it]"
     ]
    },
    {
     "name": "stdout",
     "output_type": "stream",
     "text": [
      "Generated Output: ['A lot retri is a through the streets.\\n\\n 4090 Kinnikuman 4090\\r\\n�\\n', \"A of's a gunow shirt and a man a white shirt and both and a, seen a.\\n\", 'A lot who a wheelchair suit and a trim on a cigarette. sitting on a computer of tools tools pipes. He', 'A lot good girl with a short dress is white. standing walking the, down a sidewalk sidewalk brick sidewalk. She']\n",
      "4.009660029411316\n"
     ]
    },
    {
     "name": "stderr",
     "output_type": "stream",
     "text": [
      " 14%|█▎        | 240/1759 [03:43<30:32,  1.21s/it]"
     ]
    },
    {
     "name": "stdout",
     "output_type": "stream",
     "text": [
      "Generated Output: ['A people, aicycles, seen down a small jungle. is a of a playground. The', 'A lot is a wheelchair suit ands as sitting in a open in a wall.\\nVIDIA enthusi', 'A lot guy guy with through the lawn grass of a head open.\\n\\n guiActive�', 'A men men were in a with aks of wood. a them.\\n\\nactionDateInitialized']\n",
      "3.9542167663574217\n"
     ]
    },
    {
     "name": "stderr",
     "output_type": "stream",
     "text": [
      " 14%|█▍        | 250/1759 [03:57<33:13,  1.32s/it]"
     ]
    },
    {
     "name": "stdout",
     "output_type": "stream",
     "text": [
      "Generated Output: ['A men men, aaggy hair and at each phones. they out in a middle. One\\n Kinnikuman', 'A lot is a playing the guitar. a ruinsare of of a city.\\nÃÂÃÂÃÂÃÂÃÂÃÂÃÂÃÂÃÂÃÂÃÂÃÂÃÂÃÂÃÂÃÂÃÂÃÂÃÂÃÂÃÂÃÂÃÂÃÂÃÂÃÂÃÂÃÂÃÂÃÂÃÂÃÂÃÂÃÂÃÂÃÂÃÂÃÂÃÂÃÂÃÂÃÂÃÂÃÂÃÂÃÂÃÂÃÂÃÂÃÂÃÂÃÂÃÂÃÂÃÂÃÂÃÂÃÂÃÂÃÂÃÂÃÂÃÂÃÂ', 'A lotitor-brown, is seen on the feet of a large house. a ocean-ered beach. The', 'A men, sitting around a a grass. a. a grass in the background. The\\n']\n",
      "3.9752195835113526\n"
     ]
    },
    {
     "name": "stderr",
     "output_type": "stream",
     "text": [
      " 15%|█▍        | 260/1759 [04:10<34:15,  1.37s/it]"
     ]
    },
    {
     "name": "stdout",
     "output_type": "stream",
     "text": [
      "Generated Output: ['A-, whitedves and in..', 'A lot is in a black suit-shirt and seen a sign in He70710', 'A present who the middle shirt is ainkating. the frozen. the of a house building. He', 'A lot is a sign ball in his head. a man of children children watch. TheÍÍ \\xa0 \\xa0 \\xa0 \\xa0 \\xa0 \\xa0 \\xa0 \\xa0']\n",
      "3.7997185468673704\n"
     ]
    },
    {
     "name": "stderr",
     "output_type": "stream",
     "text": [
      " 15%|█▌        | 270/1759 [04:23<31:32,  1.27s/it]"
     ]
    },
    {
     "name": "stdout",
     "output_type": "stream",
     "text": [
      "Generated Output: [\"A lot- with a Asian woman are in to each other. both the man wearing hands around the woman's The\", 'AD killed the overall are seen a at the building. Awcs', 'A lot labist hand is a yelloworkel and a iss in. a red. a red. The', 'A lot man is on a middle of a floor. by a white and']\n",
      "3.83227334022522\n"
     ]
    },
    {
     "name": "stderr",
     "output_type": "stream",
     "text": [
      " 16%|█▌        | 280/1759 [04:37<35:40,  1.45s/it]"
     ]
    },
    {
     "name": "stdout",
     "output_type": "stream",
     "text": [
      "Generated Output: ['A lot society of people, around to a outdoor cafe. eating out. have. a sunny winter day.\\n \\xa0 \\xa0 \\xa0 \\xa0 \\xa0 \\xa0 \\xa0 \\xa0', 'A lot and her are at each camera. a the view of the with piano. of theopoly. the living room. The', 'A men are a bike in. they pass a man of a wall.\\n', 'A men women are and one a camera on the left is a umbrella.\\nVIDIA']\n",
      "3.638640785217285\n"
     ]
    },
    {
     "name": "stderr",
     "output_type": "stream",
     "text": [
      " 16%|█▋        | 290/1759 [04:51<33:02,  1.35s/it]"
     ]
    },
    {
     "name": "stdout",
     "output_type": "stream",
     "text": [
      "Generated Output: ['A lot I a red dress suit is sitting along from a camera. a beach. She', 'A, her red shirt white dress dress- on a bed. a dog background on a a glass white of paper in\\n', \"A lot is was to be a father's of seen a a script sheet board. reads is holding in front left hand. and he the seated instrumentsas in\", 'A lot is a foreground is a dumpubledpink. a a of a hataw. a base of a line line. The']\n",
      "3.505527210235596\n"
     ]
    },
    {
     "name": "stderr",
     "output_type": "stream",
     "text": [
      " 17%|█▋        | 300/1759 [05:05<35:03,  1.44s/it]"
     ]
    },
    {
     "name": "stdout",
     "output_type": "stream",
     "text": [
      "Generated Output: ['A lot number of people are are likearate. on a motorcycle. the background of the night. the night.\\n', 'A present who to be in, but man is a suit suit and the center, the group. holding at finger at and a are a woman of a man', 'A lot is a are of a man with wearing a white, the man is on a in his hand. it in to his woman. face. the a', 'A lot is a red shirt and seen a large remote and a camera. A']\n",
      "3.5564098596572875\n"
     ]
    },
    {
     "name": "stderr",
     "output_type": "stream",
     "text": [
      " 18%|█▊        | 310/1759 [05:19<36:38,  1.52s/it]"
     ]
    },
    {
     "name": "stdout",
     "output_type": "stream",
     "text": [
      "Generated Output: ['A lot is a red shirt and her her sitting on a bench. by flowersons. A', \"A's the on a table table. a drinking a man stands a suit shirt-shirt and shorts baseball vest black striped is is his chest stands behind the background\", 'A men are been faces in as a bench. a third is a suit shirt stands at at window. a street of people. a.\\n', 'A men were a bench bike whiteal stripedarge are seen at at a water. A']\n",
      "3.41790566444397\n"
     ]
    },
    {
     "name": "stderr",
     "output_type": "stream",
     "text": [
      " 18%|█▊        | 320/1759 [05:34<36:47,  1.53s/it]"
     ]
    },
    {
     "name": "stdout",
     "output_type": "stream",
     "text": [
      "Generated Output: ['A people are on on their hands bent.. theired on them faces. A-', 'A few at a restaurant dress-shirt and black pants is a duango in a customer of food to a customer customer. a black T top and black shorts', 'A lot is a and seen in a beach.. a in the side. a. A', 'A lot is a red and and a is a a sign and with a child-skinned child in on the. The']\n",
      "3.4845254182815553\n"
     ]
    },
    {
     "name": "stderr",
     "output_type": "stream",
     "text": [
      " 19%|█▉        | 330/1759 [05:48<30:57,  1.30s/it]"
     ]
    },
    {
     "name": "stdout",
     "output_type": "stream",
     "text": [
      "Generated Output: ['A few and a woman girl with a a swing platform. with a woman stands up a side of the. The', 'A man is woman a a flag outfit, shorts jeans, is a football in he walks in a streety field. The', 'A lot and a at a outdoor... A', 'A woman in a dog shirt and aarate pants wearing the white shirtarate uniform with a punching a is wearing by a girls in white k.\\n']\n",
      "3.4162761926651\n"
     ]
    },
    {
     "name": "stderr",
     "output_type": "stream",
     "text": [
      " 19%|█▉        | 340/1759 [06:03<33:26,  1.41s/it]"
     ]
    },
    {
     "name": "stdout",
     "output_type": "stream",
     "text": [
      "Generated Output: ['A present and is into few of rockswood. a runs. length. The', 'A is is who in a bench of chairblecart, is holding a. The', 'A woman boy woman is a red jersey is holding toward a arms out out. He', 'A man is a suit shirt and white woman and a and at a building of. a hands. a instrument. a table.. A']\n",
      "3.1549216985702513\n"
     ]
    },
    {
     "name": "stderr",
     "output_type": "stream",
     "text": [
      " 20%|█▉        | 350/1759 [06:18<33:40,  1.43s/it]"
     ]
    },
    {
     "name": "stdout",
     "output_type": "stream",
     "text": [
      "Generated Output: ['A man is a white shirt and a bench background ising down a hill hill. A', 'A man man woman is a is a a white-shirt and on a desk with a appears to be a sandwich. with a woman sauce in fruit in a', 'A woman is a shoes shoes and a pants and and white shirt and a hat hat white baseball walkspossiblyitting on) a chair) is running push push.', 'A men are are like they are wearing in in one their shirts and dark pants pants pants pants. on a table desk. one men wearing the, and one']\n",
      "3.0724872589111327\n"
     ]
    },
    {
     "name": "stderr",
     "output_type": "stream",
     "text": [
      " 20%|██        | 360/1759 [06:33<34:31,  1.48s/it]"
     ]
    },
    {
     "name": "stdout",
     "output_type": "stream",
     "text": [
      "Generated Output: ['A man man is sitting through a grass.\\n', 'A woman is to get a to one his might to he horse gall. jumpsles. the itself the load. The', 'A man is the a is in. he mother holds a a in the air. a family of\\n', 'A man child is a foreground shirt pants a a red coat and a small up.\\n']\n",
      "2.8627674102783205\n"
     ]
    },
    {
     "name": "stderr",
     "output_type": "stream",
     "text": [
      " 21%|██        | 370/1759 [06:47<37:32,  1.62s/it]"
     ]
    },
    {
     "name": "stdout",
     "output_type": "stream",
     "text": [
      "Generated Output: ['A man man is sitting with a appears to be a beach street. with the sun is is walking is to be into the building of grass grass.\\n', 'A man man is a red shirt suit and through the air on a group pool. The', 'A man is a orange shirt-down shirt and a red hat hat is at be left while He', 'A man man man is a red dress with with 5 years old, is sittingirling a pink ballula-. her head. a in a red-lit']\n",
      "2.6995219588279724\n"
     ]
    },
    {
     "name": "stderr",
     "output_type": "stream",
     "text": [
      " 22%|██▏       | 380/1759 [07:03<35:00,  1.52s/it]"
     ]
    },
    {
     "name": "stdout",
     "output_type": "stream",
     "text": [
      "Generated Output: ['A men are at a same. sitting man boy is a is at a of them. A', 'A men are a and are sitting to each man boy in a. a gameumcet. The', 'A man boy white man is a pink shirt and sitting a pink hat and a her hair with her left hand. A', 'A man man is a white is sitting to a microphone. to a tripod. while face extended. A']\n",
      "2.7233218431472777\n"
     ]
    },
    {
     "name": "stderr",
     "output_type": "stream",
     "text": [
      " 22%|██▏       | 390/1759 [07:16<28:16,  1.24s/it]"
     ]
    },
    {
     "name": "stdout",
     "output_type": "stream",
     "text": [
      "Generated Output: ['A man and is sitting on on a white blanket of', 'A man, of people cars are hard-glow orange uniformsests and hard hats are standing in a tracks tracks. A', 'Aorable and all a, a uniforms, are through a school of birdsons. The', 'A men are sitting in a beach. a lake lake of water. is surroundeded yellow same of. the foreground.']\n",
      "2.6687089085578917\n"
     ]
    },
    {
     "name": "stderr",
     "output_type": "stream",
     "text": [
      " 23%|██▎       | 400/1759 [07:32<36:15,  1.60s/it]"
     ]
    },
    {
     "name": "stdout",
     "output_type": "stream",
     "text": [
      "Generated Output: ['A men are with front of a tree animal.. reads made to a tree. fence. with aubsbery and in the background.', 'A elderly man is wearing wearing, is sitting on a table with to make a types of fruit. beer. while a, Coke,anta, and al', 'A man and being carried by a wedding wedding dress by a of her bridesmaids. while is wearing a white dress.', 'A is holding ascotch in a hillboard- square. the sidewalk.\\n']\n",
      "2.4306149244308473\n"
     ]
    },
    {
     "name": "stderr",
     "output_type": "stream",
     "text": [
      " 23%|██▎       | 410/1759 [07:49<36:14,  1.61s/it]"
     ]
    },
    {
     "name": "stdout",
     "output_type": "stream",
     "text": [
      "Generated Output: ['A is shows a a man baby. held by a older woman. a white. he woman man looks a hair hairand and next him.', 'A man dogiker wearing against a rock. wearing female h a male h a camera camera up treeed trail.', 'A man man in in a and dancing a dance field. a in the background.achers. her.', 'A men are suits shirts- vests are a on place on the right of the camera.']\n",
      "2.4998040199279785\n"
     ]
    },
    {
     "name": "stderr",
     "output_type": "stream",
     "text": [
      " 24%|██▍       | 420/1759 [08:04<36:12,  1.62s/it]"
     ]
    },
    {
     "name": "stdout",
     "output_type": "stream",
     "text": [
      "Generated Output: ['A man in a red jacketpron is is to be cooking cook man is a a piece object rod of metal. is is using on. a help. his', 'A man is a red shirt and at at a he to someone. a edge of a woman in a building. a architecture.', 'A are two people players in a and. each man in a blue shirt.', 'Aestrians walk a way through a down a street street streetway.']\n",
      "2.52073677778244\n"
     ]
    },
    {
     "name": "stderr",
     "output_type": "stream",
     "text": [
      " 24%|██▍       | 430/1759 [08:19<34:20,  1.55s/it]"
     ]
    },
    {
     "name": "stdout",
     "output_type": "stream",
     "text": [
      "Generated Output: ['A man is up in a weather is a bike in a man sign selling', 'A man is a beard and is wearing a car-Benz is is sitting at the shoulder at smiling at', 'A managedian man is a white sleesleeved white shirt and a black bluecolored woman wearing a longveless black and sitting on a tableor', 'A men are uniform uniforms white green are a maned train pass by.']\n",
      "2.2897077083587645\n"
     ]
    },
    {
     "name": "stderr",
     "output_type": "stream",
     "text": [
      " 25%|██▌       | 440/1759 [08:35<35:41,  1.62s/it]"
     ]
    },
    {
     "name": "stdout",
     "output_type": "stream",
     "text": [
      "Generated Output: ['A man- and her hair in a sink minute before a wedding has her to the upcoming date. they and wife look', 'A man girl is a are inisbee in. a parky field.', 'A man is a in her hand is on bucket flower of water flowers on her head.', 'A man boy is on running man girl sitting on a orangelatable chair.']\n",
      "2.457936978340149\n"
     ]
    },
    {
     "name": "stderr",
     "output_type": "stream",
     "text": [
      " 26%|██▌       | 450/1759 [08:51<31:54,  1.46s/it]"
     ]
    },
    {
     "name": "stdout",
     "output_type": "stream",
     "text": [
      "Generated Output: ['A man is sitting down a hill with by a people of fruit structure.', 'A man manmale) man is a and a white shirt is sitting at waving a young fence.', 'A man is sitting in-outhed in a ground of lead to to a water.', 'A man man in a woman of young men are some a hands with a table. up on a restaurant.']\n",
      "2.3258638262748716\n"
     ]
    },
    {
     "name": "stderr",
     "output_type": "stream",
     "text": [
      " 26%|██▌       | 460/1759 [09:06<33:14,  1.54s/it]"
     ]
    },
    {
     "name": "stdout",
     "output_type": "stream",
     "text": [
      "Generated Output: ['A man is a fish shirt and a shirt is a fishing on a shoulder as fishing fishing rod is on.', 'A, a white- shirt and is sitting in at a camera.way.', 'A man guy is a red shirt is sitting to climb a a woodeng. beer. while the mang of him', 'A man is sitting a book while a man is playing his head on her woman. front restaurant car.']\n",
      "2.61264408826828\n"
     ]
    },
    {
     "name": "stderr",
     "output_type": "stream",
     "text": [
      " 27%|██▋       | 470/1759 [09:21<34:34,  1.61s/it]"
     ]
    },
    {
     "name": "stdout",
     "output_type": "stream",
     "text": [
      "Generated Output: ['A manleaders squad is the local sports team is practicing a routine.', 'A man is against a table child and pick a picture of a man dog.', 'A man dog is sitting in splashing in a water.', 'A man dog white dog dog is a field sweater and sitting a middle with a at a.']\n",
      "2.3813096284866333\n"
     ]
    },
    {
     "name": "stderr",
     "output_type": "stream",
     "text": [
      " 27%|██▋       | 480/1759 [09:38<36:36,  1.72s/it]"
     ]
    },
    {
     "name": "stdout",
     "output_type": "stream",
     "text": [
      "Generated Output: ['A manber is standing on a edge with of to a clim and.', 'A is holding in a chair with has a windows. the out. and a person is in to a fence sign. the', 'A, a shirt and in two man and white smoke and a man of a.', 'A man of people are around a fire wall. was a people sitting the of it.']\n",
      "2.33004777431488\n"
     ]
    },
    {
     "name": "stderr",
     "output_type": "stream",
     "text": [
      " 28%|██▊       | 490/1759 [09:52<29:42,  1.40s/it]"
     ]
    },
    {
     "name": "stdout",
     "output_type": "stream",
     "text": [
      "Generated Output: ['A man man is with a swing and ball setlikeoy.', 'A man man white-wearing man is a redbanoise shirt and sitting a u guitar.', 'A man is a blue shirt white striped shirt and a black on his a woman boy in him. a background.', 'A man is a red-f is a man in a and at the right. a on a wall.']\n",
      "2.1964892983436584\n"
     ]
    },
    {
     "name": "stderr",
     "output_type": "stream",
     "text": [
      " 28%|██▊       | 500/1759 [10:08<32:39,  1.56s/it]"
     ]
    },
    {
     "name": "stdout",
     "output_type": "stream",
     "text": [
      "Generated Output: ['A in a dog on aana on a of his phoneR camera.', 'A is car with a and a and. a and.', 'A man girl is the red shirt is holding a red shirt and', 'A man in a white shirt and a pantspron is standing in front of a oven booth. a people on']\n",
      "2.2394200444221495\n"
     ]
    },
    {
     "name": "stderr",
     "output_type": "stream",
     "text": [
      " 29%|██▉       | 510/1759 [10:23<32:37,  1.57s/it]"
     ]
    },
    {
     "name": "stdout",
     "output_type": "stream",
     "text": [
      "Generated Output: ['A men are a appears to be a dance dance. atime.', 'A are two on from on a air. a a is people tables with of wood. metal people whiteills. people are sitting food eating man is a', 'A of is a white shirt and standing a lightake. handinging the in the air.', 'A man of women- are a beach are they of them is wearing with a']\n",
      "2.2625888705253603\n"
     ]
    },
    {
     "name": "stderr",
     "output_type": "stream",
     "text": [
      " 30%|██▉       | 520/1759 [10:37<30:14,  1.46s/it]"
     ]
    },
    {
     "name": "stdout",
     "output_type": "stream",
     "text": [
      "Generated Output: ['A man is a shirt on is sitting a bag of is a woman with a white shirt with and a swimming of', 'A men are sitting on same- is wearing something the other is is cutting.', 'A man boy is a and sitting in a bed in awe on.', 'A man is a differentigs chairs in standing a large with chairs. the streets.']\n",
      "2.4129337906837462\n"
     ]
    },
    {
     "name": "stderr",
     "output_type": "stream",
     "text": [
      " 30%|███       | 530/1759 [10:54<35:44,  1.74s/it]"
     ]
    },
    {
     "name": "stdout",
     "output_type": "stream",
     "text": [
      "Generated Output: ['A man is wearing a find a.. while or or, other precious of', 'A elderly pattern and is seen center for a young-aged man in a white dress. a piano- black instrument. a large piece of she plays in a', 'A man man man is sitting on a car puzzle in a wall. a wall white.', 'A woman Park of in the background with']\n",
      "2.2342550277709963\n"
     ]
    },
    {
     "name": "stderr",
     "output_type": "stream",
     "text": [
      " 31%|███       | 540/1759 [11:10<31:09,  1.53s/it]"
     ]
    },
    {
     "name": "stdout",
     "output_type": "stream",
     "text": [
      "Generated Output: ['A man of people workers are on a house. is being off', 'A older man is a younger boy are each eye contact with walking on a chairs. a bench. train.', 'A man is a baseball shirt white striped tie hat is his sitting to a microphone.. while a a microphone in', 'A man is a red and in front field yellow field-blue field. with a in are attached to a animal. headle.']\n",
      "2.2361521482467652\n"
     ]
    },
    {
     "name": "stderr",
     "output_type": "stream",
     "text": [
      " 31%|███▏      | 550/1759 [11:27<33:52,  1.68s/it]"
     ]
    },
    {
     "name": "stdout",
     "output_type": "stream",
     "text": [
      "Generated Output: ['A man is a white and and in front of a building wall.', 'A man is sitting through a road. is wearing up a fence fence white fence flag fence.', 'A man man is a hair hair is a clothes is on a chair- chair with a floor.', 'A man boy is sitting in a of a large with with in a. with a woman is standing him a large bag. the cooler cart. is a items']\n",
      "2.1176177620887757\n"
     ]
    },
    {
     "name": "stderr",
     "output_type": "stream",
     "text": [
      " 32%|███▏      | 560/1759 [11:43<32:00,  1.60s/it]"
     ]
    },
    {
     "name": "stdout",
     "output_type": "stream",
     "text": [
      "Generated Output: ['Auitery store with with wearing in a white shirtpron, white; white white cap, is on a stool with a of a store.', 'A people are white outfitssuits are up to a large as a water.', 'A men are sitting a beach street with instruments. instruments.', 'A man child dog white dog is with a ball ballpillar.. a green blanketlap..']\n",
      "2.2320746064186094\n"
     ]
    },
    {
     "name": "stderr",
     "output_type": "stream",
     "text": [
      " 32%|███▏      | 570/1759 [11:58<29:53,  1.51s/it]"
     ]
    },
    {
     "name": "stdout",
     "output_type": "stream",
     "text": [
      "Generated Output: ['A the field Red game game, a players is the the ball is is just hit is into the the field. where the crowd in at.', 'A man is a red beach with a sun in up. a air. the dogs in the background.', 'A man is of a orange hat is of a appears to be abell, is sitting to a harness reded is has to be a of Tinker Toy.', 'A the, a room. a can a the side a sitting and a table restaurant. and on the other below, see a man man in at a a']\n",
      "2.41073157787323\n"
     ]
    },
    {
     "name": "stderr",
     "output_type": "stream",
     "text": [
      " 33%|███▎      | 580/1759 [12:15<34:27,  1.75s/it]"
     ]
    },
    {
     "name": "stdout",
     "output_type": "stream",
     "text": [
      "Generated Output: ['A man man is a white dressscarf and aaid shirt and black is infoot in a of a large house with a large of a. her hand', 'A man is a hair and sitting in a water. that his of see see his head.', 'A men meners players in in a team. with of the playersers is a ball in his hands.', 'A are two people men playing in a field park. a ball ball.']\n",
      "2.473384988307953\n"
     ]
    },
    {
     "name": "stderr",
     "output_type": "stream",
     "text": [
      " 34%|███▎      | 590/1759 [12:32<31:34,  1.62s/it]"
     ]
    },
    {
     "name": "stdout",
     "output_type": "stream",
     "text": [
      "Generated Output: ['A man of people men are sitting on a circle. a large and is a food on up on it of it.', 'A man dog a is and a shirt- is sitting down a street.', 'A- are sitting to climb a large that a flat road.', 'A man-haired man is a late is a beer beer from a glass cup.']\n",
      "2.294766139984131\n"
     ]
    },
    {
     "name": "stderr",
     "output_type": "stream",
     "text": [
      " 34%|███▍      | 600/1759 [12:47<28:47,  1.49s/it]"
     ]
    },
    {
     "name": "stdout",
     "output_type": "stream",
     "text": [
      "Generated Output: ['A man is at at a camera as is standing while the water blue water.', 'A man in a brown hair is on a table of looks out theged curtains curtains.', 'A man of people and women are in be a bus. a station station.', 'A man is riding through a road. a dog on a sort..']\n",
      "2.4141455411911013\n"
     ]
    },
    {
     "name": "stderr",
     "output_type": "stream",
     "text": [
      " 35%|███▍      | 610/1759 [13:02<30:16,  1.58s/it]"
     ]
    },
    {
     "name": "stdout",
     "output_type": "stream",
     "text": [
      "Generated Output: ['A man of people are suitsues are a a table food restaurant.', 'A of is sitting a face of a woman. while she both wearing white clothing.', 'A man is a baseball hatetsuit and shorts the beach and a,s a a wave boardboard.', 'A man in a red dress and a white tag on in looks a crowd of people people.']\n",
      "2.4382516384124755\n"
     ]
    },
    {
     "name": "stderr",
     "output_type": "stream",
     "text": [
      " 35%|███▌      | 620/1759 [13:18<30:34,  1.61s/it]"
     ]
    },
    {
     "name": "stdout",
     "output_type": "stream",
     "text": [
      "Generated Output: ['A man-er is down a mountainboard in a snow snow in the background.', 'A man is a baseball hat and atensively standing a large of on his enduckles of his right hand.', 'A man in a hair and a chest is in a steps. a a a long of rope.', 'A man is wearing a blue and a. walking in a area area.']\n",
      "2.3426105618476867\n"
     ]
    },
    {
     "name": "stderr",
     "output_type": "stream",
     "text": [
      " 36%|███▌      | 630/1759 [13:34<27:02,  1.44s/it]"
     ]
    },
    {
     "name": "stdout",
     "output_type": "stream",
     "text": [
      "Generated Output: ['A man boy is playing on the in thrown from from a hose.', 'A man is a arely be each other. standing a outdoor. a backdrop blue. in the field street.. a people walking cars lights.', 'A man boy is a red shirt and a crowd in. a window window. a small store.', 'A people are in a beach. their large in the background. wearing a sun. a.']\n",
      "2.3100515842437743\n"
     ]
    },
    {
     "name": "stderr",
     "output_type": "stream",
     "text": [
      " 36%|███▋      | 640/1759 [13:49<29:13,  1.57s/it]"
     ]
    },
    {
     "name": "stdout",
     "output_type": "stream",
     "text": [
      "Generated Output: ['A are at a table table with eatingasting with. a.asses.', 'A man woman is a blue of and at a computer with toys. a vegetables.', 'A girl in white and white shirts are soccer on a soccer.', 'A is a black white and standing on a cush in on sewingom. a large of scissors in boots shoes. the of them.']\n",
      "2.294189286231995\n"
     ]
    },
    {
     "name": "stderr",
     "output_type": "stream",
     "text": [
      " 37%|███▋      | 650/1759 [14:04<28:57,  1.57s/it]"
     ]
    },
    {
     "name": "stdout",
     "output_type": "stream",
     "text": [
      "Generated Output: ['A man girl is a orange shirt and playing with with a.', 'A manubby girl in sitting a umbrella cream cone in her of her bright of a man.', 'A man is sitting on the air and a field. grass.', 'A manubay man man is a sitting on a ground. a a glass. to a building. a sort.']\n",
      "2.2034712553024294\n"
     ]
    },
    {
     "name": "stderr",
     "output_type": "stream",
     "text": [
      " 38%|███▊      | 660/1759 [14:19<27:07,  1.48s/it]"
     ]
    },
    {
     "name": "stdout",
     "output_type": "stream",
     "text": [
      "Generated Output: ['A man is sittingawing on a bone.. a outdoorrowd video field field. aed a fence in.', 'A man is a a on a white white of paper. then boy with turn to', 'A man in a baseball shirt-shirt and sittingilling a on sitting woman wearing a white shirt top and him', 'A man in a blue shirt and a is walking a smallroller with a woman child is sitting in the him. the sidewalk-so sidewalk.']\n",
      "2.284321391582489\n"
     ]
    },
    {
     "name": "stderr",
     "output_type": "stream",
     "text": [
      " 38%|███▊      | 670/1759 [14:35<27:09,  1.50s/it]"
     ]
    },
    {
     "name": "stdout",
     "output_type": "stream",
     "text": [
      "Generated Output: ['A man inabless from a horse and a as a can. then on her groundized..', 'A man girl is a shorts and with a hill with a in his background.', 'A man man is sitting around a greeniled floor.', 'A in a red andhat and black pants and black boots. bootsogs. walking on a park street.']\n",
      "2.2846696019172668\n"
     ]
    },
    {
     "name": "stderr",
     "output_type": "stream",
     "text": [
      " 39%|███▊      | 680/1759 [14:51<29:40,  1.65s/it]"
     ]
    },
    {
     "name": "stdout",
     "output_type": "stream",
     "text": [
      "Generated Output: ['A the beach summer, a men children are on a row red with with water.', 'A men in suits shirts and blackenders are one jeansl and and black pants are are in the side of a walk by.', 'A man in a beard and a dogs are a in a a wall.', 'A man man is a on on the air and catch a ballisbee.']\n",
      "2.2784292221069338\n"
     ]
    },
    {
     "name": "stderr",
     "output_type": "stream",
     "text": [
      " 39%|███▉      | 690/1759 [15:08<29:44,  1.67s/it]"
     ]
    },
    {
     "name": "stdout",
     "output_type": "stream",
     "text": [
      "Generated Output: ['A managedian man is a white blue dress-shirt and standing a in a wheel. a man boy watches on.', 'A man in a a trunks and into a diving into the body body blue body. is a few of the background background.', 'A man is a black and walking down dog of sheep through a road.', 'A men in their hair and blue and a shirts are a and sitting a hands in in their sky.']\n",
      "2.1963711619377135\n"
     ]
    },
    {
     "name": "stderr",
     "output_type": "stream",
     "text": [
      " 40%|███▉      | 700/1759 [15:24<29:32,  1.67s/it]"
     ]
    },
    {
     "name": "stdout",
     "output_type": "stream",
     "text": [
      "Generated Output: ['A men men in in wearing their goods. a.', 'A man boy is in a and through a green green white-. a largeed area.', 'A men are a men are are wearing a movie in a bikeboard down the parking street.', 'A man girl is wearing 5 yearsyears-old, wearing a clothing tr, is in-deep in the beach of a old-water pool. hot tub']\n",
      "2.171996760368347\n"
     ]
    },
    {
     "name": "stderr",
     "output_type": "stream",
     "text": [
      " 40%|████      | 710/1759 [15:39<27:55,  1.60s/it]"
     ]
    },
    {
     "name": "stdout",
     "output_type": "stream",
     "text": [
      "Generated Output: ['A man boy is a red dress and in holding a large boy in a pink shirt.', 'A man of people are women are standing a conversation in a room.', 'A man in a haircolored hair and a- nailsernails is holding placing a to', 'A man in a and and a white shirt isiding a guitar while his help in him.']\n",
      "2.253540551662445\n"
     ]
    },
    {
     "name": "stderr",
     "output_type": "stream",
     "text": [
      " 41%|████      | 720/1759 [15:55<27:42,  1.60s/it]"
     ]
    },
    {
     "name": "stdout",
     "output_type": "stream",
     "text": [
      "Generated Output: ['A are walking on a st a sidewalk. a.', 'A man in a article in a bookstore stop. while a man looks on the bench.', 'A men are in a man site.enced with with a cones..', 'A man in a pink shirt and standing a a handle of is wearing.']\n",
      "2.2238046526908875\n"
     ]
    },
    {
     "name": "stderr",
     "output_type": "stream",
     "text": [
      " 42%|████▏     | 730/1759 [16:10<25:52,  1.51s/it]"
     ]
    },
    {
     "name": "stdout",
     "output_type": "stream",
     "text": [
      "Generated Output: ['Aways tracks members on a tracks. a paint harness. blue safetyhat.', 'A man is a and a white- shirt is a dog dog through a red and a green trail track track.', 'A man and and is a road pile of dirt. rocks. a road house. a bucket inside on top.', 'Aose foods are including children, arening in hats and take a constructiongers a rig of a.']\n",
      "2.4218152165412903\n"
     ]
    },
    {
     "name": "stderr",
     "output_type": "stream",
     "text": [
      " 42%|████▏     | 740/1759 [16:26<26:23,  1.55s/it]"
     ]
    },
    {
     "name": "stdout",
     "output_type": "stream",
     "text": [
      "Generated Output: ['A man boy a dog isases a large anddog is wearing on from the.', 'A man in a red suit is a beach. with a ball ball. a boy in a background looks.', 'A man is wearing in 10 years is a pants and a socks white striped and black a red and, is standing on a a building fence. with at.', 'A man in a black shirted sweatshirt and from a tree ofver. a the air. a to him man man.']\n",
      "2.2591432213783262\n"
     ]
    },
    {
     "name": "stderr",
     "output_type": "stream",
     "text": [
      " 43%|████▎     | 750/1759 [16:41<25:00,  1.49s/it]"
     ]
    },
    {
     "name": "stdout",
     "output_type": "stream",
     "text": [
      "Generated Output: ['A man-haired man is in a large window. is a words of David on on', 'A man in a and sitting in a of a hill hill. a in his pockets.', 'A man in aungarees and the beach of a hill staircase. from the.', 'A man of people men are a into the water and a water of a. landed of holding a ball.']\n",
      "2.326054584980011\n"
     ]
    },
    {
     "name": "stderr",
     "output_type": "stream",
     "text": [
      " 43%|████▎     | 760/1759 [16:58<28:51,  1.73s/it]"
     ]
    },
    {
     "name": "stdout",
     "output_type": "stream",
     "text": [
      "Generated Output: ['A man and a services in a backdrop background. includes a man of a people figures.', 'A man in a long brown wigboy haircut is at the camera. she stands a camera of a bag purse white backpack.', 'A many- beach with a old man of construction project. progress. with a man-down covering the and aolding and and a ladder in a hat', 'A men women are skate in a younger dog in a them.']\n",
      "2.32857403755188\n"
     ]
    },
    {
     "name": "stderr",
     "output_type": "stream",
     "text": [
      " 44%|████▍     | 770/1759 [17:14<27:29,  1.67s/it]"
     ]
    },
    {
     "name": "stdout",
     "output_type": "stream",
     "text": [
      "Generated Output: ['A is a and and people are in a street, one a man them is holding a.', 'A man woman is a red and a on on a bench. is a at.', 'A people are standing in in in a large colored store crowded store area.', 'A of are building to they is standing a truck shovel.']\n",
      "2.2234668016433714\n"
     ]
    },
    {
     "name": "stderr",
     "output_type": "stream",
     "text": [
      " 44%|████▍     | 780/1759 [17:32<29:35,  1.81s/it]"
     ]
    },
    {
     "name": "stdout",
     "output_type": "stream",
     "text": [
      "Generated Output: ['A man in a white whitesleeved shirt shirt and on a outdoor in a church room. a walk people are at.', 'A men are in black are are front and a people people a in white clothing a caps a kissgyback ride.', 'A people men are a table table, a large of food rice in the background.', 'A man boy is a orange green shirt and a blue pants is a a sign of a family demonstration.']\n",
      "2.4633261919021607\n"
     ]
    },
    {
     "name": "stderr",
     "output_type": "stream",
     "text": [
      " 45%|████▍     | 790/1759 [17:49<27:05,  1.68s/it]"
     ]
    },
    {
     "name": "stdout",
     "output_type": "stream",
     "text": [
      "Generated Output: ['A men are on each other on a table. a on it. and', 'A are a man in on a ground with a dog in it. looking his face.', 'A men players are ready to a. a game was draw. the soccer. aans. england.', 'A man in aob clothing is a bike with a road. a lake turn.']\n",
      "1.9906816482543945\n"
     ]
    },
    {
     "name": "stderr",
     "output_type": "stream",
     "text": [
      " 45%|████▌     | 800/1759 [18:06<24:55,  1.56s/it]"
     ]
    },
    {
     "name": "stdout",
     "output_type": "stream",
     "text": [
      "Generated Output: ['A man reporter withars with newspapers that newspapers and newspaperske thatlike-bors that that it person man in behind the counter is almost to see.', 'A man in a instrument guitar in sitting on a of a window.', 'A man is a work in a dentist. a child child care watches a hand.', 'A man of people in on a table table and a middle. talk fromousi. while a man in for the a from of ground.']\n",
      "2.4891467332839965\n"
     ]
    },
    {
     "name": "stderr",
     "output_type": "stream",
     "text": [
      " 46%|████▌     | 810/1759 [18:23<25:31,  1.61s/it]"
     ]
    },
    {
     "name": "stdout",
     "output_type": "stream",
     "text": [
      "Generated Output: ['A men are one in a blue shirt and the in a blue shirt, are in a large in', 'A man is a black and white clothing is selling a stand for standing at to', 'A man is a blue shirt isuts a guitar while. a crowd crowd. who in front white. while fronts.', 'A man in a red dress and black pants is sitting a orange rock rock. holding a yellow harness.']\n",
      "2.3862634181976317\n"
     ]
    },
    {
     "name": "stderr",
     "output_type": "stream",
     "text": [
      " 47%|████▋     | 820/1759 [18:39<25:08,  1.61s/it]"
     ]
    },
    {
     "name": "stdout",
     "output_type": "stream",
     "text": [
      "Generated Output: ['A-colored group playing and a playground field.', \"A men in a a Christmas in in a building. isises aard's equipment\", 'A menian men playing on a with front middle. a day.', 'A men in a shirts-shirts are their shirts on their front of their are standing a and playingsticks.']\n",
      "2.352956235408783\n"
     ]
    },
    {
     "name": "stderr",
     "output_type": "stream",
     "text": [
      " 47%|████▋     | 830/1759 [18:56<26:47,  1.73s/it]"
     ]
    },
    {
     "name": "stdout",
     "output_type": "stream",
     "text": [
      "Generated Output: ['A are a man in on a bench with a hand in his hands.', 'A man in a blue blue white striped shirt and walking a bicycle motorcycle in the desert. water to catch a.', 'A man in a iss is aals is standing a a wall. a brush man tableel.', 'A men boys are one wearing in a and the the other in a white hat and black blue, are front alley setting. for are in in each woman.']\n",
      "2.211918091773987\n"
     ]
    },
    {
     "name": "stderr",
     "output_type": "stream",
     "text": [
      " 48%|████▊     | 840/1759 [19:13<25:51,  1.69s/it]"
     ]
    },
    {
     "name": "stdout",
     "output_type": "stream",
     "text": [
      "Generated Output: ['A man man isashes in a while a beach of a river. lake.', 'A man girl dog black dog is sitting through a fence black dog. head. a park. grass grass.', 'A man boy is a red pink dress white dressouse and a is sitting in a game game. a children.', 'A man in a woman are walking on a dog in a trees.']\n",
      "2.0180007815361023\n"
     ]
    },
    {
     "name": "stderr",
     "output_type": "stream",
     "text": [
      " 48%|████▊     | 850/1759 [19:29<23:51,  1.57s/it]"
     ]
    },
    {
     "name": "stdout",
     "output_type": "stream",
     "text": [
      "Generated Output: ['A men boys are a woman woman are white and sitting over the-. a top of a hill of stairs stairs.', 'A in a and street street. boy boy in Boy wearing, walking standing standing frontwal, in the boy.', \"A man in walking to jump a a piece piece.. a woman watches a redman's uniform watches.\", 'A man in on a bench in to a pair. blackals. while a and on in the background.']\n",
      "2.3937179923057554\n"
     ]
    },
    {
     "name": "stderr",
     "output_type": "stream",
     "text": [
      " 49%|████▉     | 860/1759 [19:45<23:35,  1.57s/it]"
     ]
    },
    {
     "name": "stdout",
     "output_type": "stream",
     "text": [
      "Generated Output: ['A man is is the see sure the the is in. continuing train starts the station.', 'A man in as wearing is a box bag. a of a man. a and a bottles wine. it.', 'A man is a red and in a ball in a grass.', 'A man in a and his a white- shirt and a pants pants is in front middle with front of a car car.']\n",
      "2.1058037638664246\n"
     ]
    },
    {
     "name": "stderr",
     "output_type": "stream",
     "text": [
      " 49%|████▉     | 870/1759 [20:01<24:42,  1.67s/it]"
     ]
    },
    {
     "name": "stdout",
     "output_type": "stream",
     "text": [
      "Generated Output: ['A man womanhaired man is to a man in a baseball top and shorts.', 'A man dog white dog is on the fence of grass grass of grass.', 'A walking in front of a people tables, a young wearing a orange-white shirtouse and a black blue skirt is to a man wearing is wearing a and', 'A to iners. is like-. a boys jump to jump. the grass beds up.']\n",
      "2.4254734992980955\n"
     ]
    },
    {
     "name": "stderr",
     "output_type": "stream",
     "text": [
      " 50%|█████     | 880/1759 [20:17<23:24,  1.60s/it]"
     ]
    },
    {
     "name": "stdout",
     "output_type": "stream",
     "text": [
      "Generated Output: ['A man is in a pirate is sitting on a air with a tree tree.', 'A men in their suits bott on bott are are are of a pink, are sitting on a beach rock in a. a is. one at the water.', \"A's like and, the the dark store. but man man was in a and at a booth. a guitarica.\", 'A people are on a table table with at a and blue plates. a screen day.']\n",
      "2.147654676437378\n"
     ]
    },
    {
     "name": "stderr",
     "output_type": "stream",
     "text": [
      " 51%|█████     | 890/1759 [20:34<23:11,  1.60s/it]"
     ]
    },
    {
     "name": "stdout",
     "output_type": "stream",
     "text": [
      "Generated Output: ['A are a man in a blue shirt and a jacketaps, a cowboy hatanna on and in a men in', 'A man is a toy in through the snow. with by a dog dog.', 'A man of people in a on a stage coloredcoloredana stage. a man man man sits a hair stands on.', \"A man man man in sitting in with a hands hand on a wooden carpetandeled chair's toyooter. his right foot on a red scwheeled sc\"]\n",
      "2.4109063267707826\n"
     ]
    },
    {
     "name": "stderr",
     "output_type": "stream",
     "text": [
      " 51%|█████     | 900/1759 [20:49<23:49,  1.66s/it]"
     ]
    },
    {
     "name": "stdout",
     "output_type": "stream",
     "text": [
      "Generated Output: ['A man in on on a phone while front of a crowd that while of a reads \" name \"C.\"', 'A man in a white shirt and a hair coat is a drums drum. a tent tent white tent tent. a beach and. a river building wall. while', 'A man in on a people in a table. a restaurant..', 'A men are on a table with a drinks of the.']\n",
      "2.021977651119232\n"
     ]
    },
    {
     "name": "stderr",
     "output_type": "stream",
     "text": [
      " 52%|█████▏    | 910/1759 [21:07<24:59,  1.77s/it]"
     ]
    },
    {
     "name": "stdout",
     "output_type": "stream",
     "text": [
      "Generated Output: ['A men are suits suits sitting a from while man a gloves on the black on the other has wearing a shovelachete.', 'A man is sitting a ball ball. a open field. a older standing in in him.', 'A man in a blue shirt and a back act on a large pole. a large.', 'A man boy is a hair hair is behind a tree box while whileaking out a edge of the box. a attempt with a grass. food and vegetables.']\n",
      "2.123458647727966\n"
     ]
    },
    {
     "name": "stderr",
     "output_type": "stream",
     "text": [
      " 52%|█████▏    | 920/1759 [21:24<25:48,  1.85s/it]"
     ]
    },
    {
     "name": "stdout",
     "output_type": "stream",
     "text": [
      "Generated Output: ['A older man is a blue whitesleeved shirt shirt and sitting down a streetblestone street..', 'A man in a baby in was a back. a people. a woman stood a cakeute of of wine. a a a hand to', 'A man boy is a red-shirt and shortshirt a baseball hat is isboarding on a park park park. while a older of the other of a and', 'A man man is a and is in front water. a is a orangegreen tree the left.']\n",
      "2.1301709532737734\n"
     ]
    },
    {
     "name": "stderr",
     "output_type": "stream",
     "text": [
      " 53%|█████▎    | 930/1759 [21:41<24:04,  1.74s/it]"
     ]
    },
    {
     "name": "stdout",
     "output_type": "stream",
     "text": [
      "Generated Output: ['A man is a is is holding the water pool. a backstroke.', 'A man in a blondetail is a white is on a man in a uniform shirt. a on his hand.', 'A is shows of a man boy in herastics. a gym.', 'A men in a white ring with one of a glovesgear and the with a.gear, are spar in a fight match.']\n",
      "2.2962756156921387\n"
     ]
    },
    {
     "name": "stderr",
     "output_type": "stream",
     "text": [
      " 53%|█████▎    | 940/1759 [21:57<21:16,  1.56s/it]"
     ]
    },
    {
     "name": "stdout",
     "output_type": "stream",
     "text": [
      "Generated Output: ['A man man is a red jacket is standingling a way through a small. the canoe.', 'A and in women in a white of fruit. while a in a redaid shirt and a a fish fish.', 'A men men in in white and are through a large.', 'Aarss people many people in at a things in are a types, a tables.']\n",
      "2.112778878211975\n"
     ]
    },
    {
     "name": "stderr",
     "output_type": "stream",
     "text": [
      " 54%|█████▍    | 950/1759 [22:14<23:56,  1.78s/it]"
     ]
    },
    {
     "name": "stdout",
     "output_type": "stream",
     "text": [
      "Generated Output: ['A man in a blue shirt is a blue pants is on to a man in a red blue shirt and a of a buildingper. a man boy sits a', 'A man group dog is in a small brown horset. is being on the ground.', 'A men are their on in af guns. a of at. a a water cup.', 'A man in a red shirt and black pants pants is sitting on a road.']\n",
      "1.886008584499359\n"
     ]
    },
    {
     "name": "stderr",
     "output_type": "stream",
     "text": [
      " 55%|█████▍    | 960/1759 [22:30<21:57,  1.65s/it]"
     ]
    },
    {
     "name": "stdout",
     "output_type": "stream",
     "text": [
      "Generated Output: ['A manubbyahua is a leash is next a building,. while a a dog part of arms and and boots of a dog in the leash are be', 'A man in a blue shirt is sitting a guitar a orange guitar. a stage. a blue in', 'A older man is a and a white cap and and blue shirt and a blue shirt is a guitara. of building.', 'A man player is a helmet helmet and a number 83\" on it.']\n",
      "2.281779110431671\n"
     ]
    },
    {
     "name": "stderr",
     "output_type": "stream",
     "text": [
      " 55%|█████▌    | 970/1759 [22:46<21:25,  1.63s/it]"
     ]
    },
    {
     "name": "stdout",
     "output_type": "stream",
     "text": [
      "Generated Output: ['A man is a snow with a shore. a umbrella setting in it', 'A man boy is wearing a blue shirt cap,, a black in from his, is at at a book expression on', 'A man dressed man in a drinksutes in his he is playing a.', 'A man in in aags is a whiteuffyama, a hat is sitting a picture of a. a a a camera. a of him.']\n",
      "2.213118016719818\n"
     ]
    },
    {
     "name": "stderr",
     "output_type": "stream",
     "text": [
      " 56%|█████▌    | 980/1759 [23:01<18:47,  1.45s/it]"
     ]
    },
    {
     "name": "stdout",
     "output_type": "stream",
     "text": [
      "Generated Output: ['A man of peopleists are in a road. the urban- area.', 'A man womanhaired man is a redckered shirt and a pants is standing the edgeh.', 'A man in on with his woman of on his hand. to a woman wearing a head closed. a head. a in on a table. a of him', 'A man is a red shirtaker and and sitting in a.. a like.']\n",
      "2.3755807518959045\n"
     ]
    },
    {
     "name": "stderr",
     "output_type": "stream",
     "text": [
      " 56%|█████▋    | 990/1759 [23:17<18:52,  1.47s/it]"
     ]
    },
    {
     "name": "stdout",
     "output_type": "stream",
     "text": [
      "Generated Output: ['A man in a redoggan on a is at a friends while the snow. they look a.', 'A men men are one in a red shirt and the on his head, a tree. in a of a house of water.', 'A man in a bikeline is a blue and aicolored sand is and standinginting at a pair.', 'A people in sitting around a large, a roomly lit room.']\n",
      "2.216485846042633\n"
     ]
    },
    {
     "name": "stderr",
     "output_type": "stream",
     "text": [
      " 57%|█████▋    | 1000/1759 [23:32<19:44,  1.56s/it]"
     ]
    },
    {
     "name": "stdout",
     "output_type": "stream",
     "text": [
      "Generated Output: ['A elderly is through a grass. the beach.', 'A men menro-American men are a beach train. with of them wearing wearing a phone.', 'A man man is a red collar is sitting in a field. a head out.', 'A man in sitting in a rock with a hands in']\n",
      "2.27264062166214\n"
     ]
    },
    {
     "name": "stderr",
     "output_type": "stream",
     "text": [
      " 57%|█████▋    | 1010/1759 [23:47<19:03,  1.53s/it]"
     ]
    },
    {
     "name": "stdout",
     "output_type": "stream",
     "text": [
      "Generated Output: ['A man collie is into a fence of a dog ball in the mouth.', 'A mened men are their-brreled shotguns are a a. is have just in a hill trip. a hill trail road.', 'A man man man is wearing a red shirt white striped jacket, is a orange guitarbrush in', 'A man in a white shirt top and a large in sitting on to a man dog. a black of it. it.']\n",
      "2.293700909614563\n"
     ]
    },
    {
     "name": "stderr",
     "output_type": "stream",
     "text": [
      " 58%|█████▊    | 1020/1759 [24:01<18:35,  1.51s/it]"
     ]
    },
    {
     "name": "stdout",
     "output_type": "stream",
     "text": [
      "Generated Output: ['A man boy in blonde pink- missing is in a whiteaid shirt and a shirt. a a bike cart. a store store.', 'A men are one wearing a red shirt and the hat, and other wearing a blue shirt shirt and a, a, are a a a man.', 'A in their look camera and show while a beach of the men tables. a restaurantectory.', 'A man boy is a red shirt is white is on a grass. play a snowman.']\n",
      "2.2158809542655944\n"
     ]
    },
    {
     "name": "stderr",
     "output_type": "stream",
     "text": [
      " 59%|█████▊    | 1030/1759 [24:15<15:48,  1.30s/it]"
     ]
    },
    {
     "name": "stdout",
     "output_type": "stream",
     "text": [
      "Generated Output: ['A man of a old- with a man sitting a redized wheelchair. through. the background.', 'A man in a woman are a wrestle over wrestle from a beamsings. a park station.', 'A older is a white uniform hat and safety safety is onched over a a platform piece of equipment Deere equipment.', 'A man vendor is in a table of hot of food different of food. with, and other items items. while a that the and']\n",
      "2.539713168144226\n"
     ]
    },
    {
     "name": "stderr",
     "output_type": "stream",
     "text": [
      " 59%|█████▉    | 1040/1759 [24:31<18:04,  1.51s/it]"
     ]
    },
    {
     "name": "stdout",
     "output_type": "stream",
     "text": [
      "Generated Output: ['A men boys are sittingading in a water. white and apants.', 'A man in a and a white shirt-sleeveved shirt is walking a bike while walking against a hood of a bridge.', 'A man in standing in front middle of a building with a large.. with aOpen Parking\"', 'A men men in white and are sitting on a table in cards game.']\n",
      "2.202486312389374\n"
     ]
    },
    {
     "name": "stderr",
     "output_type": "stream",
     "text": [
      " 60%|█████▉    | 1050/1759 [24:45<16:51,  1.43s/it]"
     ]
    },
    {
     "name": "stdout",
     "output_type": "stream",
     "text": [
      "Generated Output: ['A man in a black shirt and walking a a ladder in a outdoor stnet.', 'A men are inly in a fieldetrack.', 'A man-haired man is a white shirt white striped shirt and to the phone.', 'A women girls areuddleere a other in their of their street.']\n",
      "2.250486636161804\n"
     ]
    },
    {
     "name": "stderr",
     "output_type": "stream",
     "text": [
      " 60%|██████    | 1060/1759 [25:00<18:34,  1.59s/it]"
     ]
    },
    {
     "name": "stdout",
     "output_type": "stream",
     "text": [
      "Generated Output: ['A man in a redound hoop and on a edge of a water in him. a other of people in on the sides.', 'A man boy in wearing is to be in the different American country, iss a pot potauldron of hot sort of liquid-solid.. a background of', 'A people men are in in for a pictureter in a sun adults in on front of the two girls standing behind the background.', 'A man of people are a man in a red dress and standing for a picture.']\n",
      "2.2215505480766295\n"
     ]
    },
    {
     "name": "stderr",
     "output_type": "stream",
     "text": [
      " 61%|██████    | 1070/1759 [25:15<16:38,  1.45s/it]"
     ]
    },
    {
     "name": "stdout",
     "output_type": "stream",
     "text": [
      "Generated Output: ['A people are playing in a swingampoline, while few is a blue shirt and jumping his face with he jumps.', \"A man girl is with a ball 3 Boy.. a room's restaurant\", 'A man in a man are white are in a edge of the road street.', 'A man of people are in a stage. aoms in']\n",
      "2.179723787307739\n"
     ]
    },
    {
     "name": "stderr",
     "output_type": "stream",
     "text": [
      " 61%|██████▏   | 1080/1759 [25:31<19:18,  1.71s/it]"
     ]
    },
    {
     "name": "stdout",
     "output_type": "stream",
     "text": [
      "Generated Output: ['A man boy is a toyed helmet in his of him face. a hand. holding with the other.', 'A man dogfoot boy is in a beach rock rock rock with a middle of a crowdbble beach. is surrounded of a large. a park..', 'A manrican childan woman is a af shirt and a on a grill..', 'Afighters in a water right a open truck with with of holding heldisted up by ladder.']\n",
      "2.2293976664543154\n"
     ]
    },
    {
     "name": "stderr",
     "output_type": "stream",
     "text": [
      " 62%|██████▏   | 1090/1759 [25:46<16:16,  1.46s/it]"
     ]
    },
    {
     "name": "stdout",
     "output_type": "stream",
     "text": [
      "Generated Output: ['A man in a white-uppped beard and sitting for board a bus on is is just into the air.', 'A dog in the pink shirt is shorts is with a blue, is standing and', 'A older man in a book of paper while a large. a Asian woman in the white blue dress standing next to him. at the map.', 'A man man in a instrument guitar is a man in']\n",
      "2.2098989963531492\n"
     ]
    },
    {
     "name": "stderr",
     "output_type": "stream",
     "text": [
      " 63%|██████▎   | 1100/1759 [26:02<17:45,  1.62s/it]"
     ]
    },
    {
     "name": "stdout",
     "output_type": "stream",
     "text": [
      "Generated Output: ['A in on phone phone in wearing woman of people in the of him.', 'A man of people are sitting in a fence fence. some a man is a red blue shirt is in the other side of', 'A man in sitting held by a doctor in is wearing a whiteyband.', 'Aoysing in a appears like a be a blue coat a white in him he works working something kind. a containers..']\n",
      "2.459554064273834\n"
     ]
    },
    {
     "name": "stderr",
     "output_type": "stream",
     "text": [
      " 63%|██████▎   | 1110/1759 [26:18<16:26,  1.52s/it]"
     ]
    },
    {
     "name": "stdout",
     "output_type": "stream",
     "text": [
      "Generated Output: ['A man of people are a boat are are distance on the bank and standing and', 'A woman in on a floor in talk wearing on a project. a men them are. the camera.', 'A man player is a and running to catch a player in is a ball.', 'A man man white dog is running in a ground. a end of a pond.']\n",
      "2.009659206867218\n"
     ]
    },
    {
     "name": "stderr",
     "output_type": "stream",
     "text": [
      " 64%|██████▎   | 1120/1759 [26:34<17:33,  1.65s/it]"
     ]
    },
    {
     "name": "stdout",
     "output_type": "stream",
     "text": [
      "Generated Output: ['A man in a at a target with a rangeoc of hay. a rifle and arrow.', 'A young are a office- vehicle. standing wearing on something phones phones.', 'A man is a red and standing on a bike bike with of a snow.', 'A man of people are a white shirt black shirt are a movie in a and and a guitar.']\n",
      "2.1159844398498535\n"
     ]
    },
    {
     "name": "stderr",
     "output_type": "stream",
     "text": [
      " 64%|██████▍   | 1130/1759 [26:49<15:43,  1.50s/it]"
     ]
    },
    {
     "name": "stdout",
     "output_type": "stream",
     "text": [
      "Generated Output: ['A man in on she men sit the ground look a event of the and Law and and Law Media look.', 'A man in a are standing in a banner of the countries countries.', 'A man in a bike bike down a trail hill. the woods.', 'A man in a girl are white red shirt and walking a picture conversation fight.']\n",
      "2.1102985620498655\n"
     ]
    },
    {
     "name": "stderr",
     "output_type": "stream",
     "text": [
      " 65%|██████▍   | 1140/1759 [27:04<16:32,  1.60s/it]"
     ]
    },
    {
     "name": "stdout",
     "output_type": "stream",
     "text": [
      "Generated Output: ['A elderly man in a youngche in a a in a blue shirtidered shirt. a white shirt-sel. from his. and and, and a shirt', 'A boy in a shirt and a staircase with a school with a people.', 'A man in a are in in a swing of rocks. the field area.', 'A man in sitting a car window on is to be fixed.']\n",
      "2.279273796081543\n"
     ]
    },
    {
     "name": "stderr",
     "output_type": "stream",
     "text": [
      " 65%|██████▌   | 1150/1759 [27:20<15:44,  1.55s/it]"
     ]
    },
    {
     "name": "stdout",
     "output_type": "stream",
     "text": [
      "Generated Output: ['A men are along a appears to be a park. a sun in a on the ground. ground.', 'Aittingil inaters in in fishing towed by the by a people people.', 'A man in into a bed board into into the water pool..', 'A men are white jumps are to a tracks. while a people walk on a background.']\n",
      "2.396350824832916\n"
     ]
    },
    {
     "name": "stderr",
     "output_type": "stream",
     "text": [
      " 66%|██████▌   | 1160/1759 [27:34<13:53,  1.39s/it]"
     ]
    },
    {
     "name": "stdout",
     "output_type": "stream",
     "text": [
      "Generated Output: ['A and groom in down by side in of the. the. to a wall.', 'A man dog is sitting a trick while the empty course.', 'A man in a and sitting his a pieceishmallow.. sitting else is holdingering their lips.. to piece.', 'A man in a woman are a orange shirt are walking on a bench in talking at the ocean. the ocean. the water.']\n",
      "2.2448966979980467\n"
     ]
    },
    {
     "name": "stderr",
     "output_type": "stream",
     "text": [
      " 67%|██████▋   | 1170/1759 [27:50<16:04,  1.64s/it]"
     ]
    },
    {
     "name": "stdout",
     "output_type": "stream",
     "text": [
      "Generated Output: ['A man in a beard shirt and a white hat is in a tree.', 'A man man white dog is sitting through a white leashisbee in to him.', 'A man is people people are on the bench with a water.', 'A people of event activity is people crowd and a red tag. says \"Clrevles\"']\n",
      "2.196908938884735\n"
     ]
    },
    {
     "name": "stderr",
     "output_type": "stream",
     "text": [
      " 67%|██████▋   | 1180/1759 [28:06<15:54,  1.65s/it]"
     ]
    },
    {
     "name": "stdout",
     "output_type": "stream",
     "text": [
      "Generated Output: ['A man woman is girl is a red shirt and a a shorts is sitting on a bench in to play a a canvascil.. a hands brush.', 'A man boy is a brown hairbrown is a and a white shirt-sleeved shirt is on the-. a trboard. a in the background', 'A man in putting the a sidewalk inA ( the,', 'A man dog is through a hill road with by grass and trees.']\n",
      "2.3295029997825623\n"
     ]
    },
    {
     "name": "stderr",
     "output_type": "stream",
     "text": [
      " 68%|██████▊   | 1190/1759 [28:21<14:22,  1.52s/it]"
     ]
    },
    {
     "name": "stdout",
     "output_type": "stream",
     "text": [
      "Generated Output: ['A man is the red shirt isbles the ball ball while from the other ball green ball.', 'A man woman is a woman singer are in a perform at as playing group performer inons a whiteape and', 'A man in a blue dress and on two boys in a shirts. a classroom.', 'A man in a and a woman in a and and a child in a red shirt are a of a building building.']\n",
      "2.3684098958969115\n"
     ]
    },
    {
     "name": "stderr",
     "output_type": "stream",
     "text": [
      " 68%|██████▊   | 1200/1759 [28:37<13:31,  1.45s/it]"
     ]
    },
    {
     "name": "stdout",
     "output_type": "stream",
     "text": [
      "Generated Output: ['A man in a red dress and black with a children children, is a a plates shaped plates. a restaurant table.', 'A men men are walking water from of a water.', 'A man girl is off the knees in front snow and looks. pain.', 'A man boy in aals is on a beach bench with the sandy.']\n",
      "2.125143277645111\n"
     ]
    },
    {
     "name": "stderr",
     "output_type": "stream",
     "text": [
      " 69%|██████▉   | 1210/1759 [28:51<13:46,  1.50s/it]"
     ]
    },
    {
     "name": "stdout",
     "output_type": "stream",
     "text": [
      "Generated Output: ['A men are white clothing are hats are on two large walls.', 'A man boy is her climbing on a outdoor rock.', 'A man in a woman are walking on a bench in at a water area. the park.', 'A man boy in a pink ball in her green lot. a other people. the background.']\n",
      "2.337377870082855\n"
     ]
    },
    {
     "name": "stderr",
     "output_type": "stream",
     "text": [
      " 69%|██████▉   | 1220/1759 [29:07<13:56,  1.55s/it]"
     ]
    },
    {
     "name": "stdout",
     "output_type": "stream",
     "text": [
      "Generated Output: ['A of is a girl are a- withuit. a a floor. a table.', \"A man of peoplegoersgoers are dancing a beach overlooking and dancing. a cupsgg's. them heads.\", 'A are a man man in a background of the field. withing a ball ball.', 'A man- is sitting with dog dog in a. a is inwh.']\n",
      "2.1910449147224424\n"
     ]
    },
    {
     "name": "stderr",
     "output_type": "stream",
     "text": [
      " 70%|██████▉   | 1230/1759 [29:22<13:01,  1.48s/it]"
     ]
    },
    {
     "name": "stdout",
     "output_type": "stream",
     "text": [
      "Generated Output: ['A man in sitting a baby and another at a window. the street.', 'A man- player is a ball 7 on her back of her jersey uniform is running toward the plate.', 'Aers are protective hats and safety safetyests are a blocks on a top of', 'A people in in black hats and hats are standing from a drinking one man is sitting a picture shined.']\n",
      "2.2429670691490173\n"
     ]
    },
    {
     "name": "stderr",
     "output_type": "stream",
     "text": [
      " 70%|███████   | 1240/1759 [29:37<12:21,  1.43s/it]"
     ]
    },
    {
     "name": "stdout",
     "output_type": "stream",
     "text": [
      "Generated Output: ['A player inback with a jerseyers jersey. white pants. to throw the from', 'A man girl in a pink dressgirl outfit is a shirt- her arm is is sitting down dog.', 'A man boy in holding on a chairfire with a legs crossedstretched. while a woman in a blue shirt and to him is holding a face with', 'A man in wearing a blue shirt and a and and and the is holding in front of a white.']\n",
      "2.378615653514862\n"
     ]
    },
    {
     "name": "stderr",
     "output_type": "stream",
     "text": [
      " 71%|███████   | 1250/1759 [29:53<13:25,  1.58s/it]"
     ]
    },
    {
     "name": "stdout",
     "output_type": "stream",
     "text": [
      "Generated Output: ['A man is a trickobom instyle trick course a dog watches behind the.', 'A man in inily a shirt and pants pants. holding in in in the background. the street sidewalkway.', 'A men in one in a and one in red, are sitting on a bench in', 'A man in a mother closed is being a toy toy. smiling its.']\n",
      "2.1395682215690615\n"
     ]
    },
    {
     "name": "stderr",
     "output_type": "stream",
     "text": [
      " 72%|███████▏  | 1260/1759 [30:08<12:47,  1.54s/it]"
     ]
    },
    {
     "name": "stdout",
     "output_type": "stream",
     "text": [
      "Generated Output: ['A are white of a buildings with people in sitting on on the other, a woman boy is up jumps people are by them water.', 'A men in sitting a in one of is a and the is black.', 'A man in sitting a bike boat in is down a water steep rap..', 'A man in a hair hair and while the in camera the side. while a man in a and a a camera looks to her. at at']\n",
      "2.240656876564026\n"
     ]
    },
    {
     "name": "stderr",
     "output_type": "stream",
     "text": [
      " 72%|███████▏  | 1270/1759 [30:24<13:10,  1.62s/it]"
     ]
    },
    {
     "name": "stdout",
     "output_type": "stream",
     "text": [
      "Generated Output: ['A man in sitting on a desk desk wooden desk sewing machine. a white on to it chester', 'A man boy is a haircolored and a white topveless shirt and sitting a large. is being in a.', 'A man in a black and a and and a shirt-sleeveved shirt is a large. front air of a crowd.', 'A young-artments men in on a bench in a of a building building plateiled wall. with a wall \"A\" in the wall. inimposed on']\n",
      "2.112895202636719\n"
     ]
    },
    {
     "name": "stderr",
     "output_type": "stream",
     "text": [
      " 73%|███████▎  | 1280/1759 [30:40<12:34,  1.58s/it]"
     ]
    },
    {
     "name": "stdout",
     "output_type": "stream",
     "text": [
      "Generated Output: ['A men are sitting on to each large firepanove firefire. a.', 'A man of people men is a a large corner a few of. in them.', 'A men men are sitting a dance dance. a in traditional outfits.', 'A man dog is a black dog are playing in a grass grass.']\n",
      "2.1460630893707275\n"
     ]
    },
    {
     "name": "stderr",
     "output_type": "stream",
     "text": [
      " 73%|███████▎  | 1290/1759 [30:55<12:18,  1.57s/it]"
     ]
    },
    {
     "name": "stdout",
     "output_type": "stream",
     "text": [
      "Generated Output: ['Avious man in a shirt shirtsuitunks and a a hatals. sitting out to jump a bike bikeized.', 'A man girl is a are playing on a bench bench with a.', 'A the field setting, a man is in a is against a rock. looks at.', 'A olderly Woman inches down pick a lid of of ground of a peopleaded-abobs are beingilling.']\n",
      "2.393519401550293\n"
     ]
    },
    {
     "name": "stderr",
     "output_type": "stream",
     "text": [
      " 74%|███████▍  | 1300/1759 [31:11<10:54,  1.43s/it]"
     ]
    },
    {
     "name": "stdout",
     "output_type": "stream",
     "text": [
      "Generated Output: ['A man girl inraps a presents present. while a store dress and a.', 'A man in a foreground with a blueman shirt-shirt and a bottle in a batbrush.', 'A man in a red shirt and a face in a platform.', 'A man- is a red shirt ands while a mouth open.']\n",
      "2.2392005443573\n"
     ]
    },
    {
     "name": "stderr",
     "output_type": "stream",
     "text": [
      " 74%|███████▍  | 1310/1759 [31:29<12:37,  1.69s/it]"
     ]
    },
    {
     "name": "stdout",
     "output_type": "stream",
     "text": [
      "Generated Output: ['Aicians playing a hat and guitar instrument guitar. singing. a microphone.', 'A in a shirt and black and and whiteaid shirt is a desk of a art setting. a people. the background.', 'A man in a blackean jacket and a pants and and a shoes is walking on the bed of', 'A man in a blue shirt and black is sitting a guitar while singing on to a woman in wearing in a.']\n",
      "2.0814605593681335\n"
     ]
    },
    {
     "name": "stderr",
     "output_type": "stream",
     "text": [
      " 75%|███████▌  | 1320/1759 [31:45<10:56,  1.49s/it]"
     ]
    },
    {
     "name": "stdout",
     "output_type": "stream",
     "text": [
      "Generated Output: ['A man of people are a suits are helmets are on on a track. a pavement.', 'A man in a red black coat and sitting in a tree building. a sidewalk.', 'A men in sitting a large computer to a monitor. a room lot. a car woman in nearby.', 'A man in a shirt a bluearmouthke is sitting a of a large. a people men. the background.']\n",
      "2.3695774555206297\n"
     ]
    },
    {
     "name": "stderr",
     "output_type": "stream",
     "text": [
      " 76%|███████▌  | 1330/1759 [32:00<10:57,  1.53s/it]"
     ]
    },
    {
     "name": "stdout",
     "output_type": "stream",
     "text": [
      "Generated Output: ['A in women in whiteoes are padd up in a river lake lake of water.', 'A man in a blue shirt and jeans jeans is into a fence of boxes crates.', 'A older man is down a street with a in are in with trash.', 'A men in on to put a of metal to a shed. up for aentry.']\n",
      "2.407482087612152\n"
     ]
    },
    {
     "name": "stderr",
     "output_type": "stream",
     "text": [
      " 76%|███████▌  | 1340/1759 [32:17<11:41,  1.68s/it]"
     ]
    },
    {
     "name": "stdout",
     "output_type": "stream",
     "text": [
      "Generated Output: ['A menian men in sitting a a sign constructed water can. and and', 'A in a with a shorts and a baseball baseball cap, a.ooks a fishing from caught caught. on.', 'A man in a white isff off a bench bench. while a woman that a park in the background.', 'A is girl is is inically is a pantsyons and sitting with that the can see, one the, the or or her head face.']\n",
      "2.451037323474884\n"
     ]
    },
    {
     "name": "stderr",
     "output_type": "stream",
     "text": [
      " 77%|███████▋  | 1350/1759 [32:33<11:27,  1.68s/it]"
     ]
    },
    {
     "name": "stdout",
     "output_type": "stream",
     "text": [
      "Generated Output: ['A man dogaker is padd a through a river river river.', 'A man of playing in a of a audience. a audience is wearing a orange shirt. a a on his arms.', 'A man in a white shirt-shirt and a jeans on a blackbelt is his head around a woman in a blue t white striped shirt. a blue.', 'A man in a blue- and through a street with a dog of vegetables in']\n",
      "2.136492967605591\n"
     ]
    },
    {
     "name": "stderr",
     "output_type": "stream",
     "text": [
      " 77%|███████▋  | 1360/1759 [32:48<09:42,  1.46s/it]"
     ]
    },
    {
     "name": "stdout",
     "output_type": "stream",
     "text": [
      "Generated Output: ['A man in sitting in a field with a martial art.', 'A older man is a white shirt and black jeans is sitting on to a white net.', 'A man in a red hat and a black in a blueaat are on a bench platform lookingen with bags.', 'A people are sitting a street street, a river.']\n",
      "2.3423542618751525\n"
     ]
    },
    {
     "name": "stderr",
     "output_type": "stream",
     "text": [
      " 78%|███████▊  | 1370/1759 [33:03<09:32,  1.47s/it]"
     ]
    },
    {
     "name": "stdout",
     "output_type": "stream",
     "text": [
      "Generated Output: ['A man of people are a park colored- area in a and the left and a to the background.', 'A men dogs white dogs are playing to each other on one coll in the mouths.', 'A man doghaired man in a black blue shirt and a shirt is covers his arm out the of him body.', 'A man in a water is holding to climb out of hisers watching.']\n",
      "2.252750027179718\n"
     ]
    },
    {
     "name": "stderr",
     "output_type": "stream",
     "text": [
      " 78%|███████▊  | 1380/1759 [33:18<09:32,  1.51s/it]"
     ]
    },
    {
     "name": "stdout",
     "output_type": "stream",
     "text": [
      "Generated Output: ['A man in a jeans and a redula in cooking over a pick up up off ailling a while a man in a shirt white iscoat is against the', 'A man in a white dresshirt is standing down a sidewalk with a boat dog in', 'A men men are a clothing are along trail path in a forested areaadow. a day.', 'A in a white blue shirt and a background of a crowd of people.']\n",
      "2.27249835729599\n"
     ]
    },
    {
     "name": "stderr",
     "output_type": "stream",
     "text": [
      " 79%|███████▉  | 1390/1759 [33:33<09:13,  1.50s/it]"
     ]
    },
    {
     "name": "stdout",
     "output_type": "stream",
     "text": [
      "Generated Output: ['A men in one in a red shirt and the other with a red shirt white shirt shirt, standing in a.', 'A man in a beard shirt and wearing a orange shirt, a jacket, is sitting a cigarette.', 'A man in in a black is a hairish is on to a woman in a red- dress. both wearing their expressions on their faces.', 'A man in a jeans and sitting on the ground with her head on her head.']\n",
      "1.972661554813385\n"
     ]
    },
    {
     "name": "stderr",
     "output_type": "stream",
     "text": [
      " 80%|███████▉  | 1400/1759 [33:48<08:23,  1.40s/it]"
     ]
    },
    {
     "name": "stdout",
     "output_type": "stream",
     "text": [
      "Generated Output: ['A are a side of a road are walking for a bus to to change. and they can go the', 'A man is a woman in on a ground with. while to play a.ushes. paint paint of', 'A man boy is a hairbrown and a eyes is sitting a piece. a hand and holding a cookie with her other hand', 'A man in a pants is behind a bush of grass. a flowers.']\n",
      "2.109111189842224\n"
     ]
    },
    {
     "name": "stderr",
     "output_type": "stream",
     "text": [
      " 80%|████████  | 1410/1759 [34:05<09:37,  1.65s/it]"
     ]
    },
    {
     "name": "stdout",
     "output_type": "stream",
     "text": [
      "Generated Output: ['A man in a a sign and while while a toy, while a on excitement else looking the room is.', 'A men in white masksubs and in byby-side in a table stop.', 'A men in white hats and their wa are and.', 'A man man man wearing sitting a ball ball with a bat. to a green ball.']\n",
      "2.464732050895691\n"
     ]
    },
    {
     "name": "stderr",
     "output_type": "stream",
     "text": [
      " 81%|████████  | 1420/1759 [34:21<08:28,  1.50s/it]"
     ]
    },
    {
     "name": "stdout",
     "output_type": "stream",
     "text": [
      "Generated Output: ['A man in a blue shirt and a to a woman in a blue shirt. a middle.', 'A men are a room shirt white striped are 1-1 are a a side of a lake.', 'A men are a are masks be and are one left and and and a gloves coats are are a fur wires are', 'A man is a people is sailing through the by a large, of men.']\n",
      "2.3485780239105223\n"
     ]
    },
    {
     "name": "stderr",
     "output_type": "stream",
     "text": [
      " 81%|████████▏ | 1430/1759 [34:37<08:39,  1.58s/it]"
     ]
    },
    {
     "name": "stdout",
     "output_type": "stream",
     "text": [
      "Generated Output: ['A man is sitting with a animal gameirl- ball game game..', 'A men are a in a of a large of people.', 'A elderly is painting on a painting large painting painting of art. while a wearing on hard on his piece. hand.', 'A men in suits hats are a side of a building. is being construction.']\n",
      "2.312205195426941\n"
     ]
    },
    {
     "name": "stderr",
     "output_type": "stream",
     "text": [
      " 82%|████████▏ | 1440/1759 [34:52<08:05,  1.52s/it]"
     ]
    },
    {
     "name": "stdout",
     "output_type": "stream",
     "text": [
      "Generated Output: ['A, a red shirt white striped jersey and with a grass.', 'A man dog is sitting in the field hill grass. grass. a dog in aers..', 'A man in sitting to climb for a dogs in the.', 'A man in a women are sitting a a book. is clothingests and bowlsery, other items.']\n",
      "2.3454285740852354\n"
     ]
    },
    {
     "name": "stderr",
     "output_type": "stream",
     "text": [
      " 82%|████████▏ | 1450/1759 [35:08<08:25,  1.64s/it]"
     ]
    },
    {
     "name": "stdout",
     "output_type": "stream",
     "text": [
      "Generated Output: ['A man of two men are inically are white and and pants pants white pants are they walk a a ladder.', 'A man boy is a pink and and a pink and is standing down to a tree. in a white t sheet.', 'Aengers on seated in sitting on a sort of train transportation. possibly a subway.', 'A man in in a pants white a black purseopawk and a hand in a man with a black m hat. and shirt pants and a boots.']\n",
      "2.070293498039246\n"
     ]
    },
    {
     "name": "stderr",
     "output_type": "stream",
     "text": [
      " 83%|████████▎ | 1460/1759 [35:24<07:48,  1.57s/it]"
     ]
    },
    {
     "name": "stdout",
     "output_type": "stream",
     "text": [
      "Generated Output: ['A man boy in sitting down a field city with a building.', 'A are a man girl in a red shirt and a little white looking a is playing at', 'A man in wearing in a ladder corner with holding a cigarette.', 'A man in a jeans and sitting up up of a pile box. the groundway.']\n",
      "2.1290688276290894\n"
     ]
    },
    {
     "name": "stderr",
     "output_type": "stream",
     "text": [
      " 84%|████████▎ | 1470/1759 [35:40<07:47,  1.62s/it]"
     ]
    },
    {
     "name": "stdout",
     "output_type": "stream",
     "text": [
      "Generated Output: ['A man in a blue-sleeveved shirt- shirt is in front of a building with the on a. a of a large table.', 'A man in a orange shirtuit is a hairors is walking on a large.', 'A elderly woman is a blue shirt and on a ladder trail with a mountainside. a other tall trees.', 'A man in sitting on a chair room with with a hand on a of and and the other hand a glassini glass.']\n",
      "2.1834147334098817\n"
     ]
    },
    {
     "name": "stderr",
     "output_type": "stream",
     "text": [
      " 84%|████████▍ | 1480/1759 [35:56<07:15,  1.56s/it]"
     ]
    },
    {
     "name": "stdout",
     "output_type": "stream",
     "text": [
      "Generated Output: ['A man in a red- dressqa is down a man cart. a man manhaired man in a black and behind her.', 'A man in a red shirtared shirt and with a orangeol can while', 'A man in a red shirtpron and standing on a table with a large in front of him.', 'A man is in a and is a blue is down aashing in. a man in a woman dog look behind.']\n",
      "2.05250278711319\n"
     ]
    },
    {
     "name": "stderr",
     "output_type": "stream",
     "text": [
      " 85%|████████▍ | 1490/1759 [36:12<07:47,  1.74s/it]"
     ]
    },
    {
     "name": "stdout",
     "output_type": "stream",
     "text": [
      "Generated Output: ['A man man is sitting out of a water and and a beach. a in its mouth.', 'A is a group of a young and his daughter in the ground. a daughter standing him the of the. he.', 'A man dog is standing through a a yellow dog. a field.', 'A man man is a white shirt is jeansbandf is walkingowing a field of a whiteaks horses. one of and one brown brown. with a grass']\n",
      "2.221555066108704\n"
     ]
    },
    {
     "name": "stderr",
     "output_type": "stream",
     "text": [
      " 85%|████████▌ | 1500/1759 [36:29<07:18,  1.69s/it]"
     ]
    },
    {
     "name": "stdout",
     "output_type": "stream",
     "text": [
      "Generated Output: ['A young in suitsues are a a desert river. a back of a motorcycle Deerere tractorator. a man in in the front.', \"A man- hahaired girl is a baby dogcorder in a a a park's a of a.\", 'A a sun in the background, a water isgyback by the girl. the red shirt. the shovelisbee.', 'Ainyoosed man in a blackveless shirt and in front middle of a building shop. a largeop in']\n",
      "2.289492654800415\n"
     ]
    },
    {
     "name": "stderr",
     "output_type": "stream",
     "text": [
      " 86%|████████▌ | 1510/1759 [36:44<06:02,  1.46s/it]"
     ]
    },
    {
     "name": "stdout",
     "output_type": "stream",
     "text": [
      "Generated Output: ['A are a beach beach in the water. a few looking dog in the left.', 'A man in a blue shirtpron is a gloves is a large that a industrial setting.', 'A man man man is a orangepron isouses in at a table.. while up a white glass and a glass of wine.', 'A man in a dog is in a pants is a head in his head as he walksapsches on a a']\n",
      "2.326163125038147\n"
     ]
    },
    {
     "name": "stderr",
     "output_type": "stream",
     "text": [
      " 86%|████████▋ | 1520/1759 [37:00<06:29,  1.63s/it]"
     ]
    },
    {
     "name": "stdout",
     "output_type": "stream",
     "text": [
      "Generated Output: ['A men are one wearing a black shirt and the other wearing a black jacket, a game..', 'A man in a and a in a and a shirtcolored shirt is walking a large dog dogoodle.', 'A man dog is sitting through the snow. two. a trail.', 'A man boy in a black shirt and blackana is his neck is a bottles in a man in a background. his arms.']\n",
      "2.2760419130325316\n"
     ]
    },
    {
     "name": "stderr",
     "output_type": "stream",
     "text": [
      " 87%|████████▋ | 1530/1759 [37:17<06:36,  1.73s/it]"
     ]
    },
    {
     "name": "stdout",
     "output_type": "stream",
     "text": [
      "Generated Output: ['A man in a and a hat shirt is walking through a beach.', 'A man in a jeans-shirt and jeans is with on his woman in a arms,', 'A men men in sitting in a street. a. a woman dog of people watch..', 'A men in playing on a table with a bottle of food. it.']\n",
      "2.3088855504989625\n"
     ]
    },
    {
     "name": "stderr",
     "output_type": "stream",
     "text": [
      " 88%|████████▊ | 1540/1759 [37:34<06:06,  1.68s/it]"
     ]
    },
    {
     "name": "stdout",
     "output_type": "stream",
     "text": [
      "Generated Output: ['A man in sitting while she men children are with her. one dog dog. on a..', 'A man in on with a chair with a drink sitting him. her head on the shoulder. a a hand.', 'A man in a redatee and wearing and and a baseballret is in a podium street. a iners.', 'A man in a hair and a white shirt is on a table with a glass girl. a and a shirt.']\n",
      "2.0830811738967894\n"
     ]
    },
    {
     "name": "stderr",
     "output_type": "stream",
     "text": [
      " 88%|████████▊ | 1550/1759 [37:49<05:01,  1.44s/it]"
     ]
    },
    {
     "name": "stdout",
     "output_type": "stream",
     "text": [
      "Generated Output: ['A men men men are white boots are sitting on a equipment.', 'A men workers are working on on a ground of a building.', 'A men in sitting a on their shoulders while a street. a sunny day. a city neighborhood.', 'A man man wagon is a driver on is is stopped in water. a man fence area in it.']\n",
      "2.090778625011444\n"
     ]
    },
    {
     "name": "stderr",
     "output_type": "stream",
     "text": [
      " 89%|████████▊ | 1560/1759 [38:07<05:54,  1.78s/it]"
     ]
    },
    {
     "name": "stdout",
     "output_type": "stream",
     "text": [
      "Generated Output: ['A men are suits shirtsests are one hats are standing a construction lot. the city. next a car.', 'A in whiteaki pants uniforms and a conversation. a bench street.', 'A man in a beard shirt and black is a black hat white striped is a of a building.rant. against a wall wall. is \"es.Do', 'A man in in a balcony with to a boat boat white boat.']\n",
      "2.304746651649475\n"
     ]
    },
    {
     "name": "stderr",
     "output_type": "stream",
     "text": [
      " 89%|████████▉ | 1570/1759 [38:22<04:20,  1.38s/it]"
     ]
    },
    {
     "name": "stdout",
     "output_type": "stream",
     "text": [
      "Generated Output: ['A the construction site, a men are hard are working work. a. while a fourth man on in a large vehicle.', 'A in a up sleeves and a ballisbee. a ground.', 'A men are in the beach, white same of and and the red and. a pants.', 'A in on hard safety vests and hard hats. a factory.']\n",
      "2.1598557829856873\n"
     ]
    },
    {
     "name": "stderr",
     "output_type": "stream",
     "text": [
      " 90%|████████▉ | 1580/1759 [38:36<04:27,  1.50s/it]"
     ]
    },
    {
     "name": "stdout",
     "output_type": "stream",
     "text": [
      "Generated Output: ['A people men are a costumes are a older movie.', 'A men men in a suits are as playing in a waterfall. water.', 'A man boy-haired girl is on a chair with playing a a toy blanketmo doll. a of pictures children on around.', 'A of girl is on a chairlift with a field site. a. busy.']\n",
      "2.165379023551941\n"
     ]
    },
    {
     "name": "stderr",
     "output_type": "stream",
     "text": [
      " 90%|█████████ | 1590/1759 [38:52<04:07,  1.47s/it]"
     ]
    },
    {
     "name": "stdout",
     "output_type": "stream",
     "text": [
      "Generated Output: ['A man and is sitting in the beach road.', \"A man in a camera of a for to the table. a hands young's hand.\", 'A man child dog white dog is up a man in a red shirtep. she man retri runs behind it.', 'A people in white shirtss are standingnging on a grass of a fieldy field.']\n",
      "2.232688307762146\n"
     ]
    },
    {
     "name": "stderr",
     "output_type": "stream",
     "text": [
      " 91%|█████████ | 1600/1759 [39:07<03:59,  1.51s/it]"
     ]
    },
    {
     "name": "stdout",
     "output_type": "stream",
     "text": [
      "Generated Output: ['A man in a red dress top and sitting a pieceurger with a with a knifeula. a a closing a door. a same hand.', 'A men are down sliding down a hill dune.', 'Aingbl players in for the start game of matches to', 'A man in on a lipstick and sitting in close to a camera.']\n",
      "2.186555802822113\n"
     ]
    },
    {
     "name": "stderr",
     "output_type": "stream",
     "text": [
      " 92%|█████████▏| 1610/1759 [39:23<04:16,  1.72s/it]"
     ]
    },
    {
     "name": "stdout",
     "output_type": "stream",
     "text": [
      "Generated Output: ['A older man is ready to go a car. a a of. at a auction..', 'A men are a child child are sitting on a garden. a of the adults is wearing the boy how to make a.', 'A man in sitting in a of a large with a white with a sitting in the. front. him room of the room.', 'A men children are their heads out of a top of a car. a weather.']\n",
      "2.168582808971405\n"
     ]
    },
    {
     "name": "stderr",
     "output_type": "stream",
     "text": [
      " 92%|█████████▏| 1620/1759 [39:39<03:49,  1.65s/it]"
     ]
    },
    {
     "name": "stdout",
     "output_type": "stream",
     "text": [
      "Generated Output: ['A men are white and and in a street with a', 'A are people people in a motorcycle working of wearing the top and a a the other a. ladder two5\" and he is the are. a living.', 'A people are in cross at at a sun in the table of the table is something.', 'A manless man is a blue shorts and a white cap is on the edge of a crowd.']\n",
      "2.258640003204346\n"
     ]
    },
    {
     "name": "stderr",
     "output_type": "stream",
     "text": [
      " 93%|█████████▎| 1630/1759 [39:54<03:20,  1.56s/it]"
     ]
    },
    {
     "name": "stdout",
     "output_type": "stream",
     "text": [
      "Generated Output: ['A man-colored dog is on runs a ball ballisbee. is man is a is dropped.', 'A in a pants and jeans pants is a a while a.', 'A man in a red shirt white dress dress is a baby and in', 'A men in a in one one on a shorts wearing the kick from the woman womanking woman. a.']\n",
      "2.5365225315093993\n"
     ]
    },
    {
     "name": "stderr",
     "output_type": "stream",
     "text": [
      " 93%|█████████▎| 1640/1759 [40:10<03:04,  1.55s/it]"
     ]
    },
    {
     "name": "stdout",
     "output_type": "stream",
     "text": [
      "Generated Output: ['A man in a beard shirt is to be walking with a woman on a woman is a are on.', 'A elderly man younger younger man are both wearing their rack, aets, are at by side. the camera.', 'A man in a red shirt and walking in to a wearing at a a large.', 'A people men are a snowball taken in them in sitting a-.']\n",
      "2.202925610542297\n"
     ]
    },
    {
     "name": "stderr",
     "output_type": "stream",
     "text": [
      " 94%|█████████▍| 1650/1759 [40:27<03:03,  1.68s/it]"
     ]
    },
    {
     "name": "stdout",
     "output_type": "stream",
     "text": [
      "Generated Output: ['A man-haired man wearing is wearing a whitequ and in front middle with a.', 'A man in a red shirthator and a shirtveless shirt and black pants- pants isowsing on a while a restaurant restaurant.', 'A man in on a in in a office area.', 'A man in a orange shirt hat is a is at a orange on the hand. standing camera in to him looks in a ladder. a to get the object']\n",
      "2.0181387186050417\n"
     ]
    },
    {
     "name": "stderr",
     "output_type": "stream",
     "text": [
      " 94%|█████████▍| 1660/1759 [40:42<02:34,  1.56s/it]"
     ]
    },
    {
     "name": "stdout",
     "output_type": "stream",
     "text": [
      "Generated Output: ['A man in a sign that of building with says \"Welcometo\"\" I\\'m a for a.\" I, a hoteler.\"', \"A man in a orangero and sitting over to the bench with play a's hand. a air.\", 'A man in a white black dress-shirt and in- in water water.', 'A man man is a black collar is a blackige harness with in a tree. a in the background.']\n",
      "2.0788638949394227\n"
     ]
    },
    {
     "name": "stderr",
     "output_type": "stream",
     "text": [
      " 95%|█████████▍| 1670/1759 [40:57<02:18,  1.55s/it]"
     ]
    },
    {
     "name": "stdout",
     "output_type": "stream",
     "text": [
      "Generated Output: ['A man in a a sign piece banner table of paper with in a of a old of with a and a decorations. a other play playing.', 'A man clim is stage with a while a crowd full behind the background.', 'A older is a hair and a black shirt is another person. a hair and a a striped shirt top. while a beach.', 'A man in sitting at a a man is to climb a tree wall. a hands bike.']\n",
      "2.1928449630737306\n"
     ]
    },
    {
     "name": "stderr",
     "output_type": "stream",
     "text": [
      " 96%|█████████▌| 1680/1759 [41:13<02:06,  1.61s/it]"
     ]
    },
    {
     "name": "stdout",
     "output_type": "stream",
     "text": [
      "Generated Output: ['A men in sitting on on build a piece piece into a large sign.. is sitting a side.', 'A man is a white otherashes is a few is is a a in a mouth.', 'Airtless man in a baseball shirt on his head and standing his a of a mirror.', 'A man man is a red collar is sitting through a grass.']\n",
      "2.1154207587242126\n"
     ]
    },
    {
     "name": "stderr",
     "output_type": "stream",
     "text": [
      " 96%|█████████▌| 1690/1759 [41:29<01:55,  1.67s/it]"
     ]
    },
    {
     "name": "stdout",
     "output_type": "stream",
     "text": [
      "Generated Output: ['A men are in the snow. a ground. a fence. while a dog the of the other.', 'A men dogs are playing over one each other.', 'A man man is of men people in and young, wearing in a children and', 'A man of people men Eastern men are for a camera.']\n",
      "2.115451753139496\n"
     ]
    },
    {
     "name": "stderr",
     "output_type": "stream",
     "text": [
      " 97%|█████████▋| 1700/1759 [41:44<01:33,  1.58s/it]"
     ]
    },
    {
     "name": "stdout",
     "output_type": "stream",
     "text": [
      "Generated Output: ['A man in a red dress white dressotard is a socks on dancing in to a boy in a blue and a white in a blue pink le white le', 'A man in a blue shirt is on a with a guitar. a other in along playing instruments behind him.', 'A man boy is in a blue shirted and on a grass grass grass,.', 'A man doghaired man in a blue shirt shirt and walking at a camera in a restaurant.']\n",
      "2.2083922624588013\n"
     ]
    },
    {
     "name": "stderr",
     "output_type": "stream",
     "text": [
      " 97%|█████████▋| 1710/1759 [42:00<01:11,  1.45s/it]"
     ]
    },
    {
     "name": "stdout",
     "output_type": "stream",
     "text": [
      "Generated Output: ['A men men are their playing a swingampoline. one of them is to be wearing off. the head. the other is for her smile. her.', 'A the background, a hot day, a man line is is its stops in from the camera. while cam one is through small that the the road.', 'A man of a man in a red dress and in front of a building building-storyeled door frame a man in a red coat. at at a hands', 'A man boy is sitting a piece with of a bowlrofoam plate. sitting is on a table. to a large.']\n",
      "2.2826347589492797\n"
     ]
    },
    {
     "name": "stderr",
     "output_type": "stream",
     "text": [
      " 98%|█████████▊| 1720/1759 [42:16<01:02,  1.60s/it]"
     ]
    },
    {
     "name": "stdout",
     "output_type": "stream",
     "text": [
      "Generated Output: ['A man in sitting a and a white box. to look like a Statue character \"-E.', 'A of is on a another a guitarjo while while is two in him..', 'A man in a dress clothing clothing is walking in in the a', 'A man in a blue and and on a table with a glass platecloth and aotsps her hands..']\n",
      "2.112234377861023\n"
     ]
    },
    {
     "name": "stderr",
     "output_type": "stream",
     "text": [
      " 98%|█████████▊| 1730/1759 [42:31<00:41,  1.44s/it]"
     ]
    },
    {
     "name": "stdout",
     "output_type": "stream",
     "text": [
      "Generated Output: ['A man man is a hair hair and sittingiddling with guitar while playing on on at happy.', 'A man in sitting and holding sun is to her is holding on something computer object. a white on it.', 'A men members are white jerseys and on a field.', 'A man boy in a blue dress and on a bench ground of a young in a blue shirt blue shirt.']\n",
      "2.5009956121444703\n"
     ]
    },
    {
     "name": "stderr",
     "output_type": "stream",
     "text": [
      " 99%|█████████▉| 1740/1759 [42:46<00:28,  1.50s/it]"
     ]
    },
    {
     "name": "stdout",
     "output_type": "stream",
     "text": [
      "Generated Output: ['A man in a blue shirt white striped is a ball ball into standing by other.', 'A man in a white hat and in to a man with a two tall trees. night.', 'A man in a bags of his bicycle, on a head. a down a street. a city.', 'A man in a white shirt and a a woman is walking a of a on a wall.']\n",
      "2.3184112668037415\n"
     ]
    },
    {
     "name": "stderr",
     "output_type": "stream",
     "text": [
      " 99%|█████████▉| 1750/1759 [43:02<00:14,  1.65s/it]"
     ]
    },
    {
     "name": "stdout",
     "output_type": "stream",
     "text": [
      "Generated Output: ['A man in sitting by a car on a lake-. a man the same on to pull off', 'A man man in a orangean shirt and a is in and walking down the street path street.', 'A man is aouse-gy pants and a is a red shirt cap is and a picture with a camera. on a.. front parky field area', 'A man boy is a a old platform while']\n",
      "2.251482391357422\n"
     ]
    },
    {
     "name": "stderr",
     "output_type": "stream",
     "text": [
      "100%|██████████| 1759/1759 [43:16<00:00,  1.48s/it]\n"
     ]
    },
    {
     "name": "stdout",
     "output_type": "stream",
     "text": [
      "Epoch 0 - Avg Loss: 2.6789137827123413\n",
      "Epoch: 1\n"
     ]
    },
    {
     "name": "stderr",
     "output_type": "stream",
     "text": [
      "  1%|          | 10/1759 [00:15<44:37,  1.53s/it]"
     ]
    },
    {
     "name": "stdout",
     "output_type": "stream",
     "text": [
      "Generated Output: ['A man in a white dress-shirt and standing a car with is up high. and is holding the middle and a ground of the people park.', 'A man in in a and a white-shirt is on a water. a of a large.', 'A man in a blue and tie white shirtuports is walking on a ground, a of wood. a head closed.', 'A man man in a orangerian shirt is a is in and walking down the street path street.']\n",
      "4.154341864585876\n"
     ]
    },
    {
     "name": "stderr",
     "output_type": "stream",
     "text": [
      "  1%|          | 20/1759 [00:30<46:44,  1.61s/it]"
     ]
    },
    {
     "name": "stdout",
     "output_type": "stream",
     "text": [
      "Generated Output: ['A men girls in in front doorway-covered alley with one of a of a large and the other in it.', 'A man in in the edge of a car caran car with with open window open,', 'A from a movie- where a in and front background of a are people people on on the side of him.', 'A man-haired girl is sitting a large-latable ball down a pink and. the water.']\n",
      "2.136198806762695\n"
     ]
    },
    {
     "name": "stderr",
     "output_type": "stream",
     "text": [
      "  2%|▏         | 30/1759 [00:46<45:00,  1.56s/it]"
     ]
    },
    {
     "name": "stdout",
     "output_type": "stream",
     "text": [
      "Generated Output: ['A man boy wearing a blue shirt and a in a other men stand. one of woman in woman in one a, his hand.', 'A man- truck is driving a large of a of a houses. a men are in to it truck.', 'A man in a red dress top and walking a pieceurger in a with a knifeula. a a closing a lid. a same hand.', 'A man in a and a white shirt is sitting down a pick a ground of a car car. is parked the track track.']\n",
      "2.167017734050751\n"
     ]
    },
    {
     "name": "stderr",
     "output_type": "stream",
     "text": [
      "  2%|▏         | 40/1759 [01:02<42:42,  1.49s/it]"
     ]
    },
    {
     "name": "stdout",
     "output_type": "stream",
     "text": [
      "Generated Output: ['A man in a white hat and is a woman is walking a of a on a wall.', 'A man girl girl is sitting her a nose with hair at nose with. she she say a funny face.', 'A older man in sitting a computerering iron to a circuit circuit board. a in a table table.', 'A man man in a baby girl in who a brother, in by a. in a field park.']\n",
      "2.2724262714385985\n"
     ]
    },
    {
     "name": "stderr",
     "output_type": "stream",
     "text": [
      "  3%|▎         | 50/1759 [01:18<45:18,  1.59s/it]"
     ]
    },
    {
     "name": "stdout",
     "output_type": "stream",
     "text": [
      "Generated Output: ['A man in adults man in playing down a snow. the group day.', 'A man girl is a and and sitting on the ground in', 'A elderly man is sitting vegetables a a blue hatoon hat and and a up jeans blue.', 'A man in a white is a a man with a piece frame a woman with cut. a wall.']\n",
      "2.2355753421783446\n"
     ]
    },
    {
     "name": "stderr",
     "output_type": "stream",
     "text": [
      "  3%|▎         | 60/1759 [01:33<45:08,  1.59s/it]"
     ]
    },
    {
     "name": "stdout",
     "output_type": "stream",
     "text": [
      "Generated Output: ['A menmen are standing in a peopletrucks, one of a hose and wearing against the trucktruck. the the other two are standing. him', 'A man girl is a pink shirtsuit is a is sitting on the water of a water. the beach.', 'A man in wearing a white shirt and is while she looks a armskin. to eating. meal. a table table.', 'A are a side of a road are walking for a light to to change. and they can cross the']\n",
      "2.1875041723251343\n"
     ]
    },
    {
     "name": "stderr",
     "output_type": "stream",
     "text": [
      "  4%|▍         | 70/1759 [01:50<48:07,  1.71s/it]"
     ]
    },
    {
     "name": "stdout",
     "output_type": "stream",
     "text": [
      "Generated Output: ['A in a out of a bag. a of a buildingWelcome\"\"\" sign.', 'A man is through the air on while to land a ball.', 'A men are in the edge of a longenced inty, the ocean. one at the boat and. a.', 'A man of of men man and a, a woman shirt and a, black shirt aist blue, in a crowd.']\n",
      "2.1813294291496277\n"
     ]
    },
    {
     "name": "stderr",
     "output_type": "stream",
     "text": [
      "  5%|▍         | 80/1759 [02:06<44:22,  1.59s/it]"
     ]
    },
    {
     "name": "stdout",
     "output_type": "stream",
     "text": [
      "Generated Output: ['A man boy is through a hill road in in grass grass.', 'A man in a black hat and sitting a camera a thumbs look. he walks a. a knife knife.', 'A man girl is is inically is a pyons and sitting with that she can look, one the, the or or her head face.', 'A are in a park street court. a hot street street.']\n",
      "2.396299147605896\n"
     ]
    },
    {
     "name": "stderr",
     "output_type": "stream",
     "text": [
      "  5%|▌         | 90/1759 [02:22<41:51,  1.50s/it]"
     ]
    },
    {
     "name": "stdout",
     "output_type": "stream",
     "text": [
      "Generated Output: ['A man of people is a man game. a man in a and white for in in red.', 'A man man is a red shirt top and through a beach of the beach.', 'A man man in a hair dark hair brownette hair is a large and white dog in her hand.', 'A man in in a white shirt and a pants and a mural wall with.']\n",
      "2.212103486061096\n"
     ]
    },
    {
     "name": "stderr",
     "output_type": "stream",
     "text": [
      "  6%|▌         | 100/1759 [02:38<45:29,  1.65s/it]"
     ]
    },
    {
     "name": "stdout",
     "output_type": "stream",
     "text": [
      "Generated Output: ['A man boy in a are a middle of a street, a. a their sign sign. while a people supporters are in the ground.', 'Aoysble is by water men girls in a hairand. they played on a of a water-.', 'A man boy is on a bench in looks at a computer..', 'A men men are a young are wearing white are and reded scar on on a in a of a whiteeline.']\n",
      "2.0816168427467345\n"
     ]
    },
    {
     "name": "stderr",
     "output_type": "stream",
     "text": [
      "  6%|▋         | 110/1759 [02:55<42:59,  1.56s/it]"
     ]
    },
    {
     "name": "stdout",
     "output_type": "stream",
     "text": [
      "Generated Output: ['A men in sitting on a fire, about a man nearby at them tree. water. a is standingwing a boat.', 'A men are sitting on to each large fenceburningove firefire. a.', 'A men men are in a with aks of wood on a them.', 'A men in in a bridge field with one wearing wearing a from a cup bottle, the to the other.']\n",
      "2.3836228370666506\n"
     ]
    },
    {
     "name": "stderr",
     "output_type": "stream",
     "text": [
      "  7%|▋         | 120/1759 [03:12<45:23,  1.66s/it]"
     ]
    },
    {
     "name": "stdout",
     "output_type": "stream",
     "text": [
      "Generated Output: ['A man in a bike is the lake shirt and holding a large rod. is in at the water. a it is caught something fish.', 'A man in sitting off rope off a bridge. anotheraman are the', 'A man in a is is holding the water pool. a backstroke.', 'A man in a are standing in a sign of the countries countries.']\n",
      "2.188366007804871\n"
     ]
    },
    {
     "name": "stderr",
     "output_type": "stream",
     "text": [
      "  7%|▋         | 130/1759 [03:30<48:05,  1.77s/it]"
     ]
    },
    {
     "name": "stdout",
     "output_type": "stream",
     "text": [
      "Generated Output: ['A man in sitting on a bench wooden, wearing a hands to to the camera, and a kind boxes crates white boxes.', 'A men dogs dogs are white colls collars are on a of a rope rope. a..', 'A men players are a uniforms are white in players in red uniforms are playing the field field. soccer.', 'A man in a and a white and a camera child in wearing a jacket.']\n",
      "2.1410507798194884\n"
     ]
    },
    {
     "name": "stderr",
     "output_type": "stream",
     "text": [
      "  8%|▊         | 140/1759 [03:47<47:21,  1.76s/it]"
     ]
    },
    {
     "name": "stdout",
     "output_type": "stream",
     "text": [
      "Generated Output: ['A man in in a and sitting a sign stick in one air distance corner the image. from a building. a other are.. a a a book.', 'A men in one wearing a blue shirt and the cap, the the other in a black shirt and aisbee. a green. a ocean.', 'A man girl wearing to a man wearing wearing at the mirror. while a baby baby.', 'A man linehaireded, is on a branch with a of behind the background.']\n",
      "2.4168609619140624\n"
     ]
    },
    {
     "name": "stderr",
     "output_type": "stream",
     "text": [
      "  9%|▊         | 150/1759 [04:03<43:39,  1.63s/it]"
     ]
    },
    {
     "name": "stdout",
     "output_type": "stream",
     "text": [
      "Generated Output: ['A man in in a dog bag in in the of a orange gate.', 'A man in a red shirt and a shirt is a toy ball in a end.', 'A man dog shepherd is is playing through of a water with a large in his mouth.', 'A people in one of a red shirt, in a with another off a sign. a man.']\n",
      "2.216151475906372\n"
     ]
    },
    {
     "name": "stderr",
     "output_type": "stream",
     "text": [
      "  9%|▉         | 160/1759 [04:18<42:59,  1.61s/it]"
     ]
    },
    {
     "name": "stdout",
     "output_type": "stream",
     "text": [
      "Generated Output: ['A man of people and women and and children are a and clothing are on a in a restaurant room.', 'A men are sitting in front circle parking building. a large of paper in a piece sign. the ground.', 'A man in walking a baby in a wheelchair down a door. a sidewalk sidewalk. a people walk walking by them.', 'A man player is a baseball jersey is throwing a baseball in his hand and']\n",
      "2.369674324989319\n"
     ]
    },
    {
     "name": "stderr",
     "output_type": "stream",
     "text": [
      " 10%|▉         | 170/1759 [04:35<46:26,  1.75s/it]"
     ]
    },
    {
     "name": "stdout",
     "output_type": "stream",
     "text": [
      "Generated Output: ['A man of people are in a park populated streetway.', 'A man in a blue shirt is black shirt is walking a large that says \" down and a. in in front. him.', 'A men in white and are up umbrellas in walk that standing man in behind a', 'A man in a blue and a is a bike in a yellow of light. are reflected through the orange of trees leavess.']\n",
      "2.0618483662605285\n"
     ]
    },
    {
     "name": "stderr",
     "output_type": "stream",
     "text": [
      " 10%|█         | 180/1759 [04:50<37:13,  1.41s/it]"
     ]
    },
    {
     "name": "stdout",
     "output_type": "stream",
     "text": [
      "Generated Output: ['A man of people in in a middle with a people in the row lot.', 'A man girl is a red shirt is blue pants is on a tr.', 'Aarss for a Street for platform. the train to', 'A man in a and a black jacketie is to a tree in a brown hair and a sign.']\n",
      "2.2528573989868166\n"
     ]
    },
    {
     "name": "stderr",
     "output_type": "stream",
     "text": [
      " 11%|█         | 190/1759 [05:06<40:39,  1.55s/it]"
     ]
    },
    {
     "name": "stdout",
     "output_type": "stream",
     "text": [
      "Generated Output: ['A elderly man white, worker is a hard hard and a a a top of a building. aolding.', \"A a large and the background, man is a hand in a hole in the fence'sout. looks. the camera.\", 'A man in over a a tr and slide while a friends.. the background.', 'A men players are playing playing a rink line the puck line is playing the puck from scored by the black team.']\n",
      "2.280254364013672\n"
     ]
    },
    {
     "name": "stderr",
     "output_type": "stream",
     "text": [
      " 11%|█▏        | 200/1759 [05:21<36:29,  1.40s/it]"
     ]
    },
    {
     "name": "stdout",
     "output_type": "stream",
     "text": [
      "Generated Output: ['A man of people are different ages are white and sitting a in playing at a music.', 'A men are blue and are a conversation in standing in a street.', 'A men men are white white are a of sitting on a computer computer and the other man the. a bed. to him.', 'A manound is wearing along a hill covered hill. a large backpack in']\n",
      "2.0869622230529785\n"
     ]
    },
    {
     "name": "stderr",
     "output_type": "stream",
     "text": [
      " 12%|█▏        | 210/1759 [05:36<41:57,  1.63s/it]"
     ]
    },
    {
     "name": "stdout",
     "output_type": "stream",
     "text": [
      "Generated Output: ['A man girl is a red shirt and white jeans is sitting the middle with', 'A man boy is a older child are playing wearingting a dog.', 'A man in a is sitting on a table with a and a computer. him. while in his. and in tea in hand. and in background background.', 'Aond woman in on a sidewalk with a book. a sun.']\n",
      "2.0750497221946715\n"
     ]
    },
    {
     "name": "stderr",
     "output_type": "stream",
     "text": [
      " 13%|█▎        | 220/1759 [05:50<35:31,  1.38s/it]"
     ]
    },
    {
     "name": "stdout",
     "output_type": "stream",
     "text": [
      "Generated Output: ['A man inches down in to a carrier while. take at the man girl. on the ground.', 'A man of people people boys are in a beach. a few bag in', 'A man in the red shirt is holding a shoes and a sol.', 'A man in a jeans in a a building with a a phone.']\n",
      "2.278139281272888\n"
     ]
    },
    {
     "name": "stderr",
     "output_type": "stream",
     "text": [
      " 13%|█▎        | 230/1759 [06:03<35:02,  1.37s/it]"
     ]
    },
    {
     "name": "stdout",
     "output_type": "stream",
     "text": [
      "Generated Output: ['A man in a red shirthirt and a is on a ground with looks a ball ball with a racket racket.', 'A older man younger younger man are both wearing their rack, aets, are at by side. the camera.', 'A man in a women are standing down a streeted path. one man is wearing a st girl in a st-er.', 'A people are a repair around logs nets. the beach beach.']\n",
      "2.2824921727180483\n"
     ]
    },
    {
     "name": "stderr",
     "output_type": "stream",
     "text": [
      " 14%|█▎        | 240/1759 [06:15<30:21,  1.20s/it]"
     ]
    },
    {
     "name": "stdout",
     "output_type": "stream",
     "text": [
      "Generated Output: ['A man in a red and a image on is it is a hat hat is walking to a bar.', 'A men girls are one in and one girl, are and they play on a ground.', 'A men men areuddleit a other on their of their field.', 'A people in white hats are working a large machineley system on']\n",
      "2.192395269870758\n"
     ]
    },
    {
     "name": "stderr",
     "output_type": "stream",
     "text": [
      " 14%|█▍        | 250/1759 [06:27<31:21,  1.25s/it]"
     ]
    },
    {
     "name": "stdout",
     "output_type": "stream",
     "text": [
      "Generated Output: ['A man girl girlhaired girl is the pink shirthirt is in the dance. a around on her.', 'A men in playing on thely sacks on a field. a of a house. a house court.', 'A man is a is and sitting with on the air on a ground. a poolted while a and the background.', 'A man girl is a little are through a hill. the a a a man in a bike bike. a dog man.']\n",
      "2.3611197471618652\n"
     ]
    },
    {
     "name": "stderr",
     "output_type": "stream",
     "text": [
      " 15%|█▍        | 260/1759 [06:39<32:58,  1.32s/it]"
     ]
    },
    {
     "name": "stdout",
     "output_type": "stream",
     "text": [
      "Generated Output: ['A man boyian man wearing a black and a white shirtared shirt-shirt is standing on a bench bench.', 'A older woman woman is in a jeansean shorts and a white shirted shirt is on a bench with a a large. a largeuddle look. her face', 'A men are black and other white are a beach beach. dog dog is looking the brown dog.', 'A men are a pants are gloves jackets white jackets are playing on a rope swing. in the snow.']\n",
      "2.1974238753318787\n"
     ]
    },
    {
     "name": "stderr",
     "output_type": "stream",
     "text": [
      " 15%|█▌        | 270/1759 [06:51<27:54,  1.12s/it]"
     ]
    },
    {
     "name": "stdout",
     "output_type": "stream",
     "text": [
      "Generated Output: ['A man boy is a black and a baseball woman with a are on a outdoor chair.. a youngfyter. them.', 'A man boy is a a picture book while a cr of colors colors. a large.', 'A men in playing on on one with game.', 'A man in wearing in-outhed in a sidewalk of lead to to the water.']\n",
      "2.1870705604553224\n"
     ]
    },
    {
     "name": "stderr",
     "output_type": "stream",
     "text": [
      " 16%|█▌        | 280/1759 [07:02<28:12,  1.14s/it]"
     ]
    },
    {
     "name": "stdout",
     "output_type": "stream",
     "text": [
      "Generated Output: ['A man boy in a and a-shirt is sittingboarding down a tree blue sky.', 'A man man is a hair curly hair is a and sings in while a man player plays drums him.', 'A man in a blue shirt is black cap is sitting on a.', 'A man of people workers are on a construction. is going off']\n",
      "2.2911770343780518\n"
     ]
    },
    {
     "name": "stderr",
     "output_type": "stream",
     "text": [
      " 16%|█▋        | 290/1759 [07:13<27:55,  1.14s/it]"
     ]
    },
    {
     "name": "stdout",
     "output_type": "stream",
     "text": [
      "Generated Output: ['A people in sitting around a table with a restaurant of by a.ves.', 'A man in a blue shirt and standing to a other in a women in on a bench.', 'A are two people in in a street, a of a building building.', 'A are a man girl girlhaired girl in a blue shirthirt and a blue hat on with a swing.']\n",
      "2.162094521522522\n"
     ]
    },
    {
     "name": "stderr",
     "output_type": "stream",
     "text": [
      " 17%|█▋        | 300/1759 [07:23<27:21,  1.12s/it]"
     ]
    },
    {
     "name": "stdout",
     "output_type": "stream",
     "text": [
      "Generated Output: ['A man boy is a red is a mask on is a large fingersened is', 'A man ising through the grass beach. the of a..', 'A girls in a underwear suit ising holding to jump into the water waterlooking water.', 'A man boy wearing a horseicycle in to a girl a unooter. a sidewalk street.']\n",
      "2.37742303609848\n"
     ]
    },
    {
     "name": "stderr",
     "output_type": "stream",
     "text": [
      " 18%|█▊        | 310/1759 [07:34<27:21,  1.13s/it]"
     ]
    },
    {
     "name": "stdout",
     "output_type": "stream",
     "text": [
      "Generated Output: [\"A the sunmed the background, a water isgyback by the girl's the red shirt. the cameraisbee.\", 'A man in sittingoping over to at a. while is wearing a blue shirthirt and a of jeans. is a hair. he of is his railing and', 'A man of people are sitting on a table table table with says \"Welcome the York to', 'Aers are protective hats and safety safetyests are a blocks on a ground of']\n",
      "2.198162817955017\n"
     ]
    },
    {
     "name": "stderr",
     "output_type": "stream",
     "text": [
      " 18%|█▊        | 320/1759 [07:44<24:12,  1.01s/it]"
     ]
    },
    {
     "name": "stdout",
     "output_type": "stream",
     "text": [
      "Generated Output: ['A man in a and a light on with a man watches..', 'A man in a hair blonde hair is a boots and a white shirt is sitting on a water. a large. a large wall.', 'A man in a late shirt and is standing in to a man with a large of food. a looks to a woman in', 'A man inpless man climber is climbing a rock face with wearing to a rope line.']\n",
      "2.239451539516449\n"
     ]
    },
    {
     "name": "stderr",
     "output_type": "stream",
     "text": [
      " 19%|█▉        | 330/1759 [07:55<25:11,  1.06s/it]"
     ]
    },
    {
     "name": "stdout",
     "output_type": "stream",
     "text": [
      "Generated Output: ['A man boyfoot boy is in a wooden platform surface surface with front middle of a crowdonyble beach. is surrounded of a larger. a park..', 'A man is the blue- shirt is holding on a table with', 'A olderly Woman inches down pick a lid off a ground. a peopleadedasabobs are beingilling.', 'A man girl in a shirt and from a sign sign.']\n",
      "2.2482421517372133\n"
     ]
    },
    {
     "name": "stderr",
     "output_type": "stream",
     "text": [
      " 19%|█▉        | 340/1759 [08:06<25:43,  1.09s/it]"
     ]
    },
    {
     "name": "stdout",
     "output_type": "stream",
     "text": [
      "Generated Output: ['A man in a red shirt and sitting in a man with', \"A man in a orangero is sitting over to the street to play a's hand. a crowd.\", 'A man in a pantss and a blue cap is standing a large bucket in', 'A man is a red shirt and a toy in a at the with']\n",
      "2.060790491104126\n"
     ]
    },
    {
     "name": "stderr",
     "output_type": "stream",
     "text": [
      " 20%|█▉        | 350/1759 [08:17<23:49,  1.01s/it]"
     ]
    },
    {
     "name": "stdout",
     "output_type": "stream",
     "text": [
      "Generated Output: ['A man in in a white coloreded dress is standing to a to', 'A men are on in one their goods in a bags.', 'A elderly man in a are in in a largeer store. a street.', 'A man in a beard and sunglassesepad a is walking on newspaper plank on']\n",
      "2.323706865310669\n"
     ]
    },
    {
     "name": "stderr",
     "output_type": "stream",
     "text": [
      " 20%|██        | 360/1759 [08:28<24:13,  1.04s/it]"
     ]
    },
    {
     "name": "stdout",
     "output_type": "stream",
     "text": [
      "Generated Output: ['A man in wearing a white shirt and black, is on a ground of a rock. to a boatocked boat.', 'A man man in holding about to jump a hole in a rock. on the table.', 'A man man is in the of a black. is been head in. is pointing at the dog.', 'A man is a blue and his head is playing on a of a graffiti. a tree. a holding a abars of']\n",
      "2.1618310809135437\n"
     ]
    },
    {
     "name": "stderr",
     "output_type": "stream",
     "text": [
      " 21%|██        | 370/1759 [08:39<23:05,  1.00it/s]"
     ]
    },
    {
     "name": "stdout",
     "output_type": "stream",
     "text": [
      "Generated Output: ['A man man in a toy in a on in a white coat and', 'A people are in white gr are hats and are for the start.', 'A man of people are some of in a hairand, are on a table table.', 'A man in a shortsacks and a white is is standing down a dog in his pocket.']\n",
      "2.2375882267951965\n"
     ]
    },
    {
     "name": "stderr",
     "output_type": "stream",
     "text": [
      " 22%|██▏       | 380/1759 [08:49<23:01,  1.00s/it]"
     ]
    },
    {
     "name": "stdout",
     "output_type": "stream",
     "text": [
      "Generated Output: ['A man in a is and a picture from a glass glass.', 'A dog dog is wearing on the fence wall fence a parky field.', \"A after chairs chairs in are a fence's play. a of on a\", 'A man boy is a with a bowlsensils.']\n",
      "2.2957964897155763\n"
     ]
    },
    {
     "name": "stderr",
     "output_type": "stream",
     "text": [
      " 22%|██▏       | 390/1759 [08:59<23:12,  1.02s/it]"
     ]
    },
    {
     "name": "stdout",
     "output_type": "stream",
     "text": [
      "Generated Output: ['A man in a red shirt shirt and a pants is holding a toy ballooter, is riding at the street.', 'A man boy in a hairbrown is a eyes is sitting a piece while a hand while holding a cookie with her other hand', \"A man girl in a head wrapped a little boy's on a rock platform. a water.\", 'A man girl in a pink shirt dressajama shirt and sitting against a wall sign. holding at the feet.']\n",
      "2.166090726852417\n"
     ]
    },
    {
     "name": "stderr",
     "output_type": "stream",
     "text": [
      " 23%|██▎       | 400/1759 [09:09<23:06,  1.02s/it]"
     ]
    },
    {
     "name": "stdout",
     "output_type": "stream",
     "text": [
      "Generated Output: ['A man in sitting in front underwear with a of a stove. wearing his his food. is cooking to cook. a spat spoon.', 'A man rider through is in black helmets and helmets are a break to look a the hill. rest. look their bikes.', 'A olderian man man is a red s and a plates on it is sitting a a a ropeingshot.', 'A man boy in a hair hair is a black shirt is a a microphone.']\n",
      "2.3543431043624876\n"
     ]
    },
    {
     "name": "stderr",
     "output_type": "stream",
     "text": [
      " 23%|██▎       | 410/1759 [09:20<24:01,  1.07s/it]"
     ]
    },
    {
     "name": "stdout",
     "output_type": "stream",
     "text": [
      "Generated Output: ['A man in bubbles a balloon dog in sitting on a table. a beach.', 'A man in a blue shirt and a with a woman of people. on a bench.', 'A man man is through a hill road with by trees. shr.', 'A man of on a bench in watch left of a railing rock. rocks flowers white and blue flowers candy.']\n",
      "2.0285308003425597\n"
     ]
    },
    {
     "name": "stderr",
     "output_type": "stream",
     "text": [
      " 24%|██▍       | 420/1759 [09:32<25:22,  1.14s/it]"
     ]
    },
    {
     "name": "stdout",
     "output_type": "stream",
     "text": [
      "Generated Output: ['A the field, a man is playing over the a book bark on while a girl is sitting in. for him to', 'Arip of boxes stacked white are a of the room. a man is a redige jacket and black isily folds a large.', 'A man of people are hard orange shirts and the material are are man in a middle, wearing a tool that', 'A man playing girls in their arts in a watched by a. instructors. on a room. a gymjo.']\n",
      "2.1772843837738036\n"
     ]
    },
    {
     "name": "stderr",
     "output_type": "stream",
     "text": [
      " 24%|██▍       | 430/1759 [09:42<24:52,  1.12s/it]"
     ]
    },
    {
     "name": "stdout",
     "output_type": "stream",
     "text": [
      "Generated Output: ['A man is a he is in in he mother takes him up in the air. a game of', 'A man boy is on a middle of a road with by toys white.', 'A men are through a grass in the shore. a aashing.', 'A man in a red dress and a ball ball with a field in a blue shirt. is holding the of a cameraicket. a cricket.']\n",
      "2.0304504156112673\n"
     ]
    },
    {
     "name": "stderr",
     "output_type": "stream",
     "text": [
      " 25%|██▌       | 440/1759 [09:53<22:56,  1.04s/it]"
     ]
    },
    {
     "name": "stdout",
     "output_type": "stream",
     "text": [
      "Generated Output: ['A man dog is a white in in its mouth is through a. a man dog withases it.', 'A men in a woman are on a table table in in papers white cloth. with a and front of them. a man a laptop.', 'A man in a pants and a shirt is a is in a on a dock.', 'A man in a red coat- skirt and a white bl top up shirt is walking on a chair bench. a park museum. her hair.']\n",
      "2.0843347549438476\n"
     ]
    },
    {
     "name": "stderr",
     "output_type": "stream",
     "text": [
      " 26%|██▌       | 450/1759 [10:04<23:28,  1.08s/it]"
     ]
    },
    {
     "name": "stdout",
     "output_type": "stream",
     "text": [
      "Generated Output: ['A man girl in a redannel shirt and a blue is playing into the air by', 'A men are sitting a in a hill. a of them boys is wearing. the camera.', 'A man in a hair and a shirt-oms is wearing a man shirt, a bike. a river. with a in the background.', 'A man in a red bag is \"S\" is in front line of to a man boy with a shopping.']\n",
      "2.0630749702453612\n"
     ]
    },
    {
     "name": "stderr",
     "output_type": "stream",
     "text": [
      " 26%|██▌       | 460/1759 [10:15<22:50,  1.06s/it]"
     ]
    },
    {
     "name": "stdout",
     "output_type": "stream",
     "text": [
      "Generated Output: ['A a manscape in buildings in the background, a man man is a hairette hair is sitting from a rope. a crowdy area.', 'A man in on a chair with by a and the outdoor park.', 'A man in a blue and walking in to a man with a with.', 'A elderly man is down a street with a in are in with trash.']\n",
      "2.121385085582733\n"
     ]
    },
    {
     "name": "stderr",
     "output_type": "stream",
     "text": [
      " 27%|██▋       | 470/1759 [10:27<25:28,  1.19s/it]"
     ]
    },
    {
     "name": "stdout",
     "output_type": "stream",
     "text": [
      "Generated Output: ['A older in a white and hat and a safety is onched over a a ladder piece of equipment Deere equipment.', 'A man in a blue and and sitting a a handle of is wearing.', 'A man in a red dress dress and down a man track', 'A men are sitting down the street, in a conversation conversation.']\n",
      "2.10506135225296\n"
     ]
    },
    {
     "name": "stderr",
     "output_type": "stream",
     "text": [
      " 27%|██▋       | 480/1759 [10:37<23:09,  1.09s/it]"
     ]
    },
    {
     "name": "stdout",
     "output_type": "stream",
     "text": [
      "Generated Output: ['A man in on a couch with a a blanket blanket black dog. next to him.', 'A man in a red shirtared shirt and black is a dog in to a large trap. a rock platform.', 'A man-haired man is in a large window with is a words of David on on', 'A men areel in the ground covered one their hands in a in them.']\n",
      "2.2256925821304323\n"
     ]
    },
    {
     "name": "stderr",
     "output_type": "stream",
     "text": [
      " 28%|██▊       | 490/1759 [10:48<23:12,  1.10s/it]"
     ]
    },
    {
     "name": "stdout",
     "output_type": "stream",
     "text": [
      "Generated Output: ['A man woman is in a in a field area. a tree tree in around his arm.', 'A man in a blue shirt and his ice bag on a grill grill.', 'A men are in front at to get a. eat. a restaurant.. fooda and hot Hot Hotausage..red)', 'A man man white dog is at a black in to throw a.']\n",
      "2.222037947177887\n"
     ]
    },
    {
     "name": "stderr",
     "output_type": "stream",
     "text": [
      " 28%|██▊       | 500/1759 [10:59<21:38,  1.03s/it]"
     ]
    },
    {
     "name": "stdout",
     "output_type": "stream",
     "text": [
      "Generated Output: ['A man in a red with a blueman costume-shirt and a cup in a batbrush.', 'A man in a blue shirt and black is standing a blue hat and standing out a to', 'A man in in their dog dog in on a head.', 'A man rider a 7 on the is riding driven by a man wearing a helmet shirt.']\n",
      "2.210583770275116\n"
     ]
    },
    {
     "name": "stderr",
     "output_type": "stream",
     "text": [
      " 29%|██▉       | 510/1759 [11:11<23:50,  1.15s/it]"
     ]
    },
    {
     "name": "stdout",
     "output_type": "stream",
     "text": [
      "Generated Output: ['A man in a white that front of a that says \"Ier\" is on a table.', 'A man in a redean jacket and a pants and and a hat is standing on the bed of', 'A man in a red dress blue shirt shirt is on a middle of a man in a black shirtared shirt.', 'A man in aanned bear inringsuffs is sitting a computer to clean a snow snow.']\n",
      "2.146240246295929\n"
     ]
    },
    {
     "name": "stderr",
     "output_type": "stream",
     "text": [
      " 30%|██▉       | 520/1759 [11:22<23:39,  1.15s/it]"
     ]
    },
    {
     "name": "stdout",
     "output_type": "stream",
     "text": [
      "Generated Output: ['A man in a shorts and a white is riding a bike in holding a bag bag.', 'A men are one a helmets, are on their in a bridge beachway.', 'A man in a blue shirt is standing on holding a out, in the edge of a hill.', 'A man are playing and the grass and with.']\n",
      "2.1042874813079835\n"
     ]
    },
    {
     "name": "stderr",
     "output_type": "stream",
     "text": [
      " 30%|███       | 530/1759 [11:32<20:55,  1.02s/it]"
     ]
    },
    {
     "name": "stdout",
     "output_type": "stream",
     "text": [
      "Generated Output: ['A man in a blue shirt uniform is running a hand while his hands while standing on of a car.', 'A man is a and a shirtings and a boots is a man in aiators and aman shirt top are through a street street.', 'A man is over a with in a sheets white a of a with a dog. the mouth.', 'A man dog is a head legs on the ground is a grassy area. a and white flowers.']\n",
      "2.0191054701805116\n"
     ]
    },
    {
     "name": "stderr",
     "output_type": "stream",
     "text": [
      " 31%|███       | 540/1759 [11:44<21:21,  1.05s/it]"
     ]
    },
    {
     "name": "stdout",
     "output_type": "stream",
     "text": [
      "Generated Output: ['A man of people are playing the field room with a toys and a movie in girl shirt white girl and a and with games. a computer.', 'A man of people are in a stage in aoms and', 'A man in a and white shirt and a jacket is standing a swing wall.', 'A man in a white dress and on a bench road path white green path. a green in the background.']\n",
      "2.3351513624191282\n"
     ]
    },
    {
     "name": "stderr",
     "output_type": "stream",
     "text": [
      " 31%|███▏      | 550/1759 [11:54<20:57,  1.04s/it]"
     ]
    },
    {
     "name": "stdout",
     "output_type": "stream",
     "text": [
      "Generated Output: ['A man in to take a fighter in they two fighter is the kick.', 'A men are in together each largeicolored tents dogs balloons.', 'A man in a red shirt and arings is a sitting on a table with a glasskin in front hand. a head on the table.', 'A men in on a table with one of with at the other, and a men and on the table.']\n",
      "2.1676227688789367\n"
     ]
    },
    {
     "name": "stderr",
     "output_type": "stream",
     "text": [
      " 32%|███▏      | 560/1759 [12:05<22:30,  1.13s/it]"
     ]
    },
    {
     "name": "stdout",
     "output_type": "stream",
     "text": [
      "Generated Output: ['A man dog is running through a fence fountain. a man wall. a park.', 'A man of people men members are black uniforms in a in a tophone, the trumpetrombone.', 'A man in a blue shirt shirtshirt and black a black, is sitting a bike bike. a dirt road. while front field area. a and trees.', 'A man in in a whiteo- shirt is and shorts is a a stage. a other.']\n",
      "2.125441813468933\n"
     ]
    },
    {
     "name": "stderr",
     "output_type": "stream",
     "text": [
      " 32%|███▏      | 570/1759 [12:15<19:16,  1.03it/s]"
     ]
    },
    {
     "name": "stdout",
     "output_type": "stream",
     "text": [
      "Generated Output: ['A elderly wearing sitting a a orange that wearing object of the shoe are be seen.', 'A man streetator with moving with people. white attire and hats clothes, and a person-uffled shirtiskirt.', 'A men in white shirtsests are a on a side of the building. a cars trucks white trucks..', 'Alder woman in a beard beard and a sitting a bottles with']\n",
      "2.0628731846809387\n"
     ]
    },
    {
     "name": "stderr",
     "output_type": "stream",
     "text": [
      " 33%|███▎      | 580/1759 [12:25<20:18,  1.03s/it]"
     ]
    },
    {
     "name": "stdout",
     "output_type": "stream",
     "text": [
      "Generated Output: ['A man in a black shirt-shirt and sittingilling a on a woman in a white shirt top is.', 'A man in a white dress and jeans jeans shirtboard is sitting aaffles in a kitchen.', \"A man boy is a and a shirt shirt is standing a a tree's..\", 'A man man is a and playing stage playing playing a instrument guitar. singing. a microphone.']\n",
      "2.2611065030097963\n"
     ]
    },
    {
     "name": "stderr",
     "output_type": "stream",
     "text": [
      " 34%|███▎      | 590/1759 [12:35<18:29,  1.05it/s]"
     ]
    },
    {
     "name": "stdout",
     "output_type": "stream",
     "text": [
      "Generated Output: ['A man is jumping through a beach bridge, a fence fence.', 'A man boyast is wearing on into the air, while wearing a a tr beam.', 'A man is wearing a a sign of her man. is caught. the water. her fishing pole rod.', 'A man in a a white shirt white shirt is a trick with a on a water.']\n",
      "2.1967634320259095\n"
     ]
    },
    {
     "name": "stderr",
     "output_type": "stream",
     "text": [
      " 34%|███▍      | 600/1759 [12:46<19:44,  1.02s/it]"
     ]
    },
    {
     "name": "stdout",
     "output_type": "stream",
     "text": [
      "Generated Output: ['A man in in a bridge truck with a building building with a back out out.', 'A man in a white shirt andches down the bench hill with', 'A man man is standing on of while a large blanket. its mouth.', 'A is a group of a old man with a. of a on a bench bench.']\n",
      "2.1550447225570677\n"
     ]
    },
    {
     "name": "stderr",
     "output_type": "stream",
     "text": [
      " 35%|███▍      | 610/1759 [12:57<21:09,  1.10s/it]"
     ]
    },
    {
     "name": "stdout",
     "output_type": "stream",
     "text": [
      "Generated Output: ['A man boy is sitting by a arms her mother in a child is on the..', 'A man in a blue shirtidal gown is a red lipstick is holding a bou bag, is in a white with a out youngure to a man-aged', 'A man boy is a trooter is a red shirt is is shirt and and pants and a shoes.', 'A man boy is with a snow with a mother down in a scarf.']\n",
      "2.1484279870986938\n"
     ]
    },
    {
     "name": "stderr",
     "output_type": "stream",
     "text": [
      " 35%|███▌      | 620/1759 [13:07<19:17,  1.02s/it]"
     ]
    },
    {
     "name": "stdout",
     "output_type": "stream",
     "text": [
      "Generated Output: ['A man dog is a look collar on and is wearing a fence dog. a redindow shirt..', 'Aixtying playing in playing a guitar. a audience.', 'A bar of a people in a, a. a a a road man in who woman. who a black.', 'A manama with a cart with a man on. a dirt road.']\n",
      "2.1047836422920225\n"
     ]
    },
    {
     "name": "stderr",
     "output_type": "stream",
     "text": [
      " 36%|███▌      | 630/1759 [13:18<20:23,  1.08s/it]"
     ]
    },
    {
     "name": "stdout",
     "output_type": "stream",
     "text": [
      "Generated Output: ['A older man in on a river fence fence wall with in graffiti white andadedl. a a black hatban.', 'A man man is a white man are both wearing whiteoon shirts, are standing a sign that them. says \"Iine Museum.\" no.\" people.\" the', 'A older man in a white hat cap and a shirt is a baseball in in a blanket blanket white blanket blanket.', 'A man in a women are standing in in a bench. to a large of paper. a large building building in the background.']\n",
      "2.2247179746627808\n"
     ]
    },
    {
     "name": "stderr",
     "output_type": "stream",
     "text": [
      " 36%|███▋      | 640/1759 [13:29<21:02,  1.13s/it]"
     ]
    },
    {
     "name": "stdout",
     "output_type": "stream",
     "text": [
      "Generated Output: ['A man in a red shirt and jeans and pepper hair is walking to a microphone.', 'A man collie dog over a fence of a toy ball in its mouth.', 'A elderly woman in a shorts running tackled by a other in blue. wearing players players are on.', 'A man athlete with is racing in tires in a track. a driven by a.']\n",
      "2.2397167325019836\n"
     ]
    },
    {
     "name": "stderr",
     "output_type": "stream",
     "text": [
      " 37%|███▋      | 650/1759 [13:40<20:58,  1.14s/it]"
     ]
    },
    {
     "name": "stdout",
     "output_type": "stream",
     "text": [
      "Generated Output: ['A man dog white dog is running on and the a ball ball.', 'A man in a shirt is a orange hatomb is in the podium with a large in a and and a look at a large pile of boxes boxes red boxes', 'A man in a shorts ands in a man in a shorts. the outdoor pool.', 'A man can is empt down the street with a a large bag. trash. a up.']\n",
      "2.01544725894928\n"
     ]
    },
    {
     "name": "stderr",
     "output_type": "stream",
     "text": [
      " 38%|███▊      | 660/1759 [13:50<19:21,  1.06s/it]"
     ]
    },
    {
     "name": "stdout",
     "output_type": "stream",
     "text": [
      "Generated Output: ['A man boy wearing on a grass with a dog shirt in his.', 'A of is a shorts and a shirt and black hat is is a a. grill grill. a skilletillets.', 'A man group dog is working a into a plastic containers.', 'A man in with a with front of a equipment.']\n",
      "2.3338809609413147\n"
     ]
    },
    {
     "name": "stderr",
     "output_type": "stream",
     "text": [
      " 38%|███▊      | 670/1759 [14:01<18:22,  1.01s/it]"
     ]
    },
    {
     "name": "stdout",
     "output_type": "stream",
     "text": [
      "Generated Output: ['A man of people in a blocks in a saws.', 'A elderly man iss a in a large kitchen. while a largetop with pots of containers. the background.', 'A young in sitting on a chairs chairs chairs. a on.', 'A is like and, the the background room. the man man was in a and at a booth with a guitarica.']\n",
      "2.140370726585388\n"
     ]
    },
    {
     "name": "stderr",
     "output_type": "stream",
     "text": [
      " 39%|███▊      | 680/1759 [14:12<18:38,  1.04s/it]"
     ]
    },
    {
     "name": "stdout",
     "output_type": "stream",
     "text": [
      "Generated Output: ['A men are in a water on a backdrop blue sky.', 'A man in a red shirt is a beach with a out rock head into the sand. is in it.', 'A a to for a stove show, a person is be aations ingredients codes of', 'A man in a blue shirt and white jeans is a large and down a a camera of a building. is a word of a blocked by by a.']\n",
      "2.2097466826438903\n"
     ]
    },
    {
     "name": "stderr",
     "output_type": "stream",
     "text": [
      " 39%|███▉      | 690/1759 [14:22<18:10,  1.02s/it]"
     ]
    },
    {
     "name": "stdout",
     "output_type": "stream",
     "text": [
      "Generated Output: ['A man in a red shirthirt and sitting on a ground with her legs dog. is wearing in a blanket.', 'A man boyless man is jumping on the beach with his legs closed. his hands on his head.', 'A man in a bluetail is on a computerine of a pool table. with in flowers in her.', 'A dog a picture from a restaurant station. a people are talking on a bench. for a train to']\n",
      "2.4042155742645264\n"
     ]
    },
    {
     "name": "stderr",
     "output_type": "stream",
     "text": [
      " 40%|███▉      | 700/1759 [14:33<18:38,  1.06s/it]"
     ]
    },
    {
     "name": "stdout",
     "output_type": "stream",
     "text": [
      "Generated Output: ['A the restaurant arts tournament, a man men are black shirts are in a of in holding a.', 'A man in a blue-shirt and a instrument guitar while a in a microphone.', 'A man man in aaki and standing on a of a computer blue table. a restaurant. a words painted white.', 'A man in walking the street in a front background, can see a building with construction.']\n",
      "2.216439950466156\n"
     ]
    },
    {
     "name": "stderr",
     "output_type": "stream",
     "text": [
      " 40%|████      | 710/1759 [14:43<19:31,  1.12s/it]"
     ]
    },
    {
     "name": "stdout",
     "output_type": "stream",
     "text": [
      "Generated Output: ['A man in a shirt pants on a snow.', 'A man dog is a black shirt and black gray blue- shirt shirt, a black blue- skirt and speaking a a crowd of a microphone. a a a', 'A people are sitting on the ground of a cliff cliff. some a play. the wateristening water.', 'A man in a woman arearing in a field. a man line is in the background ground']\n",
      "2.2801369309425352\n"
     ]
    },
    {
     "name": "stderr",
     "output_type": "stream",
     "text": [
      " 41%|████      | 720/1759 [14:54<18:48,  1.09s/it]"
     ]
    },
    {
     "name": "stdout",
     "output_type": "stream",
     "text": [
      "Generated Output: ['A manboarder in a shorts is over a railing and the of a orange building', 'A man man is in a weather is in other. a of a E. the sun sets behind. them.', 'A men in a woman are sitting and something to get a a knitting.', 'A man in as sitting is a package bag of a of a crowd. a and a. wine. it.']\n",
      "2.309355652332306\n"
     ]
    },
    {
     "name": "stderr",
     "output_type": "stream",
     "text": [
      " 42%|████▏     | 730/1759 [15:04<17:44,  1.03s/it]"
     ]
    },
    {
     "name": "stdout",
     "output_type": "stream",
     "text": [
      "Generated Output: ['A inles a small in aid water water.', 'A men are playing in a snow, one fourth is walking on to them.', 'A man of peopleian men are wearing of in a, the others in red, are dancing on a blanket in with something. their.', 'A man is running a ball to a owner. the door window']\n",
      "2.312431502342224\n"
     ]
    },
    {
     "name": "stderr",
     "output_type": "stream",
     "text": [
      " 42%|████▏     | 740/1759 [15:17<20:16,  1.19s/it]"
     ]
    },
    {
     "name": "stdout",
     "output_type": "stream",
     "text": [
      "Generated Output: ['A man woman in a of front city. wearing a black coatouse and a skirt.', 'A men-aged men are blue suits are a way are front coffee..', 'A man in a blue shirt white shirt is walking balls while a air. a watch watching him on.', 'A man in a and his arms is wearing a black shirt, black pants, riding on front field with']\n",
      "2.1285929799079897\n"
     ]
    },
    {
     "name": "stderr",
     "output_type": "stream",
     "text": [
      " 43%|████▎     | 750/1759 [15:29<21:52,  1.30s/it]"
     ]
    },
    {
     "name": "stdout",
     "output_type": "stream",
     "text": [
      "Generated Output: ['A man in a and up front doorway station with a man passes in. the platform side.', 'A man in a bicycleing horse on a redo. while a of on the air.', 'A man in a baby ofipes while to his mouth while playing a black shirt and black pants red striped pants, and a blackilt. a kind of red', 'A men in white and and in front of a building in on a bench. a ground.']\n",
      "2.091160798072815\n"
     ]
    },
    {
     "name": "stderr",
     "output_type": "stream",
     "text": [
      " 43%|████▎     | 760/1759 [15:41<18:42,  1.12s/it]"
     ]
    },
    {
     "name": "stdout",
     "output_type": "stream",
     "text": [
      "Generated Output: ['A man girl in down the knees in a grass. is. the.', 'A man- white dog is running a hand of a black dog gray dog.', 'A men in to climb bubbles a candles on a birthdayicolored cake wooden-sred cake. a man woman watches a candle in to the air.', 'A men in a men are are wearing a movie in a motorcycleboard through a parking..']\n",
      "2.2767254590988157\n"
     ]
    },
    {
     "name": "stderr",
     "output_type": "stream",
     "text": [
      " 44%|████▍     | 770/1759 [15:53<20:48,  1.26s/it]"
     ]
    },
    {
     "name": "stdout",
     "output_type": "stream",
     "text": [
      "Generated Output: ['A man in sitting a ground of a building with is with. rocks.', 'A man in a red shirt and a and the in front of a large.', 'A man of people are a park with some of their, are with their hands in', 'A man in a blueckered shirt shirt and a ball into a target. a of a green ppong table.']\n",
      "2.287439000606537\n"
     ]
    },
    {
     "name": "stderr",
     "output_type": "stream",
     "text": [
      " 44%|████▍     | 780/1759 [16:05<19:28,  1.19s/it]"
     ]
    },
    {
     "name": "stdout",
     "output_type": "stream",
     "text": [
      "Generated Output: ['A older man wearing a daughter are sitting on a bench in a sidewalk path. a sun is wearing at something.', 'A man in at a camera of a car screen and the wires. is to.', 'A is two 20 dozen people these and suits clothes standing are standing ready from a project.', 'A man of people are in a beachboard with people them are wearing. surf surf boards. one of wearing and the is red.']\n",
      "2.312068724632263\n"
     ]
    },
    {
     "name": "stderr",
     "output_type": "stream",
     "text": [
      " 45%|████▍     | 790/1759 [16:18<21:22,  1.32s/it]"
     ]
    },
    {
     "name": "stdout",
     "output_type": "stream",
     "text": [
      "Generated Output: ['A man dog dog is running to get a small yellow ball ball.', 'A man in a blue shirt and a red shirt on the front side is on a in is holding in a hands.', 'A man- dog- dog- dog is through through a grass.', 'A man of people in women in sitting in a forest up riverbed. with rocks rocks. and are through two mountains out. the desert forest forest.']\n",
      "2.022739219665527\n"
     ]
    },
    {
     "name": "stderr",
     "output_type": "stream",
     "text": [
      " 45%|████▌     | 800/1759 [16:30<20:32,  1.28s/it]"
     ]
    },
    {
     "name": "stdout",
     "output_type": "stream",
     "text": [
      "Generated Output: ['A man player in a shirt on in the middle of the field.', 'A men in white shirts and blackenders are one jeanser and and black pants are are in the left of a walk by.', 'A man in a red shirt and a with a man in a blue shirt. walking down a street.', 'A man in a to a person of people people.']\n",
      "2.219259703159332\n"
     ]
    },
    {
     "name": "stderr",
     "output_type": "stream",
     "text": [
      " 46%|████▌     | 810/1759 [16:44<21:24,  1.35s/it]"
     ]
    },
    {
     "name": "stdout",
     "output_type": "stream",
     "text": [
      "Generated Output: ['A manankyaired man in a red shirt is sitting in smiling a cart- button..', 'A man girl is playing a while by family group of people. adults.', \"A man men are the orange shirts are in the edge's in\", 'A manboarder down a side of down a flip. theair.']\n",
      "2.112707829475403\n"
     ]
    },
    {
     "name": "stderr",
     "output_type": "stream",
     "text": [
      " 47%|████▋     | 820/1759 [16:58<21:15,  1.36s/it]"
     ]
    },
    {
     "name": "stdout",
     "output_type": "stream",
     "text": [
      "Generated Output: ['A man is the red shirt is holding a while the friend is on his table.', 'A man in sitting in front field with a martial art.', 'A men in one in a pink shirt and the in a blue shirt, are through a hill path trail.', 'A man in cooking in the act of a a while a comingowing from of the pot of potsots on']\n",
      "2.1878931403160093\n"
     ]
    },
    {
     "name": "stderr",
     "output_type": "stream",
     "text": [
      " 47%|████▋     | 830/1759 [17:11<20:59,  1.36s/it]"
     ]
    },
    {
     "name": "stdout",
     "output_type": "stream",
     "text": [
      "Generated Output: ['A man in a blue shirt and a is in a woman that says \"Welcomeetingn\\' andney\"', 'A man in a cream on his face and is holding his face hair. a razor razor white safety.', 'A man crowd of gathered around the outdoor stage in. with a cars in in a man in a dog dog. the background.', 'A man in a blue shirt is a woman hat is a is sitting on a man of a fish in it.']\n",
      "2.2721375584602357\n"
     ]
    },
    {
     "name": "stderr",
     "output_type": "stream",
     "text": [
      " 48%|████▊     | 840/1759 [17:26<20:59,  1.37s/it]"
     ]
    },
    {
     "name": "stdout",
     "output_type": "stream",
     "text": [
      "Generated Output: ['A man in a blue shirt and ababs on other on a grill.', 'A are a man in a red dress and at her mouth on her girl door up doll a boy of her.', 'A men men are red and hats are playing in aom sticks. a playground. a of a water BeachFW.', 'A man man white dog is over a fence. aashing in in.']\n",
      "2.101573073863983\n"
     ]
    },
    {
     "name": "stderr",
     "output_type": "stream",
     "text": [
      " 48%|████▊     | 850/1759 [17:42<23:22,  1.54s/it]"
     ]
    },
    {
     "name": "stdout",
     "output_type": "stream",
     "text": [
      "Generated Output: ['A man in a blue shirt and in a tree with a water and a table vbeaten tent. a man in a and', 'A man boy is wearing a red shirt, black a orange on on, is a face face.', 'A man in a shirt and a shorts shorts is sitting on the air. a middle.', 'A man in a middle is a a and is clerkier is standing him the receipt.']\n",
      "2.0591830372810365\n"
     ]
    },
    {
     "name": "stderr",
     "output_type": "stream",
     "text": [
      " 49%|████▉     | 860/1759 [17:56<21:25,  1.43s/it]"
     ]
    },
    {
     "name": "stdout",
     "output_type": "stream",
     "text": [
      "Generated Output: ['A in a black shirt-sleeve shirt white- shirt on front doorway room with on', 'A man in a blue shirt and jeans jeans is off a railing of boxes crates.', 'A in in as a kind of event are a smiles on their faces.', 'A man boy wearing sitting a bike wheeler bikeooter with a street.']\n",
      "2.438449430465698\n"
     ]
    },
    {
     "name": "stderr",
     "output_type": "stream",
     "text": [
      " 49%|████▉     | 870/1759 [18:09<17:44,  1.20s/it]"
     ]
    },
    {
     "name": "stdout",
     "output_type": "stream",
     "text": [
      "Generated Output: ['A man in a beard hat beverage is a on the ground. walking friend companion looks standing to help him up. a hand. her face.', 'A man retriever is at a ownerind in the. to a dog covered', 'Aers are hard helmets and the streets of a bikes.', 'A man in in a and with with a girl in a blue shirt watches blue pants watches.']\n",
      "2.0132650256156923\n"
     ]
    },
    {
     "name": "stderr",
     "output_type": "stream",
     "text": [
      " 50%|█████     | 880/1759 [18:19<14:16,  1.03it/s]"
     ]
    },
    {
     "name": "stdout",
     "output_type": "stream",
     "text": [
      "Generated Output: ['A man of people are down a building of flowers and a tables on in them', 'A man in a and and sitting a child and walking in a beach. to a water.', 'A in are in a factory are eating on the patio of. each other. while of a and wearing on the railing.', 'A men in are wearing wearing shirts are at at ages. a side of a building building.']\n",
      "2.1583096504211428\n"
     ]
    },
    {
     "name": "stderr",
     "output_type": "stream",
     "text": [
      " 51%|█████     | 890/1759 [18:29<12:38,  1.15it/s]"
     ]
    },
    {
     "name": "stdout",
     "output_type": "stream",
     "text": [
      "Generated Output: ['A American in a and and to for corn fruits for', 'A man is walking over a wall wall with a green station. a a subway come by.', 'A man in to get a to his his might to he horse he him buckles. the itself the rider.', 'A man boy is playing a hair by a bar in a red shirt and']\n",
      "2.1593647599220276\n"
     ]
    },
    {
     "name": "stderr",
     "output_type": "stream",
     "text": [
      " 51%|█████     | 900/1759 [18:38<12:47,  1.12it/s]"
     ]
    },
    {
     "name": "stdout",
     "output_type": "stream",
     "text": [
      "Generated Output: ['A man-haired boy in sitting to singing singing with a woman womanhaired woman. a of a crowd.', 'A are in a outdoor wooden bridge, a water. with woman them is wearing woman. the the are on the bridge.', 'A manomsman is a wedding is holding off hisula-hoops skills. a of a bride. a crowdidalmaids.', 'A man in a blue shirt and standing a large girl in hand as walking down a street street.']\n",
      "2.1531208634376524\n"
     ]
    },
    {
     "name": "stderr",
     "output_type": "stream",
     "text": [
      " 52%|█████▏    | 910/1759 [18:47<11:54,  1.19it/s]"
     ]
    },
    {
     "name": "stdout",
     "output_type": "stream",
     "text": [
      "Generated Output: ['A man boy is aals and on a bench bench in the field.', 'A man boy in wearing a pink pink and and is and jacket, isly walks into a large of water.', 'A is a man in the picture. a white hat in at it. a fence.', 'A man in a camera is in a pants is a arm on his face as he looksumpsches on a.']\n",
      "2.1220349311828612\n"
     ]
    },
    {
     "name": "stderr",
     "output_type": "stream",
     "text": [
      " 52%|█████▏    | 920/1759 [18:55<11:25,  1.22it/s]"
     ]
    },
    {
     "name": "stdout",
     "output_type": "stream",
     "text": [
      "Generated Output: ['A people in white gown jewelry shirts are in a sidewalk.', 'A man boy worker is a hardhat is a large compressor to break up a rocksers. working other his co- look by.', 'A man boy in a clothing is through a beach with a playing a people.', 'A man man is the red shirt is holding on the water.']\n",
      "2.185932195186615\n"
     ]
    },
    {
     "name": "stderr",
     "output_type": "stream",
     "text": [
      " 53%|█████▎    | 930/1759 [19:04<10:52,  1.27it/s]"
     ]
    },
    {
     "name": "stdout",
     "output_type": "stream",
     "text": [
      "Generated Output: ['A men in one in a and the wearing a white shirt, are standing down a park.', 'A row woman inother with red paint on wearing, in background.', 'A man boy is a red shirt and a pants is sitting with a table.', 'A men in one boy are playing a livingsuits and standing the water of the into the water.']\n",
      "2.082361948490143\n"
     ]
    },
    {
     "name": "stderr",
     "output_type": "stream",
     "text": [
      " 53%|█████▎    | 940/1759 [19:12<11:09,  1.22it/s]"
     ]
    },
    {
     "name": "stdout",
     "output_type": "stream",
     "text": [
      "Generated Output: ['A man in sitting on a chair with a hair while a man. a other men watchverse in the background.', 'A man group of people are standing a beach floor,.', 'A man in a blue shirt-slee shirt- shirt and a is a cup girl in a red shirt and a on a pieceicolored piece.', 'A man man man is a red car with a white s shirt yellow and and yellow outfit.']\n",
      "2.182019317150116\n"
     ]
    },
    {
     "name": "stderr",
     "output_type": "stream",
     "text": [
      " 54%|█████▍    | 950/1759 [19:21<11:33,  1.17it/s]"
     ]
    },
    {
     "name": "stdout",
     "output_type": "stream",
     "text": [
      "Generated Output: ['A man in a pants is walking a large racket and her white court.', 'A man and is a snow with looking a stick in its mouth.', 'A men in one wearing a blue and onee-,, the in a,ie sweats, are at a computer black box.', 'A man of people are standing a beach weather outside.']\n",
      "2.290463852882385\n"
     ]
    },
    {
     "name": "stderr",
     "output_type": "stream",
     "text": [
      " 55%|█████▍    | 960/1759 [19:30<12:50,  1.04it/s]"
     ]
    },
    {
     "name": "stdout",
     "output_type": "stream",
     "text": [
      "Generated Output: ['A man is aouse-gy pants and a is a red shirt cap is a a picture with a camera. on a.. front parky field area', 'Aressed in a moves in a other. while a of props pole net. support.', 'A maniker in a blue and hat cap is on his backpack on the a rock wall a tree sky in the background.', 'A man man man is sitting in a grass field.']\n",
      "2.1060425519943236\n"
     ]
    },
    {
     "name": "stderr",
     "output_type": "stream",
     "text": [
      " 55%|█████▌    | 970/1759 [19:40<13:09,  1.00s/it]"
     ]
    },
    {
     "name": "stdout",
     "output_type": "stream",
     "text": [
      "Generated Output: ['A older man wearing sitting a wood with a grill board. a kitchen. a is wearing a white slee coat-shirt.', 'A man in a orange shirt shirt is a glasses is is is concrete. a.', 'A in a hair hair curly hair and aeglasses is wearing a. singing on a. in a shirt and shorts jeans.', 'A man man in a kind of clothing arts outfit is at the camera while smiles a opponent into.']\n",
      "2.0707250833511353\n"
     ]
    },
    {
     "name": "stderr",
     "output_type": "stream",
     "text": [
      " 56%|█████▌    | 980/1759 [19:50<13:02,  1.00s/it]"
     ]
    },
    {
     "name": "stdout",
     "output_type": "stream",
     "text": [
      "Generated Output: ['A man boy is a red look is a tree..', 'A man manhaired man in to about a man of people women. red clothing clothing.', 'A men in sitting on a benches, a river.', 'A man boy in a back to the camera is sitting helped by a. on a picnic tables. a large of a. trees.']\n",
      "2.201210594177246\n"
     ]
    },
    {
     "name": "stderr",
     "output_type": "stream",
     "text": [
      " 56%|█████▋    | 990/1759 [19:59<11:06,  1.15it/s]"
     ]
    },
    {
     "name": "stdout",
     "output_type": "stream",
     "text": [
      "Generated Output: ['A man in a hair and a white shirt is sitting in a edge.', 'A man in aals and a shirtigan is on a bench bench with a on a cell.', 'A men are in talking a conversation conversation. one one third of people sitting children standing the background. and. watching.', 'A man boy in a pink- is is in a blueaid shirt and a shirt. a a bike cart. a parking store.']\n",
      "2.1452968597412108\n"
     ]
    },
    {
     "name": "stderr",
     "output_type": "stream",
     "text": [
      " 57%|█████▋    | 1000/1759 [20:07<09:55,  1.27it/s]"
     ]
    },
    {
     "name": "stdout",
     "output_type": "stream",
     "text": [
      "Generated Output: ['A man dog is a leash is through a grass snow of', 'A people men black men men schoolschoolers boys are playing around a circle group, with. the park park.', 'A men in playing a large box in a hands. walking down a street. white white uniform.', 'A menette women are down black shirts dresses shirts a a man tree. a man and daughter. soccer.']\n",
      "2.2179765462875367\n"
     ]
    },
    {
     "name": "stderr",
     "output_type": "stream",
     "text": [
      " 57%|█████▋    | 1010/1759 [20:14<09:39,  1.29it/s]"
     ]
    },
    {
     "name": "stdout",
     "output_type": "stream",
     "text": [
      "Generated Output: ['A manscape is a and in the street. with man in a shorts is along and a woman in on a man in a bicycle.', 'A man in a black shirt and a pants hat is in a buildingaking in two rocks formations.', 'A men are sitting in a bridge hillline one a of the other.', 'A man- dog is through a grass trail. with man in a shorts and behind.']\n",
      "2.2241846442222597\n"
     ]
    },
    {
     "name": "stderr",
     "output_type": "stream",
     "text": [
      " 58%|█████▊    | 1020/1759 [20:21<08:23,  1.47it/s]"
     ]
    },
    {
     "name": "stdout",
     "output_type": "stream",
     "text": [
      "Generated Output: ['A man boy in a instrument guitar in wearing on a floor.', 'A man in the red shirt is the boy player is sitting on the water.', 'A man in a red shirt white striped is a soccer soccer ball a by other.', 'A man of people people are in a swing slide. a swimming.']\n",
      "2.271882200241089\n"
     ]
    },
    {
     "name": "stderr",
     "output_type": "stream",
     "text": [
      " 59%|█████▊    | 1030/1759 [20:29<08:24,  1.45it/s]"
     ]
    },
    {
     "name": "stdout",
     "output_type": "stream",
     "text": [
      "Generated Output: ['A man in a and sitting to jump a golf ball. a club club.', 'A man of people men are a woman are in a of a building with with people and chairs.', 'A man in a blue shirt and black is sitting over to a woman child. a leash. a other animals.', 'A mankiier is through the water water of aboats in the background.']\n",
      "2.0910207271575927\n"
     ]
    },
    {
     "name": "stderr",
     "output_type": "stream",
     "text": [
      " 59%|█████▉    | 1040/1759 [20:35<07:41,  1.56it/s]"
     ]
    },
    {
     "name": "stdout",
     "output_type": "stream",
     "text": [
      "Generated Output: ['A man boy in his tie while sitting watch into swim in the pool.', 'A man in a blue-sleeved shirt shirt and on a outdoor playing a church church. a walk- behind at.', 'A man man dog is standing on the air grass. brown', 'A man of people are hands and a circle while while of is a and the head. in the of the large of trees building. a white roof.']\n",
      "2.191584014892578\n"
     ]
    },
    {
     "name": "stderr",
     "output_type": "stream",
     "text": [
      " 60%|█████▉    | 1050/1759 [20:42<07:08,  1.65it/s]"
     ]
    },
    {
     "name": "stdout",
     "output_type": "stream",
     "text": [
      "Generated Output: ['A man boy in a red shirt-shirt and his hair in sitting at a a mirror.', 'A are walking in line to get food at and a are sitting around from their food.', 'A manubby man in sitting a orange cream cone in her of her crowd of a woman.', 'A in a shirt and a shirt and a and it and a.']\n",
      "2.3801409363746644\n"
     ]
    },
    {
     "name": "stderr",
     "output_type": "stream",
     "text": [
      " 60%|██████    | 1060/1759 [20:48<07:32,  1.54it/s]"
     ]
    },
    {
     "name": "stdout",
     "output_type": "stream",
     "text": [
      "Generated Output: ['A man wearing a red shirt and whiteer pants is down a skate on a hill hill.', 'Aars are in a of a building fence. a people on board.', 'A man is playing a bike bike with a a orange helmet. a pants.', 'A men are white and white and and blue are are and of them is holdingging a ear, are another three whom are wearing at a on a distance.']\n",
      "2.162196660041809\n"
     ]
    },
    {
     "name": "stderr",
     "output_type": "stream",
     "text": [
      " 61%|██████    | 1070/1759 [20:54<07:17,  1.57it/s]"
     ]
    },
    {
     "name": "stdout",
     "output_type": "stream",
     "text": [
      "Generated Output: ['A man in a red shirt and blue pants is standing a ball ballisbee into', 'A of dog is sitting the-,irling another white dog is on the ground.', 'A man in a whiteana and a hat with a band shirt, a with a are a red are on a bench. a walk around. something train to', 'A men in at a camera while standing third boy is a is at the of the.']\n",
      "2.1536511421203612\n"
     ]
    },
    {
     "name": "stderr",
     "output_type": "stream",
     "text": [
      " 61%|██████▏   | 1080/1759 [21:01<07:00,  1.61it/s]"
     ]
    },
    {
     "name": "stdout",
     "output_type": "stream",
     "text": [
      "Generated Output: ['A man in a football in down a people structures.', 'A man in a blue shirt and sitting a camera system for a band club.', 'A man in a bicycle bike is a helmet shirt and riding a tricks. a street.', 'A is a orange shirt is on a dog dog white dog on front hand.']\n",
      "2.1196900963783265\n"
     ]
    },
    {
     "name": "stderr",
     "output_type": "stream",
     "text": [
      " 62%|██████▏   | 1090/1759 [21:07<06:31,  1.71it/s]"
     ]
    },
    {
     "name": "stdout",
     "output_type": "stream",
     "text": [
      "Generated Output: ['A people are a hardests are hard helmets hats are shovel and of working on a a tracks.', 'A man in a are on something ball. a picture. a background.', 'A man in a red jacket and jeans woman in a blue blue top are standing a large..', 'Acycl rider on the sunny day on the beach.']\n",
      "2.1203922986984254\n"
     ]
    },
    {
     "name": "stderr",
     "output_type": "stream",
     "text": [
      " 63%|██████▎   | 1100/1759 [21:13<06:37,  1.66it/s]"
     ]
    },
    {
     "name": "stdout",
     "output_type": "stream",
     "text": [
      "Generated Output: ['A dog girl is the pink shirt is sitting in front of a Christmas white with.', 'A man in in a of a rocks with a sun in them', 'A man boy is a red tag with standing through a track field.', 'A man street street with people walking on to boats boat train. loading or unloading..A\\n\\n']\n",
      "2.2394952535629273\n"
     ]
    },
    {
     "name": "stderr",
     "output_type": "stream",
     "text": [
      " 63%|██████▎   | 1110/1759 [21:19<06:56,  1.56it/s]"
     ]
    },
    {
     "name": "stdout",
     "output_type": "stream",
     "text": [
      "Generated Output: ['A in on a chair chair with a white on white scarf on. a black in on the table of.', 'A elderly pattern and is seen background for a young-aged man in a white dress. a piano- wooden instrument. a red black of a plays in a', 'A man in a blue and in in a table in a restaurant.', 'A man of people are on pictures of just man with.. a man bunch of people in the water- hole. a. a hands in. the air']\n",
      "2.101246011257172\n"
     ]
    },
    {
     "name": "stderr",
     "output_type": "stream",
     "text": [
      " 64%|██████▎   | 1120/1759 [21:24<06:10,  1.73it/s]"
     ]
    },
    {
     "name": "stdout",
     "output_type": "stream",
     "text": [
      "Generated Output: ['A man and is walking through a grass water of a lake pond of water.', 'A man of playing in a of a audience. a crowd is wearing a orange shirt. black a on his arms.', 'A man in sitting a baby in her red shirt and while is wearing at at the.', 'A men are in a field area. a fence in the background.']\n",
      "2.302532911300659\n"
     ]
    },
    {
     "name": "stderr",
     "output_type": "stream",
     "text": [
      " 64%|██████▍   | 1130/1759 [21:30<06:03,  1.73it/s]"
     ]
    },
    {
     "name": "stdout",
     "output_type": "stream",
     "text": [
      "Generated Output: ['A man is on the ground with a tree. a of a fence car. child to dog of children cars. a street of a road.', 'A man is a head legs on the ground and a treat dogisbee in his mouth. a open parkground.', 'A man in a blue shirt and to get a door of a car car red car.', 'A man is a red shirt and standing a red and a standing feet away the air. holding by a. while he watch..']\n",
      "2.225582849979401\n"
     ]
    },
    {
     "name": "stderr",
     "output_type": "stream",
     "text": [
      " 65%|██████▍   | 1140/1759 [21:36<06:10,  1.67it/s]"
     ]
    },
    {
     "name": "stdout",
     "output_type": "stream",
     "text": [
      "Generated Output: ['A man in into into a trampoline while is attached up a grass. a in a in the background.', 'A man in a blue and and black hat is a large bag while walking against a wall wallbe a friend looks in a toy.. the ground.', 'A man in a red short coloredress is a umbrella handm pose open-five pose.. front grass open field. by a.', 'A playing a objects and in front of a old man with a.']\n",
      "2.241260325908661\n"
     ]
    },
    {
     "name": "stderr",
     "output_type": "stream",
     "text": [
      " 65%|██████▌   | 1150/1759 [21:42<05:56,  1.71it/s]"
     ]
    },
    {
     "name": "stdout",
     "output_type": "stream",
     "text": [
      "Generated Output: ['A man in a black shirt and walking a large and device. a beach screen. a rugby stadium.', 'A man is the is is a white shirt is her dog dog on her side of her. a white to her.', 'A men in in the weather, one a man is walking in a road. the backgroundy weather water.', 'A man in a hairbrown is a coat is walking a baby baby.']\n",
      "2.359076189994812\n"
     ]
    },
    {
     "name": "stderr",
     "output_type": "stream",
     "text": [
      " 66%|██████▌   | 1160/1759 [21:48<05:49,  1.72it/s]"
     ]
    },
    {
     "name": "stdout",
     "output_type": "stream",
     "text": [
      "Generated Output: ['A men are blue clothes arebluebreaker, hardests) are along a sidewalk of a construction.', 'A man and son son are playing into in in sitting in', 'A people are sitting in a bench wooden with the water. a boat is by.', 'A man is a p shirt white shirtowsuit is standing in a snow with a ice orange shovel.']\n",
      "2.123165762424469\n"
     ]
    },
    {
     "name": "stderr",
     "output_type": "stream",
     "text": [
      " 67%|██████▋   | 1170/1759 [21:54<06:03,  1.62it/s]"
     ]
    },
    {
     "name": "stdout",
     "output_type": "stream",
     "text": [
      "Generated Output: ['A man in a red and sitting a blue red shirt and a a microphone gun camera.', 'A man of people men players are up football girlsleaders in in the air. the football game.', 'A man boy man in a black shirt and a white is a computer machine.', 'A man girl is in on the street and a little out to the..']\n",
      "2.2737796187400816\n"
     ]
    },
    {
     "name": "stderr",
     "output_type": "stream",
     "text": [
      " 67%|██████▋   | 1180/1759 [22:01<06:05,  1.58it/s]"
     ]
    },
    {
     "name": "stdout",
     "output_type": "stream",
     "text": [
      "Generated Output: ['A in women in whiteary are padd against in a river lake lake of water.', 'A man in a and a large- in his hand while walking woman in arings and next him.', 'A man in to food of food in in while is wearing a white a and a a black a on her head shoulder.', 'A man dog is sitting through a field hill grass. grass. a dog in aers..']\n",
      "2.1179038405418398\n"
     ]
    },
    {
     "name": "stderr",
     "output_type": "stream",
     "text": [
      " 68%|██████▊   | 1190/1759 [22:07<05:50,  1.62it/s]"
     ]
    },
    {
     "name": "stdout",
     "output_type": "stream",
     "text": [
      "Generated Output: ['A olderinerian is in a is over horse horse. a fence.', 'A man boy is playing a toy and ball with a with a cars tools.', 'A man in a black blue shirt-slee shirt and a white and wood tree of woodwood wood. a axe axe. a a wooden..', 'A men in working on a large projectolding structure a a large building.']\n",
      "2.1958670258522033\n"
     ]
    },
    {
     "name": "stderr",
     "output_type": "stream",
     "text": [
      " 68%|██████▊   | 1200/1759 [22:13<06:10,  1.51it/s]"
     ]
    },
    {
     "name": "stdout",
     "output_type": "stream",
     "text": [
      "Generated Output: ['A men men are sitting basketball electronic game game. isulates a a game.', 'A man in a red hat and sitting a a girl in a red shirt. his treeer water.', 'A man in a redoon shirt skirt is playing the court court with is playing a ball ball. the court.. a racket.', 'A man in a red shirt uniform is a pantsing is ises at to his arms gloveitt in, ready to catch the ball ball.']\n",
      "1.9944186449050902\n"
     ]
    },
    {
     "name": "stderr",
     "output_type": "stream",
     "text": [
      " 69%|██████▉   | 1210/1759 [22:20<05:47,  1.58it/s]"
     ]
    },
    {
     "name": "stdout",
     "output_type": "stream",
     "text": [
      "Generated Output: ['A man boy is a red- jacketver is sitting the beach end of a inf life..', 'A man in a red shirt and on a bench in a beach of a river.', 'A man in a blue-red dressean outfit is a of red and and a brown blue bag bag.', 'A man in in a edge with holding to a car, with a clothing and']\n",
      "2.3803438544273376\n"
     ]
    },
    {
     "name": "stderr",
     "output_type": "stream",
     "text": [
      " 69%|██████▉   | 1220/1759 [22:27<06:34,  1.37it/s]"
     ]
    },
    {
     "name": "stdout",
     "output_type": "stream",
     "text": [
      "Generated Output: ['A man boy is a and sitting the beach of a tree building.', 'A manubbyahua is a leash is in a house with. while a a dog part of arms and and boot are the dog holding the leash are be', 'A man- white dog is on a fence of stand machine ain\\'s \" in C minor.', 'A manber in a orange shirt and climbing a to a rope. a a rock wall.']\n",
      "2.222903001308441\n"
     ]
    },
    {
     "name": "stderr",
     "output_type": "stream",
     "text": [
      " 70%|██████▉   | 1230/1759 [22:34<06:07,  1.44it/s]"
     ]
    },
    {
     "name": "stdout",
     "output_type": "stream",
     "text": [
      "Generated Output: ['A men men in a young woman are white and standing over the-. a same of a building of stairs stairs.', 'A man dog black dog is through the grass in jumping a shoreline', 'A man is a trickobom inlike trick course a dog watches behind. of', 'A in on a water Gate Bridge. a sunnygy day.']\n",
      "2.363835835456848\n"
     ]
    },
    {
     "name": "stderr",
     "output_type": "stream",
     "text": [
      " 70%|███████   | 1240/1759 [22:40<05:52,  1.47it/s]"
     ]
    },
    {
     "name": "stdout",
     "output_type": "stream",
     "text": [
      "Generated Output: ['A are a man in on a bench bench a hand in his hands.', 'A man in a shirt and playing in a grass. a people are around him.', 'A man in a pants and standing on a bench chair with a room.', 'A man boy in a hair to to the street court is a ball in towards the her.']\n",
      "2.2087678790092466\n"
     ]
    },
    {
     "name": "stderr",
     "output_type": "stream",
     "text": [
      " 71%|███████   | 1250/1759 [22:48<06:19,  1.34it/s]"
     ]
    },
    {
     "name": "stdout",
     "output_type": "stream",
     "text": [
      "Generated Output: ['A man is the left and is wearing the to the player from the white team.', 'A man in at a window at a on him. a table.', 'A men are sitting a knees, a dogs them sitting a tree. a tree. the background.', 'A in a beard and aanna on a on his phoneR camera.']\n",
      "2.039648950099945\n"
     ]
    },
    {
     "name": "stderr",
     "output_type": "stream",
     "text": [
      " 72%|███████▏  | 1260/1759 [22:56<06:38,  1.25it/s]"
     ]
    },
    {
     "name": "stdout",
     "output_type": "stream",
     "text": [
      "Generated Output: ['A man boy wearing a red shirt and playing a picture of a woman-f camera.', 'A man in a blue shirt and black shirt is a building with a person in a orange shirt and on at the background.', 'A is two in on a table table in with a children of cups. front of them.', 'A dog white dog with wearing open, a out out, sitting in a grass.']\n",
      "2.107136046886444\n"
     ]
    },
    {
     "name": "stderr",
     "output_type": "stream",
     "text": [
      " 72%|███████▏  | 1270/1759 [23:05<07:13,  1.13it/s]"
     ]
    },
    {
     "name": "stdout",
     "output_type": "stream",
     "text": [
      "Generated Output: ['A man in a jeans and standing up up of a pile bucket. the groundway.', 'A man in a blue shirt shirt and jeans a blue is is standing a guitar guitar. of a lake.', 'A man of people people men are on a table in a of them is a another one are aambourines. their background.', 'A man boy in a blue shirt and jeans pants pants is sitting on the bed table with is attached to the ground.']\n",
      "2.010313022136688\n"
     ]
    },
    {
     "name": "stderr",
     "output_type": "stream",
     "text": [
      " 73%|███████▎  | 1280/1759 [23:14<07:22,  1.08it/s]"
     ]
    },
    {
     "name": "stdout",
     "output_type": "stream",
     "text": [
      "Generated Output: ['A manless man is a shorts shorts white shorts is jumpingailing on a blanket. to a tree.', 'A man is is a blue shirt top and aaki shorts is down a beach beach. a woman in a white shirt and a jeans jeans.', 'A people are in a weather are for a sidewalk platform trainorail platform platformlike.', 'A the foreground, morning,, man people are for a sidewalk for a large in the background.']\n",
      "2.342898154258728\n"
     ]
    },
    {
     "name": "stderr",
     "output_type": "stream",
     "text": [
      " 73%|███████▎  | 1290/1759 [23:24<07:57,  1.02s/it]"
     ]
    },
    {
     "name": "stdout",
     "output_type": "stream",
     "text": [
      "Generated Output: ['A man in a woman are black and walking each on in a other. and the in at each other.', 'A manfooted man in a beard look is his face is down the rockboard. a woman dog.', 'A man in in his appears to be a large full food- and front of him windowi. a shopping.', 'A man of people people and sitting to take a of walking in the woods.']\n",
      "2.091579031944275\n"
     ]
    },
    {
     "name": "stderr",
     "output_type": "stream",
     "text": [
      " 74%|███████▍  | 1300/1759 [23:35<08:22,  1.10s/it]"
     ]
    },
    {
     "name": "stdout",
     "output_type": "stream",
     "text": [
      "Generated Output: ['A man man in aige pants on a large man in a. a of a blue.', \"A in in a with a man in on both a's studio studio. the\", 'A men in with wearing blackast the is wearing a the other is. the up. are the. one the gym room.', 'A man in a is a grass of a young in a blue shirtock.']\n",
      "2.219043481349945\n"
     ]
    },
    {
     "name": "stderr",
     "output_type": "stream",
     "text": [
      " 74%|███████▍  | 1310/1759 [23:47<08:48,  1.18s/it]"
     ]
    },
    {
     "name": "stdout",
     "output_type": "stream",
     "text": [
      "Generated Output: ['A men in wearing a hair and a on on a, computer, another with with a shirt and behind one guy with black shirt sitting at desk table.', 'A man in a woman are a orange shirt are standing on a bench in looking at the ocean. the ocean. the ocean.', 'A men in white and v and on a a equipment. a snow..', 'A man in with astretched hands and a beach. to a buildingblestone street.']\n",
      "2.178865110874176\n"
     ]
    },
    {
     "name": "stderr",
     "output_type": "stream",
     "text": [
      " 75%|███████▌  | 1320/1759 [24:00<09:19,  1.27s/it]"
     ]
    },
    {
     "name": "stdout",
     "output_type": "stream",
     "text": [
      "Generated Output: ['A manuba diver is is just into the bottom of the ocean is is out to touch a dog fish turtle.', 'A man in a blue-shirt and sitting a on a classroom notebook. a pen pen.', 'A man woman in a and a white jacket is standing down a fence.', 'A in a hair top and in front middle of a field.. aicolored lights cars. her right and']\n",
      "2.116052031517029\n"
     ]
    },
    {
     "name": "stderr",
     "output_type": "stream",
     "text": [
      " 76%|███████▌  | 1330/1759 [24:14<09:54,  1.39s/it]"
     ]
    },
    {
     "name": "stdout",
     "output_type": "stream",
     "text": [
      "Generated Output: ['A men in a white ring with one wearing a shortsgear and the with blue headgear. are fighting in a fight match.', 'A man group of people are white clothing are a bicycle- on', 'A man man in a a blackkulele isist a a backdrop of a blue blue sky.', 'A-aged man woman in sitting on a bench bench with a woman dog. his lap. a. he looks to take a guitar. singica.']\n",
      "2.304890787601471\n"
     ]
    },
    {
     "name": "stderr",
     "output_type": "stream",
     "text": [
      " 76%|███████▌  | 1340/1759 [24:27<09:19,  1.34s/it]"
     ]
    },
    {
     "name": "stdout",
     "output_type": "stream",
     "text": [
      "Generated Output: ['A man of of a man in in a edge. at something man rock. a beach side of', 'A men in are on a car.. the see if it is needs properly.', 'A men men in playing a signsfl. of of snow and.', 'A man in a whiteed and black sitting a on a skateboard.']\n",
      "2.1616121888160706\n"
     ]
    },
    {
     "name": "stderr",
     "output_type": "stream",
     "text": [
      " 77%|███████▋  | 1350/1759 [24:40<09:05,  1.33s/it]"
     ]
    },
    {
     "name": "stdout",
     "output_type": "stream",
     "text": [
      "Generated Output: ['A of is sitting a other blocks a hole while another man is holding. the top.', 'A man dogieoodle is sitting along a beach of a cliff.', 'A man in a motorcycle with a city yellow-shirt and a kind of object in his camera in a white shirt-shirt. a.', 'A man boy wearing a blue shirt vest is on his head on on his railing.']\n",
      "2.0279611349105835\n"
     ]
    },
    {
     "name": "stderr",
     "output_type": "stream",
     "text": [
      " 77%|███████▋  | 1360/1759 [24:54<08:31,  1.28s/it]"
     ]
    },
    {
     "name": "stdout",
     "output_type": "stream",
     "text": [
      "Generated Output: ['A man of people men are traditional orange shirts are soccer ofof-war with a olderically diverse man woman watches nearby. watches.', 'A is a man in in a and down a sidewalk with a snow on', 'A dog are a restaurant school are a for a customers.', 'A man boy is in race with a track with a dog track.']\n",
      "2.2981706857681274\n"
     ]
    },
    {
     "name": "stderr",
     "output_type": "stream",
     "text": [
      " 78%|███████▊  | 1370/1759 [25:08<08:45,  1.35s/it]"
     ]
    },
    {
     "name": "stdout",
     "output_type": "stream",
     "text": [
      "Generated Output: ['Aler in in a and white running a and red flowers in', 'A man in sitting on a ground with is to be reading a large of the beach with a large water ball.', 'A man is a red shirt and a bike lineline while a manless man in for the chair.', 'A men are their on football af guns. a of on. a a bottle cup.']\n",
      "2.315497887134552\n"
     ]
    },
    {
     "name": "stderr",
     "output_type": "stream",
     "text": [
      " 78%|███████▊  | 1380/1759 [25:22<08:58,  1.42s/it]"
     ]
    },
    {
     "name": "stdout",
     "output_type": "stream",
     "text": [
      "Generated Output: ['AO men are in a buildinged the of. the person in the opposite of them.', 'A men men are in white clothing are over a on a bench couch. floor.', 'A man man in sitting on a young of and a young men are by to her. aons on. her.', 'A man boy is a orange green shirt and black blue pants is a a sign of a family demonstration.']\n",
      "2.160107696056366\n"
     ]
    },
    {
     "name": "stderr",
     "output_type": "stream",
     "text": [
      " 79%|███████▉  | 1390/1759 [25:37<09:14,  1.50s/it]"
     ]
    },
    {
     "name": "stdout",
     "output_type": "stream",
     "text": [
      "Generated Output: ['A man boy is sitting in front field of grass with a white in on on her head.', 'Aoys in playing in a soccer soccer tournament. with a the of runs the ball, is help it body and through. hits the foot in the chest.', 'A man in a orange shirt is at a object sign in aals on it.', 'A man in a red shirt white shirt tie hat is his sitting to a microphone.. while a a microphone.']\n",
      "2.1188857674598696\n"
     ]
    },
    {
     "name": "stderr",
     "output_type": "stream",
     "text": [
      " 80%|███████▉  | 1400/1759 [25:51<08:06,  1.36s/it]"
     ]
    },
    {
     "name": "stdout",
     "output_type": "stream",
     "text": [
      "Generated Output: ['A man in a blue shirt is standing on front of a with while a a hands.', 'A areing in a building in the appears to be a desert Eastern country.', 'A man in a black shirt and a pregnant is sitting in to a man in is wearing a black blue jacket and a holdingking.', 'A men in sitting white goggles v and helmets hats while a job of a construction site. one man wearing a hard and another other two are standing at him hole']\n",
      "2.081613802909851\n"
     ]
    },
    {
     "name": "stderr",
     "output_type": "stream",
     "text": [
      " 80%|████████  | 1410/1759 [26:05<08:46,  1.51s/it]"
     ]
    },
    {
     "name": "stdout",
     "output_type": "stream",
     "text": [
      "Generated Output: ['A man in sittinging his musclesiceps while wearing on a bench. a peopleneys in the background.', 'A- man in a clothing are standing their hands in in the prayer. a walls. a a man in the back of is holding in them table.', 'A man girl is a red shirt is playing his on the mouth.', 'A men in sitting in eating; eating in one men are sitting and the background direction of the kitchen.']\n",
      "2.07696248292923\n"
     ]
    },
    {
     "name": "stderr",
     "output_type": "stream",
     "text": [
      " 81%|████████  | 1420/1759 [26:19<07:38,  1.35s/it]"
     ]
    },
    {
     "name": "stdout",
     "output_type": "stream",
     "text": [
      "Generated Output: ['A older- man a blue shirt and jeans pants black pants is a street with a man in a blue shirt and after the.', 'A man in a toyeder in his of a green tree. a paper.ing the ground.', 'A meners are black head are standing in one oneers watching.', 'A man group of peopleian men are sittinging around a sort of object. a sort of festival.']\n",
      "2.1915866255760195\n"
     ]
    },
    {
     "name": "stderr",
     "output_type": "stream",
     "text": [
      " 81%|████████▏ | 1430/1759 [26:34<07:31,  1.37s/it]"
     ]
    },
    {
     "name": "stdout",
     "output_type": "stream",
     "text": [
      "Generated Output: ['A man wearing a red shirt and a handastic routine on a try field field.', 'A are a in a in on aing. the toprow Bridge Mine mine.', 'A man in a blue blue and a is a woman in a red jacket and jeans. a bench sidewalk.', 'A are in get a building building. a open door. a American sign sign. the left. the.']\n",
      "2.0260425329208376\n"
     ]
    },
    {
     "name": "stderr",
     "output_type": "stream",
     "text": [
      " 82%|████████▏ | 1440/1759 [26:48<07:42,  1.45s/it]"
     ]
    },
    {
     "name": "stdout",
     "output_type": "stream",
     "text": [
      "Generated Output: ['A older man in a blue shirt and black shirt and and black pants is sittinging with a in a black shirt and a park street a woman girl looks at', 'A man ining a shirt shirt shirt of clothing. a woman stands. a children look by their business.', 'A man man man is sailing through a.', 'A men girls are one in a red shirt and the on his head, a tree. in a of a large of water.']\n",
      "2.2419904112815856\n"
     ]
    },
    {
     "name": "stderr",
     "output_type": "stream",
     "text": [
      " 82%|████████▏ | 1450/1759 [27:02<07:31,  1.46s/it]"
     ]
    },
    {
     "name": "stdout",
     "output_type": "stream",
     "text": [
      "Generated Output: ['A older man is a and a orange hat sweater is sitting on a chair.', 'A are walking a bus in is going in and the outside and', 'A men are one in a hair and the other with blue blue shirt, blue, playing down a hill.', 'A man girl in playing with a ball ball. a sand.']\n",
      "2.1535175442695618\n"
     ]
    },
    {
     "name": "stderr",
     "output_type": "stream",
     "text": [
      " 83%|████████▎ | 1460/1759 [27:16<07:05,  1.42s/it]"
     ]
    },
    {
     "name": "stdout",
     "output_type": "stream",
     "text": [
      "Generated Output: ['A dog from the rooftop of the top beach in', 'A man girl is a shorts and playing a little car carriage a stroller.', 'A man-haired man in sitting to a microphone while wearing man is recording in him.', 'A are on a circle and a tables and a windows. beer drinks. beersizing.']\n",
      "2.2590729236602782\n"
     ]
    },
    {
     "name": "stderr",
     "output_type": "stream",
     "text": [
      " 84%|████████▎ | 1470/1759 [27:31<07:09,  1.49s/it]"
     ]
    },
    {
     "name": "stdout",
     "output_type": "stream",
     "text": [
      "Generated Output: ['A man street colorful beach street with the. with people and people in the street.', 'A man maned man is a hair is to climb a ballball with a wooden. while a man in in a and.', 'A men players are one in a red shirt and the other wearing a, are to kick the ball ball..', 'A man in a hair and a is sitting a large and a tripod.']\n",
      "2.0396459817886354\n"
     ]
    },
    {
     "name": "stderr",
     "output_type": "stream",
     "text": [
      " 84%|████████▍ | 1480/1759 [27:46<06:38,  1.43s/it]"
     ]
    },
    {
     "name": "stdout",
     "output_type": "stream",
     "text": [
      "Generated Output: ['A older in a hair and sitting onining on a arm chair. a window monitor', 'A man is a red harness and running through a field. a grass. a..', 'A man girl dog is in a hind legs and his red ball in his mouth.', 'A man boy brown dog is running the middle with on the of a stove.']\n",
      "2.3573161959648132\n"
     ]
    },
    {
     "name": "stderr",
     "output_type": "stream",
     "text": [
      " 85%|████████▍ | 1490/1759 [28:01<06:33,  1.46s/it]"
     ]
    },
    {
     "name": "stdout",
     "output_type": "stream",
     "text": [
      "Generated Output: ['A man vendor a few with sells a sign that that it that \"BESTcker Street.\".\"', 'A people are on a bench train train with a people are in front background of a doors.', 'A elderly man is a orange shirt is standing a hose hose while a flowing out of', 'A man in a beard on his arm and a earring corn on the other is at a woman with a blue dress.']\n",
      "2.078333795070648\n"
     ]
    },
    {
     "name": "stderr",
     "output_type": "stream",
     "text": [
      " 85%|████████▌ | 1500/1759 [28:15<06:08,  1.42s/it]"
     ]
    },
    {
     "name": "stdout",
     "output_type": "stream",
     "text": [
      "Generated Output: ['A man in a and and on a chair chair with a and the background.', 'A older woman in a shopping with a large one in belongings on on the street.', 'A man in in a roof is a to a house house house white house building.', 'A man in sitting in a balcony corner with holding a cigarette.']\n",
      "2.155421829223633\n"
     ]
    },
    {
     "name": "stderr",
     "output_type": "stream",
     "text": [
      " 86%|████████▌ | 1510/1759 [28:31<06:50,  1.65s/it]"
     ]
    },
    {
     "name": "stdout",
     "output_type": "stream",
     "text": [
      "Generated Output: ['A men are through a sidewalkwalk, is a a river of water.', 'A men men players are helmets jerseys playing by a African player in blue. white. playing tackled by a. the stadium.', 'A man is a people and sailing by the by a man crowd of men.', 'A man girl in a face with the bed with then while playing a a kitchen blue.']\n",
      "2.0401005864143373\n"
     ]
    },
    {
     "name": "stderr",
     "output_type": "stream",
     "text": [
      " 86%|████████▋ | 1520/1759 [28:46<05:54,  1.48s/it]"
     ]
    },
    {
     "name": "stdout",
     "output_type": "stream",
     "text": [
      "Generated Output: ['A is two men in the, a woman of.. them fenceade.', 'A man is a orange shirt is a yellow hat hat is standing through a large bag in his construction station.', 'A man is sitting in a a to a baby of a car.', 'A man of people are a man in a red dress are sitting in a picture.']\n",
      "2.364954376220703\n"
     ]
    },
    {
     "name": "stderr",
     "output_type": "stream",
     "text": [
      " 87%|████████▋ | 1530/1759 [29:00<05:14,  1.37s/it]"
     ]
    },
    {
     "name": "stdout",
     "output_type": "stream",
     "text": [
      "Generated Output: ['A man and and dog is running through a beach. a same 5. its white vest.', 'A man in a hair and a blue is a guitar instrumentlooking instrument. a large.', 'A man man is a white in its mouth. it runs through a fence.', 'A man men are their and the of and walking are. a ice.']\n",
      "2.26880087852478\n"
     ]
    },
    {
     "name": "stderr",
     "output_type": "stream",
     "text": [
      " 88%|████████▊ | 1540/1759 [29:14<05:26,  1.49s/it]"
     ]
    },
    {
     "name": "stdout",
     "output_type": "stream",
     "text": [
      "Generated Output: ['A man brown dog is through a hill in.', 'A man dog player is playing to hit a ball ball. her racket.', 'A manber in a harness and and alamp is climbing to a rope that a rock face.', 'A men- aret along a water. a snow area.']\n",
      "2.1302356362342834\n"
     ]
    },
    {
     "name": "stderr",
     "output_type": "stream",
     "text": [
      " 88%|████████▊ | 1550/1759 [29:29<04:51,  1.40s/it]"
     ]
    },
    {
     "name": "stdout",
     "output_type": "stream",
     "text": [
      "Generated Output: ['A man of people are standing on a rocks while a of a rocks.', 'A man in a woman are standing on a on cards instrumentsins. a on their faces.', 'Aician in a hat and guitar instrument guitar. singing. a microphone.', 'A men in sitting a and walking down a fieldy field.']\n",
      "2.1707465052604675\n"
     ]
    },
    {
     "name": "stderr",
     "output_type": "stream",
     "text": [
      " 89%|████████▊ | 1560/1759 [29:46<05:25,  1.64s/it]"
     ]
    },
    {
     "name": "stdout",
     "output_type": "stream",
     "text": [
      "Generated Output: ['A people in suits shirtsuits are white safety are in to a and.', 'A man in a orange shirt is a woman in a blue shirt are standing a table stand. with a man in the orange shirt is the thumbs in a a', 'A in on hard safety harnessests and hard hats. a construction.', 'A man in a beach with talking in a window of a phone platform. a man is a backpack hat is at ahead her camera.']\n",
      "2.283834362030029\n"
     ]
    },
    {
     "name": "stderr",
     "output_type": "stream",
     "text": [
      " 89%|████████▉ | 1570/1759 [29:59<04:04,  1.29s/it]"
     ]
    },
    {
     "name": "stdout",
     "output_type": "stream",
     "text": [
      "Generated Output: ['A man of people is gathered in a beach platform with lookingcerned about a train is by by.', 'A at at a scope at a people. a young boy with is a a smallch on the trees foliage of a tree tree.', 'A of is standing a largester while open while another man is a piece can in the dumpster.', 'A men men are white and are sitting on a table with cards game.']\n",
      "2.2384846091270445\n"
     ]
    },
    {
     "name": "stderr",
     "output_type": "stream",
     "text": [
      " 90%|████████▉ | 1580/1759 [30:09<02:40,  1.12it/s]"
     ]
    },
    {
     "name": "stdout",
     "output_type": "stream",
     "text": [
      "Generated Output: ['A see see a for water for the the people..', 'A man in sitting on a of a computerist statue with', 'A in a. shirt shirt and on the bed blanket with with a in a woman doglikewing dog.', 'A mangi dog into a divingier of hay and whileunch. a in him.']\n",
      "2.379029321670532\n"
     ]
    },
    {
     "name": "stderr",
     "output_type": "stream",
     "text": [
      " 90%|█████████ | 1590/1759 [30:17<02:34,  1.09it/s]"
     ]
    },
    {
     "name": "stdout",
     "output_type": "stream",
     "text": [
      "Generated Output: ['A man womanhaired man is to a man in a red top and shorts.', 'A man in a blackish- and a beater and and and jeans dirty jeans jeans and and in to a olda colored car. a white- of', 'A young in a blue shirt and a red carAbet truck truck. truck with a anding.', 'A men in one wearing a red hat and the other with a red shirt, are standing a other in a contact.']\n",
      "2.0991575002670286\n"
     ]
    },
    {
     "name": "stderr",
     "output_type": "stream",
     "text": [
      " 91%|█████████ | 1600/1759 [30:25<01:54,  1.38it/s]"
     ]
    },
    {
     "name": "stdout",
     "output_type": "stream",
     "text": [
      "Generated Output: ['A man boy in a haircolored is is wearing a and a white top is into and the air and a group beach.', 'A man boy in sitting on a grass with her legs closed.', 'A man in sitting a with a. a wall wall. a sports lot.', 'A man is running on the air on a open field grass covered field.']\n",
      "2.1504071712493897\n"
     ]
    },
    {
     "name": "stderr",
     "output_type": "stream",
     "text": [
      " 92%|█████████▏| 1610/1759 [30:32<01:47,  1.39it/s]"
     ]
    },
    {
     "name": "stdout",
     "output_type": "stream",
     "text": [
      "Generated Output: ['A men are a outfits are standing the from of a street. a man in.', 'Aorm- woman in ated as standing to a older man.', 'A man child of people and children are sitting white and sunglasses while a beach beach. the water water.', 'A men men in sitting in a hill. a. a woman crowd of people watch..']\n",
      "2.387826085090637\n"
     ]
    },
    {
     "name": "stderr",
     "output_type": "stream",
     "text": [
      " 92%|█████████▏| 1620/1759 [30:38<01:29,  1.56it/s]"
     ]
    },
    {
     "name": "stdout",
     "output_type": "stream",
     "text": [
      "Generated Output: ['A men in a woman are a shirts tops and shorts shortspants are are in a beach street.', 'A man in a blue shirt and to a women in a man in a st cart. a.', 'Aarss people many people in at a things in are a types, a tables.', 'A man in a foreground is a white mask and swimming pulled by a person. a of a rescue operation.']\n",
      "2.1993285775184632\n"
     ]
    },
    {
     "name": "stderr",
     "output_type": "stream",
     "text": [
      " 93%|█████████▎| 1630/1759 [30:45<01:21,  1.59it/s]"
     ]
    },
    {
     "name": "stdout",
     "output_type": "stream",
     "text": [
      "Generated Output: ['A man of the top of a largebridge that with a people walking it. and a bridge of the of walking head. the water of.', 'A man in a red and at a phone while walking on a bench wooden bench.', 'Aers are in white workests and working as and shovel in a tracks.', 'A man in a red blue and at a mirror while a his cream on his face. face. and a man watches on. the other.']\n",
      "2.2374786853790285\n"
     ]
    },
    {
     "name": "stderr",
     "output_type": "stream",
     "text": [
      " 93%|█████████▎| 1640/1759 [30:51<01:16,  1.55it/s]"
     ]
    },
    {
     "name": "stdout",
     "output_type": "stream",
     "text": [
      "Generated Output: ['A men men are the clothing are through trail path in a forested areaadow. a day.', 'A men are one wearing a orange green shirt and the pantsortsl, and the other in a blue blue and a black blue jacketawl, a orange', 'A are two people in the swing court. one of drib a basketball.', 'A man in a black and sitting down a hill- slide slide.']\n",
      "2.1694926977157594\n"
     ]
    },
    {
     "name": "stderr",
     "output_type": "stream",
     "text": [
      " 94%|█████████▍| 1650/1759 [30:57<01:06,  1.65it/s]"
     ]
    },
    {
     "name": "stdout",
     "output_type": "stream",
     "text": [
      "Generated Output: ['A man is through a beach in a park. while manermanelleo and the background.', 'A people men are a costumes are a actor movie.', 'A menro menan men men are a books on', 'A man boy is down a hill slide with a hands closed. a woman in a watches him smiling.']\n",
      "2.1639827609062197\n"
     ]
    },
    {
     "name": "stderr",
     "output_type": "stream",
     "text": [
      " 94%|█████████▍| 1660/1759 [31:03<01:02,  1.59it/s]"
     ]
    },
    {
     "name": "stdout",
     "output_type": "stream",
     "text": [
      "Generated Output: ['A man man is walking through a fieldy area. a grasseds and', 'A man in in a field with past a peopleged players. a a man playing in playing red red.', 'A man in the red shirt is a blue is the door to a church. the mantec woman playing', 'A man dog dog isases a small black dog in a red collar in its mouth. a dog dog dog watches along.']\n",
      "2.234131908416748\n"
     ]
    },
    {
     "name": "stderr",
     "output_type": "stream",
     "text": [
      " 95%|█████████▍| 1670/1759 [31:09<00:53,  1.67it/s]"
     ]
    },
    {
     "name": "stdout",
     "output_type": "stream",
     "text": [
      "Generated Output: ['A man in a blue shirt and standing a woman trick to a group in a blue shirt.', 'A man a view of a old man inting on a water of trees pots. with out on a ground.', 'A man in a computer to walk her walking down a people is a manicycle.', 'A at the edge of a ship. the boat. the lakegy day.']\n",
      "2.0579240560531615\n"
     ]
    },
    {
     "name": "stderr",
     "output_type": "stream",
     "text": [
      " 96%|█████████▌| 1680/1759 [31:16<00:46,  1.71it/s]"
     ]
    },
    {
     "name": "stdout",
     "output_type": "stream",
     "text": [
      "Generated Output: ['A crowd of wood equipment are being moved to dig a large.', 'A man is a white and white is is selling a food for a at.', 'A man boy is with a toy toy in a', 'A man in a woman woman girl are a blue are are walking in in']\n",
      "2.1317017316818236\n"
     ]
    },
    {
     "name": "stderr",
     "output_type": "stream",
     "text": [
      " 96%|█████████▌| 1690/1759 [31:22<00:41,  1.66it/s]"
     ]
    },
    {
     "name": "stdout",
     "output_type": "stream",
     "text": [
      "Generated Output: ['A man in a pants and standing in to a man wearing is wearing at a on a hand.', 'A men girls in white are one in a sword and the without a woman, are standing for front field. front of aers.', 'A elderly in aaki pants and a white shirt-shirt is sitting a large in a back of a womanfishelly man', 'A man in a brown hair is on a table of looks out theged curtains curtains.']\n",
      "2.431630718708038\n"
     ]
    },
    {
     "name": "stderr",
     "output_type": "stream",
     "text": [
      " 97%|█████████▋| 1700/1759 [31:28<00:37,  1.56it/s]"
     ]
    },
    {
     "name": "stdout",
     "output_type": "stream",
     "text": [
      "Generated Output: ['A men in one wearing a red and one shirt-shirt and and the pants, the other with with a blue t-shirt and black pants, are to', 'Aogs are aatives, andices, and arrangeded in a plate. a and used by a person.', 'A man in a and a guitar guitar with in a at a camera.', 'A the restaurant buildingandored restaurant, a water, a man-aged man man is by young group crowd and sitting on eating. picture. a.']\n",
      "2.0979743361473084\n"
     ]
    },
    {
     "name": "stderr",
     "output_type": "stream",
     "text": [
      " 97%|█████████▋| 1710/1759 [31:34<00:30,  1.61it/s]"
     ]
    },
    {
     "name": "stdout",
     "output_type": "stream",
     "text": [
      "Generated Output: ['A man in sitting a book while a man is playing on head on her table. front cafe car.', 'A men are one boy and a red shirt and and a girl in a blue shirt, are a picnic in a middle of a building.', 'A man is the red shirt white shirt is his smile on his is holding to the ball.', 'A older maleula a child in a pinkib and while baby is a in its mouth.']\n",
      "2.0427016854286193\n"
     ]
    },
    {
     "name": "stderr",
     "output_type": "stream",
     "text": [
      " 98%|█████████▊| 1720/1759 [31:40<00:24,  1.58it/s]"
     ]
    },
    {
     "name": "stdout",
     "output_type": "stream",
     "text": [
      "Generated Output: ['A man is a red shirt and a a blue, is to catch a tree.', 'A man boy in sitting on a tr with a hands in arms extended out.', 'A mened men are their-barreled shotguns are a made. is have shot. a range trip. a lake trail road.', 'A man man white dog is running to jump a ball and black ball. the field grass grass.']\n",
      "2.197060024738312\n"
     ]
    },
    {
     "name": "stderr",
     "output_type": "stream",
     "text": [
      " 98%|█████████▊| 1730/1759 [31:46<00:17,  1.65it/s]"
     ]
    },
    {
     "name": "stdout",
     "output_type": "stream",
     "text": [
      "Generated Output: ['A man of people Americans women are in a dirt road.', 'A men in sitting in a building, at at the street.', 'A men and in wearing of white harnessests, are working a large metal into', 'A man is on a sidewalk sidewalk unevenphal sidewalk,']\n",
      "2.3656992077827455\n"
     ]
    },
    {
     "name": "stderr",
     "output_type": "stream",
     "text": [
      " 99%|█████████▉| 1740/1759 [31:53<00:11,  1.60it/s]"
     ]
    },
    {
     "name": "stdout",
     "output_type": "stream",
     "text": [
      "Generated Output: ['A the river street, a man is a blue shirt andassemb of a cigarette bag. trash. a dump trash green dump metal can.', 'A man boy in a red shirt and down a hill slide.', 'Aick of people are the dog are a are a hat bag are her head are sitting a people. in a tree.', 'A men large are in the woods of a road. a but a few radio and and a tent. a on']\n",
      "2.4017796397209166\n"
     ]
    },
    {
     "name": "stderr",
     "output_type": "stream",
     "text": [
      " 99%|█████████▉| 1750/1759 [31:59<00:05,  1.50it/s]"
     ]
    },
    {
     "name": "stdout",
     "output_type": "stream",
     "text": [
      "Generated Output: ['A man in a blue and aringsakes is a bags bags. a street street. a few of a womanang man in', 'A man is on a st chair with a. a spoonib on.', 'A man boy is a playingiring aets on a puppet show. a end area center.', 'A manman is in a back to the camera, front of a fire of with fire.']\n",
      "2.2245187520980836\n"
     ]
    },
    {
     "name": "stderr",
     "output_type": "stream",
     "text": [
      "100%|██████████| 1759/1759 [32:05<00:00,  1.09s/it]"
     ]
    },
    {
     "name": "stdout",
     "output_type": "stream",
     "text": [
      "Epoch 1 - Avg Loss: 2.1967514446338785\n"
     ]
    },
    {
     "name": "stderr",
     "output_type": "stream",
     "text": [
      "\n"
     ]
    }
   ],
   "source": [
    "from transformers import get_scheduler\n",
    "from tqdm import tqdm\n",
    "\n",
    "# Initialize optimizer and learning rate scheduler\n",
    "optimizer = torch.optim.AdamW(adapter_model.parameters(), lr=1e-5, eps=1e-5)\n",
    "num_training_steps = len(train_dataloader) * 2  # Assume 2 epochs\n",
    "num_warmup_steps = int(num_training_steps * 0.1)  # 10% warmup\n",
    "\n",
    "lr_scheduler = get_scheduler(\n",
    "    \"cosine\",\n",
    "    optimizer=optimizer,\n",
    "    num_warmup_steps=num_warmup_steps,\n",
    "    num_training_steps=num_training_steps,\n",
    ")\n",
    "\n",
    "adapter_model.to(device)\n",
    "adapter_model.train()\n",
    "\n",
    "epoch_loss = 0.0\n",
    "round_loss = 0.0\n",
    "for epoch in range(training_args.num_train_epochs):\n",
    "    print(\"Epoch:\", epoch)\n",
    "    for step, batch in enumerate(tqdm(train_dataloader)):\n",
    "        input_ids = batch['input_ids'].to(device)\n",
    "        pixel_values = batch['pixel_values'].to(device, torch.float16)\n",
    "        \n",
    "        outputs = adapter_model(\n",
    "            input_ids = input_ids,\n",
    "            pixel_values = pixel_values, \n",
    "            labels = input_ids\n",
    "        )\n",
    "        \n",
    "        loss = outputs.loss\n",
    "        loss.backward()\n",
    "        optimizer.step()\n",
    "        lr_scheduler.step()\n",
    "\n",
    "        optimizer.zero_grad()\n",
    "        torch.cuda.empty_cache()\n",
    "        \n",
    "        epoch_loss += loss.item()\n",
    "        round_loss += loss.item()\n",
    "        if (step+1) % 10 == 0: \n",
    "            # Extract logits from the model output\n",
    "            logits = outputs.logits  # Shape: (batch_size, seq_len, vocab_size)\n",
    "            # Get predicted token IDs by taking the argmax over the vocab dimension\n",
    "            predicted_ids = torch.argmax(logits, dim=-1)  # Shape: (batch_size, seq_len)\n",
    "            # Limit the number of tokens to 30 before decoding\n",
    "            seq_length = 32\n",
    "            predicted_ids = predicted_ids[:, :seq_length]  # Truncate to max 30 tokens\n",
    "            # Convert token IDs to text using tokenizer\n",
    "            decoded_output = processor.tokenizer.batch_decode(predicted_ids, skip_special_tokens=True)\n",
    "            # Print generated text\n",
    "            print(\"Generated Output:\", decoded_output)\n",
    "\n",
    "            # Print avg loss for 10 training samples\n",
    "            print(round_loss/10)\n",
    "            round_loss = 0.0\n",
    "\n",
    "    \n",
    "    print(f\"Epoch {epoch} - Avg Loss: {epoch_loss / len(train_dataloader)}\")\n",
    "    epoch_loss = 0.0\n"
   ]
  },
  {
   "cell_type": "code",
   "execution_count": 4,
   "metadata": {},
   "outputs": [],
   "source": [
    "from peft import PeftModel\n",
    "\n",
    "# Assuming your model is wrapped with LoRA\n",
    "adapter_model.save_pretrained(\"lora_adapter_loss_2_03131235\")\n"
   ]
  },
  {
   "cell_type": "code",
   "execution_count": null,
   "metadata": {},
   "outputs": [],
   "source": [
    "train_ds.save_to_disk(\"../dataset/train_dataset\")\n",
    "val_ds.save_to_disk(\"../dataset/val_dataset\")\n",
    "test_ds.save_to_disk(\"../dataset/test_dataset\")\n"
   ]
  }
 ],
 "metadata": {
  "kernelspec": {
   "display_name": "llm-pbe",
   "language": "python",
   "name": "python3"
  },
  "language_info": {
   "codemirror_mode": {
    "name": "ipython",
    "version": 3
   },
   "file_extension": ".py",
   "mimetype": "text/x-python",
   "name": "python",
   "nbconvert_exporter": "python",
   "pygments_lexer": "ipython3",
   "version": "3.10.14"
  }
 },
 "nbformat": 4,
 "nbformat_minor": 2
}
